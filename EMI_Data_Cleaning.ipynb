{
  "cells": [
    {
      "cell_type": "code",
      "execution_count": 1,
      "metadata": {
        "colab": {
          "base_uri": "https://localhost:8080/",
          "height": 198
        },
        "id": "cu3wbvGx4APu",
        "outputId": "3e22fd0a-6fc0-47d7-8d7f-7c85a3a0063d"
      },
      "outputs": [
        {
          "name": "stderr",
          "output_type": "stream",
          "text": [
            "/var/folders/dq/gcp3r5b912169kz3hx5tbb4r0000gn/T/ipykernel_10456/3271132675.py:8: DtypeWarning: Columns (0) have mixed types. Specify dtype option on import or set low_memory=False.\n",
            "  df=pd.read_csv('emi_prediction_dataset.csv')\n"
          ]
        },
        {
          "data": {
            "text/html": [
              "<div>\n",
              "<style scoped>\n",
              "    .dataframe tbody tr th:only-of-type {\n",
              "        vertical-align: middle;\n",
              "    }\n",
              "\n",
              "    .dataframe tbody tr th {\n",
              "        vertical-align: top;\n",
              "    }\n",
              "\n",
              "    .dataframe thead th {\n",
              "        text-align: right;\n",
              "    }\n",
              "</style>\n",
              "<table border=\"1\" class=\"dataframe\">\n",
              "  <thead>\n",
              "    <tr style=\"text-align: right;\">\n",
              "      <th></th>\n",
              "      <th>age</th>\n",
              "      <th>gender</th>\n",
              "      <th>marital_status</th>\n",
              "      <th>education</th>\n",
              "      <th>monthly_salary</th>\n",
              "      <th>employment_type</th>\n",
              "      <th>years_of_employment</th>\n",
              "      <th>company_type</th>\n",
              "      <th>house_type</th>\n",
              "      <th>monthly_rent</th>\n",
              "      <th>family_size</th>\n",
              "      <th>dependents</th>\n",
              "      <th>school_fees</th>\n",
              "      <th>college_fees</th>\n",
              "      <th>travel_expenses</th>\n",
              "      <th>groceries_utilities</th>\n",
              "      <th>other_monthly_expenses</th>\n",
              "      <th>existing_loans</th>\n",
              "      <th>current_emi_amount</th>\n",
              "      <th>credit_score</th>\n",
              "      <th>bank_balance</th>\n",
              "      <th>emergency_fund</th>\n",
              "      <th>emi_scenario</th>\n",
              "      <th>requested_amount</th>\n",
              "      <th>requested_tenure</th>\n",
              "      <th>emi_eligibility</th>\n",
              "      <th>max_monthly_emi</th>\n",
              "    </tr>\n",
              "  </thead>\n",
              "  <tbody>\n",
              "    <tr>\n",
              "      <th>0</th>\n",
              "      <td>38.0</td>\n",
              "      <td>Female</td>\n",
              "      <td>Married</td>\n",
              "      <td>Professional</td>\n",
              "      <td>82600.0</td>\n",
              "      <td>Private</td>\n",
              "      <td>0.9</td>\n",
              "      <td>Mid-size</td>\n",
              "      <td>Rented</td>\n",
              "      <td>20000.0</td>\n",
              "      <td>3</td>\n",
              "      <td>2</td>\n",
              "      <td>0.0</td>\n",
              "      <td>0.0</td>\n",
              "      <td>7200.0</td>\n",
              "      <td>19500.0</td>\n",
              "      <td>13200.0</td>\n",
              "      <td>Yes</td>\n",
              "      <td>23700.0</td>\n",
              "      <td>660.0</td>\n",
              "      <td>303200.0</td>\n",
              "      <td>70200.0</td>\n",
              "      <td>Personal Loan EMI</td>\n",
              "      <td>850000.0</td>\n",
              "      <td>15</td>\n",
              "      <td>Not_Eligible</td>\n",
              "      <td>500.0</td>\n",
              "    </tr>\n",
              "    <tr>\n",
              "      <th>1</th>\n",
              "      <td>38.0</td>\n",
              "      <td>Female</td>\n",
              "      <td>Married</td>\n",
              "      <td>Graduate</td>\n",
              "      <td>21500.0</td>\n",
              "      <td>Private</td>\n",
              "      <td>7.0</td>\n",
              "      <td>MNC</td>\n",
              "      <td>Family</td>\n",
              "      <td>0.0</td>\n",
              "      <td>2</td>\n",
              "      <td>1</td>\n",
              "      <td>5100.0</td>\n",
              "      <td>0.0</td>\n",
              "      <td>1400.0</td>\n",
              "      <td>5400.0</td>\n",
              "      <td>3500.0</td>\n",
              "      <td>Yes</td>\n",
              "      <td>4100.0</td>\n",
              "      <td>714.0</td>\n",
              "      <td>92500.0</td>\n",
              "      <td>26900.0</td>\n",
              "      <td>E-commerce Shopping EMI</td>\n",
              "      <td>128000.0</td>\n",
              "      <td>19</td>\n",
              "      <td>Not_Eligible</td>\n",
              "      <td>700.0</td>\n",
              "    </tr>\n",
              "    <tr>\n",
              "      <th>2</th>\n",
              "      <td>38.0</td>\n",
              "      <td>Male</td>\n",
              "      <td>Married</td>\n",
              "      <td>Professional</td>\n",
              "      <td>86100.0</td>\n",
              "      <td>Private</td>\n",
              "      <td>5.8</td>\n",
              "      <td>Startup</td>\n",
              "      <td>Own</td>\n",
              "      <td>0.0</td>\n",
              "      <td>4</td>\n",
              "      <td>3</td>\n",
              "      <td>0.0</td>\n",
              "      <td>0.0</td>\n",
              "      <td>10200.0</td>\n",
              "      <td>19400.0</td>\n",
              "      <td>6000.0</td>\n",
              "      <td>No</td>\n",
              "      <td>0.0</td>\n",
              "      <td>650.0</td>\n",
              "      <td>672100.0</td>\n",
              "      <td>324200.0</td>\n",
              "      <td>Education EMI</td>\n",
              "      <td>306000.0</td>\n",
              "      <td>16</td>\n",
              "      <td>Eligible</td>\n",
              "      <td>27775.0</td>\n",
              "    </tr>\n",
              "    <tr>\n",
              "      <th>3</th>\n",
              "      <td>58.0</td>\n",
              "      <td>Female</td>\n",
              "      <td>Married</td>\n",
              "      <td>High School</td>\n",
              "      <td>66800.0</td>\n",
              "      <td>Private</td>\n",
              "      <td>2.2</td>\n",
              "      <td>Mid-size</td>\n",
              "      <td>Own</td>\n",
              "      <td>0.0</td>\n",
              "      <td>5</td>\n",
              "      <td>4</td>\n",
              "      <td>11400.0</td>\n",
              "      <td>0.0</td>\n",
              "      <td>6200.0</td>\n",
              "      <td>11900.0</td>\n",
              "      <td>7900.0</td>\n",
              "      <td>No</td>\n",
              "      <td>0.0</td>\n",
              "      <td>685.0</td>\n",
              "      <td>440900.0</td>\n",
              "      <td>178100.0</td>\n",
              "      <td>Vehicle EMI</td>\n",
              "      <td>304000.0</td>\n",
              "      <td>83</td>\n",
              "      <td>Eligible</td>\n",
              "      <td>16170.0</td>\n",
              "    </tr>\n",
              "    <tr>\n",
              "      <th>4</th>\n",
              "      <td>48.0</td>\n",
              "      <td>Female</td>\n",
              "      <td>Married</td>\n",
              "      <td>Professional</td>\n",
              "      <td>57300.0</td>\n",
              "      <td>Private</td>\n",
              "      <td>3.4</td>\n",
              "      <td>Mid-size</td>\n",
              "      <td>Family</td>\n",
              "      <td>0.0</td>\n",
              "      <td>4</td>\n",
              "      <td>3</td>\n",
              "      <td>9400.0</td>\n",
              "      <td>21300.0</td>\n",
              "      <td>3600.0</td>\n",
              "      <td>16200.0</td>\n",
              "      <td>8100.0</td>\n",
              "      <td>No</td>\n",
              "      <td>0.0</td>\n",
              "      <td>770.0</td>\n",
              "      <td>97300.0</td>\n",
              "      <td>28200.0</td>\n",
              "      <td>Home Appliances EMI</td>\n",
              "      <td>252000.0</td>\n",
              "      <td>7</td>\n",
              "      <td>Not_Eligible</td>\n",
              "      <td>500.0</td>\n",
              "    </tr>\n",
              "    <tr>\n",
              "      <th>...</th>\n",
              "      <td>...</td>\n",
              "      <td>...</td>\n",
              "      <td>...</td>\n",
              "      <td>...</td>\n",
              "      <td>...</td>\n",
              "      <td>...</td>\n",
              "      <td>...</td>\n",
              "      <td>...</td>\n",
              "      <td>...</td>\n",
              "      <td>...</td>\n",
              "      <td>...</td>\n",
              "      <td>...</td>\n",
              "      <td>...</td>\n",
              "      <td>...</td>\n",
              "      <td>...</td>\n",
              "      <td>...</td>\n",
              "      <td>...</td>\n",
              "      <td>...</td>\n",
              "      <td>...</td>\n",
              "      <td>...</td>\n",
              "      <td>...</td>\n",
              "      <td>...</td>\n",
              "      <td>...</td>\n",
              "      <td>...</td>\n",
              "      <td>...</td>\n",
              "      <td>...</td>\n",
              "      <td>...</td>\n",
              "    </tr>\n",
              "    <tr>\n",
              "      <th>404795</th>\n",
              "      <td>27.0</td>\n",
              "      <td>Male</td>\n",
              "      <td>Married</td>\n",
              "      <td>Graduate</td>\n",
              "      <td>32400.0</td>\n",
              "      <td>Private</td>\n",
              "      <td>5.0</td>\n",
              "      <td>Large Indian</td>\n",
              "      <td>Rented</td>\n",
              "      <td>10400.0</td>\n",
              "      <td>4</td>\n",
              "      <td>3</td>\n",
              "      <td>2800.0</td>\n",
              "      <td>7000.0</td>\n",
              "      <td>2200.0</td>\n",
              "      <td>4900.0</td>\n",
              "      <td>6100.0</td>\n",
              "      <td>No</td>\n",
              "      <td>0.0</td>\n",
              "      <td>649.0</td>\n",
              "      <td>62000.0</td>\n",
              "      <td>32600.0</td>\n",
              "      <td>Personal Loan EMI</td>\n",
              "      <td>506000.0</td>\n",
              "      <td>47</td>\n",
              "      <td>Not_Eligible</td>\n",
              "      <td>500.0</td>\n",
              "    </tr>\n",
              "    <tr>\n",
              "      <th>404796</th>\n",
              "      <td>38.0</td>\n",
              "      <td>Male</td>\n",
              "      <td>Married</td>\n",
              "      <td>Post Graduate</td>\n",
              "      <td>49200.0</td>\n",
              "      <td>Private</td>\n",
              "      <td>1.9</td>\n",
              "      <td>MNC</td>\n",
              "      <td>Own</td>\n",
              "      <td>0.0</td>\n",
              "      <td>5</td>\n",
              "      <td>4</td>\n",
              "      <td>14000.0</td>\n",
              "      <td>0.0</td>\n",
              "      <td>2600.0</td>\n",
              "      <td>13600.0</td>\n",
              "      <td>8600.0</td>\n",
              "      <td>No</td>\n",
              "      <td>0.0</td>\n",
              "      <td>712.0</td>\n",
              "      <td>142200.0</td>\n",
              "      <td>38100.0</td>\n",
              "      <td>Personal Loan EMI</td>\n",
              "      <td>708000.0</td>\n",
              "      <td>33</td>\n",
              "      <td>Not_Eligible</td>\n",
              "      <td>5200.0</td>\n",
              "    </tr>\n",
              "    <tr>\n",
              "      <th>404797</th>\n",
              "      <td>32.0</td>\n",
              "      <td>Male</td>\n",
              "      <td>Single</td>\n",
              "      <td>Graduate</td>\n",
              "      <td>25700.0</td>\n",
              "      <td>Private</td>\n",
              "      <td>3.2</td>\n",
              "      <td>MNC</td>\n",
              "      <td>Rented</td>\n",
              "      <td>6300.0</td>\n",
              "      <td>1</td>\n",
              "      <td>0</td>\n",
              "      <td>0.0</td>\n",
              "      <td>0.0</td>\n",
              "      <td>2000.0</td>\n",
              "      <td>4600.0</td>\n",
              "      <td>2500.0</td>\n",
              "      <td>No</td>\n",
              "      <td>0.0</td>\n",
              "      <td>676.0</td>\n",
              "      <td>191600.0</td>\n",
              "      <td>39700.0</td>\n",
              "      <td>Home Appliances EMI</td>\n",
              "      <td>93000.0</td>\n",
              "      <td>21</td>\n",
              "      <td>High_Risk</td>\n",
              "      <td>5665.0</td>\n",
              "    </tr>\n",
              "    <tr>\n",
              "      <th>404798</th>\n",
              "      <td>48.0</td>\n",
              "      <td>Male</td>\n",
              "      <td>Married</td>\n",
              "      <td>Graduate</td>\n",
              "      <td>47200.0</td>\n",
              "      <td>Private</td>\n",
              "      <td>3.0</td>\n",
              "      <td>MNC</td>\n",
              "      <td>Own</td>\n",
              "      <td>0.0</td>\n",
              "      <td>4</td>\n",
              "      <td>3</td>\n",
              "      <td>0.0</td>\n",
              "      <td>0.0</td>\n",
              "      <td>7000.0</td>\n",
              "      <td>8900.0</td>\n",
              "      <td>7200.0</td>\n",
              "      <td>No</td>\n",
              "      <td>0.0</td>\n",
              "      <td>784.0</td>\n",
              "      <td>170400.0</td>\n",
              "      <td>45600.0</td>\n",
              "      <td>Home Appliances EMI</td>\n",
              "      <td>144000.0</td>\n",
              "      <td>36</td>\n",
              "      <td>Eligible</td>\n",
              "      <td>14460.0</td>\n",
              "    </tr>\n",
              "    <tr>\n",
              "      <th>404799</th>\n",
              "      <td>38.0</td>\n",
              "      <td>FEMALE</td>\n",
              "      <td>Married</td>\n",
              "      <td>Graduate</td>\n",
              "      <td>34900.0</td>\n",
              "      <td>Private</td>\n",
              "      <td>1.2</td>\n",
              "      <td>MNC</td>\n",
              "      <td>Family</td>\n",
              "      <td>0.0</td>\n",
              "      <td>2</td>\n",
              "      <td>1</td>\n",
              "      <td>0.0</td>\n",
              "      <td>0.0</td>\n",
              "      <td>4800.0</td>\n",
              "      <td>8100.0</td>\n",
              "      <td>2100.0</td>\n",
              "      <td>No</td>\n",
              "      <td>0.0</td>\n",
              "      <td>641.0</td>\n",
              "      <td>214400.0</td>\n",
              "      <td>99400.0</td>\n",
              "      <td>Home Appliances EMI</td>\n",
              "      <td>77000.0</td>\n",
              "      <td>35</td>\n",
              "      <td>Eligible</td>\n",
              "      <td>8756.0</td>\n",
              "    </tr>\n",
              "  </tbody>\n",
              "</table>\n",
              "<p>404800 rows × 27 columns</p>\n",
              "</div>"
            ],
            "text/plain": [
              "         age  gender marital_status      education monthly_salary  \\\n",
              "0       38.0  Female        Married   Professional        82600.0   \n",
              "1       38.0  Female        Married       Graduate        21500.0   \n",
              "2       38.0    Male        Married   Professional        86100.0   \n",
              "3       58.0  Female        Married    High School        66800.0   \n",
              "4       48.0  Female        Married   Professional        57300.0   \n",
              "...      ...     ...            ...            ...            ...   \n",
              "404795  27.0    Male        Married       Graduate        32400.0   \n",
              "404796  38.0    Male        Married  Post Graduate        49200.0   \n",
              "404797  32.0    Male         Single       Graduate        25700.0   \n",
              "404798  48.0    Male        Married       Graduate        47200.0   \n",
              "404799  38.0  FEMALE        Married       Graduate        34900.0   \n",
              "\n",
              "       employment_type  years_of_employment  company_type house_type  \\\n",
              "0              Private                  0.9      Mid-size     Rented   \n",
              "1              Private                  7.0           MNC     Family   \n",
              "2              Private                  5.8       Startup        Own   \n",
              "3              Private                  2.2      Mid-size        Own   \n",
              "4              Private                  3.4      Mid-size     Family   \n",
              "...                ...                  ...           ...        ...   \n",
              "404795         Private                  5.0  Large Indian     Rented   \n",
              "404796         Private                  1.9           MNC        Own   \n",
              "404797         Private                  3.2           MNC     Rented   \n",
              "404798         Private                  3.0           MNC        Own   \n",
              "404799         Private                  1.2           MNC     Family   \n",
              "\n",
              "        monthly_rent  family_size  dependents  school_fees  college_fees  \\\n",
              "0            20000.0            3           2          0.0           0.0   \n",
              "1                0.0            2           1       5100.0           0.0   \n",
              "2                0.0            4           3          0.0           0.0   \n",
              "3                0.0            5           4      11400.0           0.0   \n",
              "4                0.0            4           3       9400.0       21300.0   \n",
              "...              ...          ...         ...          ...           ...   \n",
              "404795       10400.0            4           3       2800.0        7000.0   \n",
              "404796           0.0            5           4      14000.0           0.0   \n",
              "404797        6300.0            1           0          0.0           0.0   \n",
              "404798           0.0            4           3          0.0           0.0   \n",
              "404799           0.0            2           1          0.0           0.0   \n",
              "\n",
              "        travel_expenses  groceries_utilities  other_monthly_expenses  \\\n",
              "0                7200.0              19500.0                 13200.0   \n",
              "1                1400.0               5400.0                  3500.0   \n",
              "2               10200.0              19400.0                  6000.0   \n",
              "3                6200.0              11900.0                  7900.0   \n",
              "4                3600.0              16200.0                  8100.0   \n",
              "...                 ...                  ...                     ...   \n",
              "404795           2200.0               4900.0                  6100.0   \n",
              "404796           2600.0              13600.0                  8600.0   \n",
              "404797           2000.0               4600.0                  2500.0   \n",
              "404798           7000.0               8900.0                  7200.0   \n",
              "404799           4800.0               8100.0                  2100.0   \n",
              "\n",
              "       existing_loans  current_emi_amount  credit_score bank_balance  \\\n",
              "0                 Yes             23700.0         660.0     303200.0   \n",
              "1                 Yes              4100.0         714.0      92500.0   \n",
              "2                  No                 0.0         650.0     672100.0   \n",
              "3                  No                 0.0         685.0     440900.0   \n",
              "4                  No                 0.0         770.0      97300.0   \n",
              "...               ...                 ...           ...          ...   \n",
              "404795             No                 0.0         649.0      62000.0   \n",
              "404796             No                 0.0         712.0     142200.0   \n",
              "404797             No                 0.0         676.0     191600.0   \n",
              "404798             No                 0.0         784.0     170400.0   \n",
              "404799             No                 0.0         641.0     214400.0   \n",
              "\n",
              "        emergency_fund             emi_scenario  requested_amount  \\\n",
              "0              70200.0        Personal Loan EMI          850000.0   \n",
              "1              26900.0  E-commerce Shopping EMI          128000.0   \n",
              "2             324200.0            Education EMI          306000.0   \n",
              "3             178100.0              Vehicle EMI          304000.0   \n",
              "4              28200.0      Home Appliances EMI          252000.0   \n",
              "...                ...                      ...               ...   \n",
              "404795         32600.0        Personal Loan EMI          506000.0   \n",
              "404796         38100.0        Personal Loan EMI          708000.0   \n",
              "404797         39700.0      Home Appliances EMI           93000.0   \n",
              "404798         45600.0      Home Appliances EMI          144000.0   \n",
              "404799         99400.0      Home Appliances EMI           77000.0   \n",
              "\n",
              "        requested_tenure emi_eligibility  max_monthly_emi  \n",
              "0                     15    Not_Eligible            500.0  \n",
              "1                     19    Not_Eligible            700.0  \n",
              "2                     16        Eligible          27775.0  \n",
              "3                     83        Eligible          16170.0  \n",
              "4                      7    Not_Eligible            500.0  \n",
              "...                  ...             ...              ...  \n",
              "404795                47    Not_Eligible            500.0  \n",
              "404796                33    Not_Eligible           5200.0  \n",
              "404797                21       High_Risk           5665.0  \n",
              "404798                36        Eligible          14460.0  \n",
              "404799                35        Eligible           8756.0  \n",
              "\n",
              "[404800 rows x 27 columns]"
            ]
          },
          "execution_count": 1,
          "metadata": {},
          "output_type": "execute_result"
        }
      ],
      "source": [
        "import pandas as pd\n",
        "import numpy as np\n",
        "from matplotlib import pyplot as plt\n",
        "\n",
        "pd.set_option('display.max_columns', None)\n",
        "# pd.set_option('display.max_rows', None)\n",
        "\n",
        "df=pd.read_csv('emi_prediction_dataset.csv')\n",
        "df"
      ]
    },
    {
      "cell_type": "code",
      "execution_count": 2,
      "metadata": {
        "id": "SF6P5Tix4lFe"
      },
      "outputs": [
        {
          "name": "stdout",
          "output_type": "stream",
          "text": [
            "<class 'pandas.core.frame.DataFrame'>\n",
            "RangeIndex: 404800 entries, 0 to 404799\n",
            "Data columns (total 27 columns):\n",
            " #   Column                  Non-Null Count   Dtype  \n",
            "---  ------                  --------------   -----  \n",
            " 0   age                     404800 non-null  object \n",
            " 1   gender                  404800 non-null  object \n",
            " 2   marital_status          404800 non-null  object \n",
            " 3   education               402396 non-null  object \n",
            " 4   monthly_salary          404800 non-null  object \n",
            " 5   employment_type         404800 non-null  object \n",
            " 6   years_of_employment     404800 non-null  float64\n",
            " 7   company_type            404800 non-null  object \n",
            " 8   house_type              404800 non-null  object \n",
            " 9   monthly_rent            402374 non-null  float64\n",
            " 10  family_size             404800 non-null  int64  \n",
            " 11  dependents              404800 non-null  int64  \n",
            " 12  school_fees             404800 non-null  float64\n",
            " 13  college_fees            404800 non-null  float64\n",
            " 14  travel_expenses         404800 non-null  float64\n",
            " 15  groceries_utilities     404800 non-null  float64\n",
            " 16  other_monthly_expenses  404800 non-null  float64\n",
            " 17  existing_loans          404800 non-null  object \n",
            " 18  current_emi_amount      404800 non-null  float64\n",
            " 19  credit_score            402380 non-null  float64\n",
            " 20  bank_balance            402374 non-null  object \n",
            " 21  emergency_fund          402449 non-null  float64\n",
            " 22  emi_scenario            404800 non-null  object \n",
            " 23  requested_amount        404800 non-null  float64\n",
            " 24  requested_tenure        404800 non-null  int64  \n",
            " 25  emi_eligibility         404800 non-null  object \n",
            " 26  max_monthly_emi         404800 non-null  float64\n",
            "dtypes: float64(12), int64(3), object(12)\n",
            "memory usage: 83.4+ MB\n"
          ]
        }
      ],
      "source": [
        "df.info()"
      ]
    },
    {
      "cell_type": "code",
      "execution_count": 3,
      "metadata": {
        "id": "AblTvw485IKk"
      },
      "outputs": [
        {
          "data": {
            "text/plain": [
              "age                          0\n",
              "gender                       0\n",
              "marital_status               0\n",
              "education                 2404\n",
              "monthly_salary               0\n",
              "employment_type              0\n",
              "years_of_employment          0\n",
              "company_type                 0\n",
              "house_type                   0\n",
              "monthly_rent              2426\n",
              "family_size                  0\n",
              "dependents                   0\n",
              "school_fees                  0\n",
              "college_fees                 0\n",
              "travel_expenses              0\n",
              "groceries_utilities          0\n",
              "other_monthly_expenses       0\n",
              "existing_loans               0\n",
              "current_emi_amount           0\n",
              "credit_score              2420\n",
              "bank_balance              2426\n",
              "emergency_fund            2351\n",
              "emi_scenario                 0\n",
              "requested_amount             0\n",
              "requested_tenure             0\n",
              "emi_eligibility              0\n",
              "max_monthly_emi              0\n",
              "dtype: int64"
            ]
          },
          "execution_count": 3,
          "metadata": {},
          "output_type": "execute_result"
        }
      ],
      "source": [
        "df.isnull().sum()"
      ]
    },
    {
      "cell_type": "code",
      "execution_count": 4,
      "metadata": {
        "id": "Hgp-_v9H1xgy"
      },
      "outputs": [
        {
          "data": {
            "text/html": [
              "<div>\n",
              "<style scoped>\n",
              "    .dataframe tbody tr th:only-of-type {\n",
              "        vertical-align: middle;\n",
              "    }\n",
              "\n",
              "    .dataframe tbody tr th {\n",
              "        vertical-align: top;\n",
              "    }\n",
              "\n",
              "    .dataframe thead th {\n",
              "        text-align: right;\n",
              "    }\n",
              "</style>\n",
              "<table border=\"1\" class=\"dataframe\">\n",
              "  <thead>\n",
              "    <tr style=\"text-align: right;\">\n",
              "      <th></th>\n",
              "      <th>years_of_employment</th>\n",
              "      <th>monthly_rent</th>\n",
              "      <th>family_size</th>\n",
              "      <th>dependents</th>\n",
              "      <th>school_fees</th>\n",
              "      <th>college_fees</th>\n",
              "      <th>travel_expenses</th>\n",
              "      <th>groceries_utilities</th>\n",
              "      <th>other_monthly_expenses</th>\n",
              "      <th>current_emi_amount</th>\n",
              "      <th>credit_score</th>\n",
              "      <th>emergency_fund</th>\n",
              "      <th>requested_amount</th>\n",
              "      <th>requested_tenure</th>\n",
              "      <th>max_monthly_emi</th>\n",
              "    </tr>\n",
              "  </thead>\n",
              "  <tbody>\n",
              "    <tr>\n",
              "      <th>count</th>\n",
              "      <td>404800.000000</td>\n",
              "      <td>402374.000000</td>\n",
              "      <td>404800.000000</td>\n",
              "      <td>404800.000000</td>\n",
              "      <td>404800.000000</td>\n",
              "      <td>404800.000000</td>\n",
              "      <td>404800.000000</td>\n",
              "      <td>404800.000000</td>\n",
              "      <td>404800.000000</td>\n",
              "      <td>404800.000000</td>\n",
              "      <td>402380.000000</td>\n",
              "      <td>402449.000000</td>\n",
              "      <td>4.048000e+05</td>\n",
              "      <td>404800.000000</td>\n",
              "      <td>404800.000000</td>\n",
              "    </tr>\n",
              "    <tr>\n",
              "      <th>mean</th>\n",
              "      <td>5.364079</td>\n",
              "      <td>5828.446490</td>\n",
              "      <td>2.940425</td>\n",
              "      <td>1.940425</td>\n",
              "      <td>4624.575593</td>\n",
              "      <td>4066.253706</td>\n",
              "      <td>5687.497777</td>\n",
              "      <td>12804.999506</td>\n",
              "      <td>7119.309783</td>\n",
              "      <td>4543.407609</td>\n",
              "      <td>700.856223</td>\n",
              "      <td>96769.051731</td>\n",
              "      <td>3.708554e+05</td>\n",
              "      <td>29.126677</td>\n",
              "      <td>6763.602156</td>\n",
              "    </tr>\n",
              "    <tr>\n",
              "      <th>std</th>\n",
              "      <td>6.079135</td>\n",
              "      <td>8648.604639</td>\n",
              "      <td>1.075199</td>\n",
              "      <td>1.075199</td>\n",
              "      <td>5061.074401</td>\n",
              "      <td>7319.344289</td>\n",
              "      <td>3392.671132</td>\n",
              "      <td>6993.853745</td>\n",
              "      <td>4510.447300</td>\n",
              "      <td>7034.901139</td>\n",
              "      <td>88.435548</td>\n",
              "      <td>81373.053976</td>\n",
              "      <td>3.451945e+05</td>\n",
              "      <td>18.100854</td>\n",
              "      <td>7741.263317</td>\n",
              "    </tr>\n",
              "    <tr>\n",
              "      <th>min</th>\n",
              "      <td>0.500000</td>\n",
              "      <td>0.000000</td>\n",
              "      <td>1.000000</td>\n",
              "      <td>0.000000</td>\n",
              "      <td>0.000000</td>\n",
              "      <td>0.000000</td>\n",
              "      <td>600.000000</td>\n",
              "      <td>1800.000000</td>\n",
              "      <td>600.000000</td>\n",
              "      <td>0.000000</td>\n",
              "      <td>0.000000</td>\n",
              "      <td>1400.000000</td>\n",
              "      <td>1.000000e+04</td>\n",
              "      <td>3.000000</td>\n",
              "      <td>500.000000</td>\n",
              "    </tr>\n",
              "    <tr>\n",
              "      <th>25%</th>\n",
              "      <td>1.200000</td>\n",
              "      <td>0.000000</td>\n",
              "      <td>2.000000</td>\n",
              "      <td>1.000000</td>\n",
              "      <td>0.000000</td>\n",
              "      <td>0.000000</td>\n",
              "      <td>3200.000000</td>\n",
              "      <td>7700.000000</td>\n",
              "      <td>3800.000000</td>\n",
              "      <td>0.000000</td>\n",
              "      <td>654.000000</td>\n",
              "      <td>38400.000000</td>\n",
              "      <td>1.240000e+05</td>\n",
              "      <td>15.000000</td>\n",
              "      <td>500.000000</td>\n",
              "    </tr>\n",
              "    <tr>\n",
              "      <th>50%</th>\n",
              "      <td>3.200000</td>\n",
              "      <td>0.000000</td>\n",
              "      <td>3.000000</td>\n",
              "      <td>2.000000</td>\n",
              "      <td>3000.000000</td>\n",
              "      <td>0.000000</td>\n",
              "      <td>4900.000000</td>\n",
              "      <td>11400.000000</td>\n",
              "      <td>6000.000000</td>\n",
              "      <td>0.000000</td>\n",
              "      <td>701.000000</td>\n",
              "      <td>74000.000000</td>\n",
              "      <td>2.360000e+05</td>\n",
              "      <td>25.000000</td>\n",
              "      <td>4211.200000</td>\n",
              "    </tr>\n",
              "    <tr>\n",
              "      <th>75%</th>\n",
              "      <td>7.200000</td>\n",
              "      <td>10600.000000</td>\n",
              "      <td>4.000000</td>\n",
              "      <td>3.000000</td>\n",
              "      <td>9000.000000</td>\n",
              "      <td>6500.000000</td>\n",
              "      <td>7400.000000</td>\n",
              "      <td>16400.000000</td>\n",
              "      <td>9300.000000</td>\n",
              "      <td>8000.000000</td>\n",
              "      <td>748.000000</td>\n",
              "      <td>130600.000000</td>\n",
              "      <td>4.940000e+05</td>\n",
              "      <td>40.000000</td>\n",
              "      <td>9792.000000</td>\n",
              "    </tr>\n",
              "    <tr>\n",
              "      <th>max</th>\n",
              "      <td>36.000000</td>\n",
              "      <td>80000.000000</td>\n",
              "      <td>5.000000</td>\n",
              "      <td>4.000000</td>\n",
              "      <td>15000.000000</td>\n",
              "      <td>25000.000000</td>\n",
              "      <td>30300.000000</td>\n",
              "      <td>71200.000000</td>\n",
              "      <td>42900.000000</td>\n",
              "      <td>56300.000000</td>\n",
              "      <td>1200.000000</td>\n",
              "      <td>891500.000000</td>\n",
              "      <td>1.500000e+06</td>\n",
              "      <td>84.000000</td>\n",
              "      <td>91040.400000</td>\n",
              "    </tr>\n",
              "  </tbody>\n",
              "</table>\n",
              "</div>"
            ],
            "text/plain": [
              "       years_of_employment   monthly_rent    family_size     dependents  \\\n",
              "count        404800.000000  402374.000000  404800.000000  404800.000000   \n",
              "mean              5.364079    5828.446490       2.940425       1.940425   \n",
              "std               6.079135    8648.604639       1.075199       1.075199   \n",
              "min               0.500000       0.000000       1.000000       0.000000   \n",
              "25%               1.200000       0.000000       2.000000       1.000000   \n",
              "50%               3.200000       0.000000       3.000000       2.000000   \n",
              "75%               7.200000   10600.000000       4.000000       3.000000   \n",
              "max              36.000000   80000.000000       5.000000       4.000000   \n",
              "\n",
              "         school_fees   college_fees  travel_expenses  groceries_utilities  \\\n",
              "count  404800.000000  404800.000000    404800.000000        404800.000000   \n",
              "mean     4624.575593    4066.253706      5687.497777         12804.999506   \n",
              "std      5061.074401    7319.344289      3392.671132          6993.853745   \n",
              "min         0.000000       0.000000       600.000000          1800.000000   \n",
              "25%         0.000000       0.000000      3200.000000          7700.000000   \n",
              "50%      3000.000000       0.000000      4900.000000         11400.000000   \n",
              "75%      9000.000000    6500.000000      7400.000000         16400.000000   \n",
              "max     15000.000000   25000.000000     30300.000000         71200.000000   \n",
              "\n",
              "       other_monthly_expenses  current_emi_amount   credit_score  \\\n",
              "count           404800.000000       404800.000000  402380.000000   \n",
              "mean              7119.309783         4543.407609     700.856223   \n",
              "std               4510.447300         7034.901139      88.435548   \n",
              "min                600.000000            0.000000       0.000000   \n",
              "25%               3800.000000            0.000000     654.000000   \n",
              "50%               6000.000000            0.000000     701.000000   \n",
              "75%               9300.000000         8000.000000     748.000000   \n",
              "max              42900.000000        56300.000000    1200.000000   \n",
              "\n",
              "       emergency_fund  requested_amount  requested_tenure  max_monthly_emi  \n",
              "count   402449.000000      4.048000e+05     404800.000000    404800.000000  \n",
              "mean     96769.051731      3.708554e+05         29.126677      6763.602156  \n",
              "std      81373.053976      3.451945e+05         18.100854      7741.263317  \n",
              "min       1400.000000      1.000000e+04          3.000000       500.000000  \n",
              "25%      38400.000000      1.240000e+05         15.000000       500.000000  \n",
              "50%      74000.000000      2.360000e+05         25.000000      4211.200000  \n",
              "75%     130600.000000      4.940000e+05         40.000000      9792.000000  \n",
              "max     891500.000000      1.500000e+06         84.000000     91040.400000  "
            ]
          },
          "execution_count": 4,
          "metadata": {},
          "output_type": "execute_result"
        }
      ],
      "source": [
        "df.describe()"
      ]
    },
    {
      "cell_type": "code",
      "execution_count": 5,
      "metadata": {
        "id": "uiIsDFkvCxLh"
      },
      "outputs": [
        {
          "data": {
            "text/plain": [
              "array([38.0, 58.0, 48.0, 32.0, 27.0, 47.0, 37.0, 31.0, 59.0, 49.0, 33.0,\n",
              "       26.0, 39.0, 57.0, 28.0, '58', '38', '48', '32', '27', '37', '48.0',\n",
              "       '33', '38.0', '49', '27.0', '31', '39', '47', '59', '32.0', '58.0',\n",
              "       '57', '26', '28', '58.0.0', '39.0', '26.0', '37.0', '38.0.0',\n",
              "       '32.0.0'], dtype=object)"
            ]
          },
          "execution_count": 5,
          "metadata": {},
          "output_type": "execute_result"
        }
      ],
      "source": [
        "df['age'].unique()"
      ]
    },
    {
      "cell_type": "code",
      "execution_count": 6,
      "metadata": {
        "id": "6ldgUE4nH0JZ"
      },
      "outputs": [],
      "source": [
        "# df=df.drop(columns='age')"
      ]
    },
    {
      "cell_type": "code",
      "execution_count": 7,
      "metadata": {
        "id": "JH84apwYIFZq"
      },
      "outputs": [
        {
          "data": {
            "text/html": [
              "<div>\n",
              "<style scoped>\n",
              "    .dataframe tbody tr th:only-of-type {\n",
              "        vertical-align: middle;\n",
              "    }\n",
              "\n",
              "    .dataframe tbody tr th {\n",
              "        vertical-align: top;\n",
              "    }\n",
              "\n",
              "    .dataframe thead th {\n",
              "        text-align: right;\n",
              "    }\n",
              "</style>\n",
              "<table border=\"1\" class=\"dataframe\">\n",
              "  <thead>\n",
              "    <tr style=\"text-align: right;\">\n",
              "      <th></th>\n",
              "      <th>age</th>\n",
              "      <th>gender</th>\n",
              "      <th>marital_status</th>\n",
              "      <th>education</th>\n",
              "      <th>monthly_salary</th>\n",
              "      <th>employment_type</th>\n",
              "      <th>years_of_employment</th>\n",
              "      <th>company_type</th>\n",
              "      <th>house_type</th>\n",
              "      <th>monthly_rent</th>\n",
              "      <th>family_size</th>\n",
              "      <th>dependents</th>\n",
              "      <th>school_fees</th>\n",
              "      <th>college_fees</th>\n",
              "      <th>travel_expenses</th>\n",
              "      <th>groceries_utilities</th>\n",
              "      <th>other_monthly_expenses</th>\n",
              "      <th>existing_loans</th>\n",
              "      <th>current_emi_amount</th>\n",
              "      <th>credit_score</th>\n",
              "      <th>bank_balance</th>\n",
              "      <th>emergency_fund</th>\n",
              "      <th>emi_scenario</th>\n",
              "      <th>requested_amount</th>\n",
              "      <th>requested_tenure</th>\n",
              "      <th>emi_eligibility</th>\n",
              "      <th>max_monthly_emi</th>\n",
              "    </tr>\n",
              "  </thead>\n",
              "  <tbody>\n",
              "    <tr>\n",
              "      <th>0</th>\n",
              "      <td>38.0</td>\n",
              "      <td>Female</td>\n",
              "      <td>Married</td>\n",
              "      <td>Professional</td>\n",
              "      <td>82600.0</td>\n",
              "      <td>Private</td>\n",
              "      <td>0.9</td>\n",
              "      <td>Mid-size</td>\n",
              "      <td>Rented</td>\n",
              "      <td>20000.0</td>\n",
              "      <td>3</td>\n",
              "      <td>2</td>\n",
              "      <td>0.0</td>\n",
              "      <td>0.0</td>\n",
              "      <td>7200.0</td>\n",
              "      <td>19500.0</td>\n",
              "      <td>13200.0</td>\n",
              "      <td>Yes</td>\n",
              "      <td>23700.0</td>\n",
              "      <td>660.0</td>\n",
              "      <td>303200.0</td>\n",
              "      <td>70200.0</td>\n",
              "      <td>Personal Loan EMI</td>\n",
              "      <td>850000.0</td>\n",
              "      <td>15</td>\n",
              "      <td>Not_Eligible</td>\n",
              "      <td>500.0</td>\n",
              "    </tr>\n",
              "    <tr>\n",
              "      <th>1</th>\n",
              "      <td>38.0</td>\n",
              "      <td>Female</td>\n",
              "      <td>Married</td>\n",
              "      <td>Graduate</td>\n",
              "      <td>21500.0</td>\n",
              "      <td>Private</td>\n",
              "      <td>7.0</td>\n",
              "      <td>MNC</td>\n",
              "      <td>Family</td>\n",
              "      <td>0.0</td>\n",
              "      <td>2</td>\n",
              "      <td>1</td>\n",
              "      <td>5100.0</td>\n",
              "      <td>0.0</td>\n",
              "      <td>1400.0</td>\n",
              "      <td>5400.0</td>\n",
              "      <td>3500.0</td>\n",
              "      <td>Yes</td>\n",
              "      <td>4100.0</td>\n",
              "      <td>714.0</td>\n",
              "      <td>92500.0</td>\n",
              "      <td>26900.0</td>\n",
              "      <td>E-commerce Shopping EMI</td>\n",
              "      <td>128000.0</td>\n",
              "      <td>19</td>\n",
              "      <td>Not_Eligible</td>\n",
              "      <td>700.0</td>\n",
              "    </tr>\n",
              "    <tr>\n",
              "      <th>2</th>\n",
              "      <td>38.0</td>\n",
              "      <td>Male</td>\n",
              "      <td>Married</td>\n",
              "      <td>Professional</td>\n",
              "      <td>86100.0</td>\n",
              "      <td>Private</td>\n",
              "      <td>5.8</td>\n",
              "      <td>Startup</td>\n",
              "      <td>Own</td>\n",
              "      <td>0.0</td>\n",
              "      <td>4</td>\n",
              "      <td>3</td>\n",
              "      <td>0.0</td>\n",
              "      <td>0.0</td>\n",
              "      <td>10200.0</td>\n",
              "      <td>19400.0</td>\n",
              "      <td>6000.0</td>\n",
              "      <td>No</td>\n",
              "      <td>0.0</td>\n",
              "      <td>650.0</td>\n",
              "      <td>672100.0</td>\n",
              "      <td>324200.0</td>\n",
              "      <td>Education EMI</td>\n",
              "      <td>306000.0</td>\n",
              "      <td>16</td>\n",
              "      <td>Eligible</td>\n",
              "      <td>27775.0</td>\n",
              "    </tr>\n",
              "    <tr>\n",
              "      <th>3</th>\n",
              "      <td>58.0</td>\n",
              "      <td>Female</td>\n",
              "      <td>Married</td>\n",
              "      <td>High School</td>\n",
              "      <td>66800.0</td>\n",
              "      <td>Private</td>\n",
              "      <td>2.2</td>\n",
              "      <td>Mid-size</td>\n",
              "      <td>Own</td>\n",
              "      <td>0.0</td>\n",
              "      <td>5</td>\n",
              "      <td>4</td>\n",
              "      <td>11400.0</td>\n",
              "      <td>0.0</td>\n",
              "      <td>6200.0</td>\n",
              "      <td>11900.0</td>\n",
              "      <td>7900.0</td>\n",
              "      <td>No</td>\n",
              "      <td>0.0</td>\n",
              "      <td>685.0</td>\n",
              "      <td>440900.0</td>\n",
              "      <td>178100.0</td>\n",
              "      <td>Vehicle EMI</td>\n",
              "      <td>304000.0</td>\n",
              "      <td>83</td>\n",
              "      <td>Eligible</td>\n",
              "      <td>16170.0</td>\n",
              "    </tr>\n",
              "    <tr>\n",
              "      <th>4</th>\n",
              "      <td>48.0</td>\n",
              "      <td>Female</td>\n",
              "      <td>Married</td>\n",
              "      <td>Professional</td>\n",
              "      <td>57300.0</td>\n",
              "      <td>Private</td>\n",
              "      <td>3.4</td>\n",
              "      <td>Mid-size</td>\n",
              "      <td>Family</td>\n",
              "      <td>0.0</td>\n",
              "      <td>4</td>\n",
              "      <td>3</td>\n",
              "      <td>9400.0</td>\n",
              "      <td>21300.0</td>\n",
              "      <td>3600.0</td>\n",
              "      <td>16200.0</td>\n",
              "      <td>8100.0</td>\n",
              "      <td>No</td>\n",
              "      <td>0.0</td>\n",
              "      <td>770.0</td>\n",
              "      <td>97300.0</td>\n",
              "      <td>28200.0</td>\n",
              "      <td>Home Appliances EMI</td>\n",
              "      <td>252000.0</td>\n",
              "      <td>7</td>\n",
              "      <td>Not_Eligible</td>\n",
              "      <td>500.0</td>\n",
              "    </tr>\n",
              "  </tbody>\n",
              "</table>\n",
              "</div>"
            ],
            "text/plain": [
              "    age  gender marital_status     education monthly_salary employment_type  \\\n",
              "0  38.0  Female        Married  Professional        82600.0         Private   \n",
              "1  38.0  Female        Married      Graduate        21500.0         Private   \n",
              "2  38.0    Male        Married  Professional        86100.0         Private   \n",
              "3  58.0  Female        Married   High School        66800.0         Private   \n",
              "4  48.0  Female        Married  Professional        57300.0         Private   \n",
              "\n",
              "   years_of_employment company_type house_type  monthly_rent  family_size  \\\n",
              "0                  0.9     Mid-size     Rented       20000.0            3   \n",
              "1                  7.0          MNC     Family           0.0            2   \n",
              "2                  5.8      Startup        Own           0.0            4   \n",
              "3                  2.2     Mid-size        Own           0.0            5   \n",
              "4                  3.4     Mid-size     Family           0.0            4   \n",
              "\n",
              "   dependents  school_fees  college_fees  travel_expenses  \\\n",
              "0           2          0.0           0.0           7200.0   \n",
              "1           1       5100.0           0.0           1400.0   \n",
              "2           3          0.0           0.0          10200.0   \n",
              "3           4      11400.0           0.0           6200.0   \n",
              "4           3       9400.0       21300.0           3600.0   \n",
              "\n",
              "   groceries_utilities  other_monthly_expenses existing_loans  \\\n",
              "0              19500.0                 13200.0            Yes   \n",
              "1               5400.0                  3500.0            Yes   \n",
              "2              19400.0                  6000.0             No   \n",
              "3              11900.0                  7900.0             No   \n",
              "4              16200.0                  8100.0             No   \n",
              "\n",
              "   current_emi_amount  credit_score bank_balance  emergency_fund  \\\n",
              "0             23700.0         660.0     303200.0         70200.0   \n",
              "1              4100.0         714.0      92500.0         26900.0   \n",
              "2                 0.0         650.0     672100.0        324200.0   \n",
              "3                 0.0         685.0     440900.0        178100.0   \n",
              "4                 0.0         770.0      97300.0         28200.0   \n",
              "\n",
              "              emi_scenario  requested_amount  requested_tenure  \\\n",
              "0        Personal Loan EMI          850000.0                15   \n",
              "1  E-commerce Shopping EMI          128000.0                19   \n",
              "2            Education EMI          306000.0                16   \n",
              "3              Vehicle EMI          304000.0                83   \n",
              "4      Home Appliances EMI          252000.0                 7   \n",
              "\n",
              "  emi_eligibility  max_monthly_emi  \n",
              "0    Not_Eligible            500.0  \n",
              "1    Not_Eligible            700.0  \n",
              "2        Eligible          27775.0  \n",
              "3        Eligible          16170.0  \n",
              "4    Not_Eligible            500.0  "
            ]
          },
          "execution_count": 7,
          "metadata": {},
          "output_type": "execute_result"
        }
      ],
      "source": [
        "df.head()"
      ]
    },
    {
      "cell_type": "code",
      "execution_count": 8,
      "metadata": {
        "id": "RtRA5a4PIKaB"
      },
      "outputs": [],
      "source": [
        "# df=df.drop(columns='marital_status')"
      ]
    },
    {
      "cell_type": "code",
      "execution_count": 9,
      "metadata": {
        "id": "XY8S2M7bIdxl"
      },
      "outputs": [
        {
          "data": {
            "text/html": [
              "<div>\n",
              "<style scoped>\n",
              "    .dataframe tbody tr th:only-of-type {\n",
              "        vertical-align: middle;\n",
              "    }\n",
              "\n",
              "    .dataframe tbody tr th {\n",
              "        vertical-align: top;\n",
              "    }\n",
              "\n",
              "    .dataframe thead th {\n",
              "        text-align: right;\n",
              "    }\n",
              "</style>\n",
              "<table border=\"1\" class=\"dataframe\">\n",
              "  <thead>\n",
              "    <tr style=\"text-align: right;\">\n",
              "      <th></th>\n",
              "      <th>age</th>\n",
              "      <th>gender</th>\n",
              "      <th>marital_status</th>\n",
              "      <th>education</th>\n",
              "      <th>monthly_salary</th>\n",
              "      <th>employment_type</th>\n",
              "      <th>years_of_employment</th>\n",
              "      <th>company_type</th>\n",
              "      <th>house_type</th>\n",
              "      <th>monthly_rent</th>\n",
              "      <th>family_size</th>\n",
              "      <th>dependents</th>\n",
              "      <th>school_fees</th>\n",
              "      <th>college_fees</th>\n",
              "      <th>travel_expenses</th>\n",
              "      <th>groceries_utilities</th>\n",
              "      <th>other_monthly_expenses</th>\n",
              "      <th>existing_loans</th>\n",
              "      <th>current_emi_amount</th>\n",
              "      <th>credit_score</th>\n",
              "      <th>bank_balance</th>\n",
              "      <th>emergency_fund</th>\n",
              "      <th>emi_scenario</th>\n",
              "      <th>requested_amount</th>\n",
              "      <th>requested_tenure</th>\n",
              "      <th>emi_eligibility</th>\n",
              "      <th>max_monthly_emi</th>\n",
              "    </tr>\n",
              "  </thead>\n",
              "  <tbody>\n",
              "    <tr>\n",
              "      <th>0</th>\n",
              "      <td>38.0</td>\n",
              "      <td>Female</td>\n",
              "      <td>Married</td>\n",
              "      <td>Professional</td>\n",
              "      <td>82600.0</td>\n",
              "      <td>Private</td>\n",
              "      <td>0.9</td>\n",
              "      <td>Mid-size</td>\n",
              "      <td>Rented</td>\n",
              "      <td>20000.0</td>\n",
              "      <td>3</td>\n",
              "      <td>2</td>\n",
              "      <td>0.0</td>\n",
              "      <td>0.0</td>\n",
              "      <td>7200.0</td>\n",
              "      <td>19500.0</td>\n",
              "      <td>13200.0</td>\n",
              "      <td>Yes</td>\n",
              "      <td>23700.0</td>\n",
              "      <td>660.0</td>\n",
              "      <td>303200.0</td>\n",
              "      <td>70200.0</td>\n",
              "      <td>Personal Loan EMI</td>\n",
              "      <td>850000.0</td>\n",
              "      <td>15</td>\n",
              "      <td>Not_Eligible</td>\n",
              "      <td>500.0</td>\n",
              "    </tr>\n",
              "    <tr>\n",
              "      <th>1</th>\n",
              "      <td>38.0</td>\n",
              "      <td>Female</td>\n",
              "      <td>Married</td>\n",
              "      <td>Graduate</td>\n",
              "      <td>21500.0</td>\n",
              "      <td>Private</td>\n",
              "      <td>7.0</td>\n",
              "      <td>MNC</td>\n",
              "      <td>Family</td>\n",
              "      <td>0.0</td>\n",
              "      <td>2</td>\n",
              "      <td>1</td>\n",
              "      <td>5100.0</td>\n",
              "      <td>0.0</td>\n",
              "      <td>1400.0</td>\n",
              "      <td>5400.0</td>\n",
              "      <td>3500.0</td>\n",
              "      <td>Yes</td>\n",
              "      <td>4100.0</td>\n",
              "      <td>714.0</td>\n",
              "      <td>92500.0</td>\n",
              "      <td>26900.0</td>\n",
              "      <td>E-commerce Shopping EMI</td>\n",
              "      <td>128000.0</td>\n",
              "      <td>19</td>\n",
              "      <td>Not_Eligible</td>\n",
              "      <td>700.0</td>\n",
              "    </tr>\n",
              "    <tr>\n",
              "      <th>2</th>\n",
              "      <td>38.0</td>\n",
              "      <td>Male</td>\n",
              "      <td>Married</td>\n",
              "      <td>Professional</td>\n",
              "      <td>86100.0</td>\n",
              "      <td>Private</td>\n",
              "      <td>5.8</td>\n",
              "      <td>Startup</td>\n",
              "      <td>Own</td>\n",
              "      <td>0.0</td>\n",
              "      <td>4</td>\n",
              "      <td>3</td>\n",
              "      <td>0.0</td>\n",
              "      <td>0.0</td>\n",
              "      <td>10200.0</td>\n",
              "      <td>19400.0</td>\n",
              "      <td>6000.0</td>\n",
              "      <td>No</td>\n",
              "      <td>0.0</td>\n",
              "      <td>650.0</td>\n",
              "      <td>672100.0</td>\n",
              "      <td>324200.0</td>\n",
              "      <td>Education EMI</td>\n",
              "      <td>306000.0</td>\n",
              "      <td>16</td>\n",
              "      <td>Eligible</td>\n",
              "      <td>27775.0</td>\n",
              "    </tr>\n",
              "    <tr>\n",
              "      <th>3</th>\n",
              "      <td>58.0</td>\n",
              "      <td>Female</td>\n",
              "      <td>Married</td>\n",
              "      <td>High School</td>\n",
              "      <td>66800.0</td>\n",
              "      <td>Private</td>\n",
              "      <td>2.2</td>\n",
              "      <td>Mid-size</td>\n",
              "      <td>Own</td>\n",
              "      <td>0.0</td>\n",
              "      <td>5</td>\n",
              "      <td>4</td>\n",
              "      <td>11400.0</td>\n",
              "      <td>0.0</td>\n",
              "      <td>6200.0</td>\n",
              "      <td>11900.0</td>\n",
              "      <td>7900.0</td>\n",
              "      <td>No</td>\n",
              "      <td>0.0</td>\n",
              "      <td>685.0</td>\n",
              "      <td>440900.0</td>\n",
              "      <td>178100.0</td>\n",
              "      <td>Vehicle EMI</td>\n",
              "      <td>304000.0</td>\n",
              "      <td>83</td>\n",
              "      <td>Eligible</td>\n",
              "      <td>16170.0</td>\n",
              "    </tr>\n",
              "    <tr>\n",
              "      <th>4</th>\n",
              "      <td>48.0</td>\n",
              "      <td>Female</td>\n",
              "      <td>Married</td>\n",
              "      <td>Professional</td>\n",
              "      <td>57300.0</td>\n",
              "      <td>Private</td>\n",
              "      <td>3.4</td>\n",
              "      <td>Mid-size</td>\n",
              "      <td>Family</td>\n",
              "      <td>0.0</td>\n",
              "      <td>4</td>\n",
              "      <td>3</td>\n",
              "      <td>9400.0</td>\n",
              "      <td>21300.0</td>\n",
              "      <td>3600.0</td>\n",
              "      <td>16200.0</td>\n",
              "      <td>8100.0</td>\n",
              "      <td>No</td>\n",
              "      <td>0.0</td>\n",
              "      <td>770.0</td>\n",
              "      <td>97300.0</td>\n",
              "      <td>28200.0</td>\n",
              "      <td>Home Appliances EMI</td>\n",
              "      <td>252000.0</td>\n",
              "      <td>7</td>\n",
              "      <td>Not_Eligible</td>\n",
              "      <td>500.0</td>\n",
              "    </tr>\n",
              "  </tbody>\n",
              "</table>\n",
              "</div>"
            ],
            "text/plain": [
              "    age  gender marital_status     education monthly_salary employment_type  \\\n",
              "0  38.0  Female        Married  Professional        82600.0         Private   \n",
              "1  38.0  Female        Married      Graduate        21500.0         Private   \n",
              "2  38.0    Male        Married  Professional        86100.0         Private   \n",
              "3  58.0  Female        Married   High School        66800.0         Private   \n",
              "4  48.0  Female        Married  Professional        57300.0         Private   \n",
              "\n",
              "   years_of_employment company_type house_type  monthly_rent  family_size  \\\n",
              "0                  0.9     Mid-size     Rented       20000.0            3   \n",
              "1                  7.0          MNC     Family           0.0            2   \n",
              "2                  5.8      Startup        Own           0.0            4   \n",
              "3                  2.2     Mid-size        Own           0.0            5   \n",
              "4                  3.4     Mid-size     Family           0.0            4   \n",
              "\n",
              "   dependents  school_fees  college_fees  travel_expenses  \\\n",
              "0           2          0.0           0.0           7200.0   \n",
              "1           1       5100.0           0.0           1400.0   \n",
              "2           3          0.0           0.0          10200.0   \n",
              "3           4      11400.0           0.0           6200.0   \n",
              "4           3       9400.0       21300.0           3600.0   \n",
              "\n",
              "   groceries_utilities  other_monthly_expenses existing_loans  \\\n",
              "0              19500.0                 13200.0            Yes   \n",
              "1               5400.0                  3500.0            Yes   \n",
              "2              19400.0                  6000.0             No   \n",
              "3              11900.0                  7900.0             No   \n",
              "4              16200.0                  8100.0             No   \n",
              "\n",
              "   current_emi_amount  credit_score bank_balance  emergency_fund  \\\n",
              "0             23700.0         660.0     303200.0         70200.0   \n",
              "1              4100.0         714.0      92500.0         26900.0   \n",
              "2                 0.0         650.0     672100.0        324200.0   \n",
              "3                 0.0         685.0     440900.0        178100.0   \n",
              "4                 0.0         770.0      97300.0         28200.0   \n",
              "\n",
              "              emi_scenario  requested_amount  requested_tenure  \\\n",
              "0        Personal Loan EMI          850000.0                15   \n",
              "1  E-commerce Shopping EMI          128000.0                19   \n",
              "2            Education EMI          306000.0                16   \n",
              "3              Vehicle EMI          304000.0                83   \n",
              "4      Home Appliances EMI          252000.0                 7   \n",
              "\n",
              "  emi_eligibility  max_monthly_emi  \n",
              "0    Not_Eligible            500.0  \n",
              "1    Not_Eligible            700.0  \n",
              "2        Eligible          27775.0  \n",
              "3        Eligible          16170.0  \n",
              "4    Not_Eligible            500.0  "
            ]
          },
          "execution_count": 9,
          "metadata": {},
          "output_type": "execute_result"
        }
      ],
      "source": [
        "df.head()"
      ]
    },
    {
      "cell_type": "code",
      "execution_count": 10,
      "metadata": {
        "id": "x_u8qYQ-Ieuz"
      },
      "outputs": [
        {
          "name": "stdout",
          "output_type": "stream",
          "text": [
            "<class 'pandas.core.frame.DataFrame'>\n",
            "RangeIndex: 404800 entries, 0 to 404799\n",
            "Data columns (total 27 columns):\n",
            " #   Column                  Non-Null Count   Dtype  \n",
            "---  ------                  --------------   -----  \n",
            " 0   age                     404800 non-null  object \n",
            " 1   gender                  404800 non-null  object \n",
            " 2   marital_status          404800 non-null  object \n",
            " 3   education               402396 non-null  object \n",
            " 4   monthly_salary          404800 non-null  object \n",
            " 5   employment_type         404800 non-null  object \n",
            " 6   years_of_employment     404800 non-null  float64\n",
            " 7   company_type            404800 non-null  object \n",
            " 8   house_type              404800 non-null  object \n",
            " 9   monthly_rent            402374 non-null  float64\n",
            " 10  family_size             404800 non-null  int64  \n",
            " 11  dependents              404800 non-null  int64  \n",
            " 12  school_fees             404800 non-null  float64\n",
            " 13  college_fees            404800 non-null  float64\n",
            " 14  travel_expenses         404800 non-null  float64\n",
            " 15  groceries_utilities     404800 non-null  float64\n",
            " 16  other_monthly_expenses  404800 non-null  float64\n",
            " 17  existing_loans          404800 non-null  object \n",
            " 18  current_emi_amount      404800 non-null  float64\n",
            " 19  credit_score            402380 non-null  float64\n",
            " 20  bank_balance            402374 non-null  object \n",
            " 21  emergency_fund          402449 non-null  float64\n",
            " 22  emi_scenario            404800 non-null  object \n",
            " 23  requested_amount        404800 non-null  float64\n",
            " 24  requested_tenure        404800 non-null  int64  \n",
            " 25  emi_eligibility         404800 non-null  object \n",
            " 26  max_monthly_emi         404800 non-null  float64\n",
            "dtypes: float64(12), int64(3), object(12)\n",
            "memory usage: 83.4+ MB\n"
          ]
        }
      ],
      "source": [
        "df.info()"
      ]
    },
    {
      "cell_type": "code",
      "execution_count": 11,
      "metadata": {
        "id": "NKEtpSGMInFQ"
      },
      "outputs": [
        {
          "data": {
            "text/plain": [
              "array(['Female', 'Male', 'female', 'male', 'M', 'MALE', 'F', 'FEMALE'],\n",
              "      dtype=object)"
            ]
          },
          "execution_count": 11,
          "metadata": {},
          "output_type": "execute_result"
        }
      ],
      "source": [
        "df['gender'].unique()"
      ]
    },
    {
      "cell_type": "code",
      "execution_count": 12,
      "metadata": {
        "id": "IQK6UegsIxWZ"
      },
      "outputs": [],
      "source": [
        "# df['gender']=df['gender'].str.replace('F,FEMALE,','female')\n",
        "gender_conversion={\n",
        "    'Female':'Female',\n",
        "    'F':'Female',\n",
        "    'female':'Female',\n",
        "    'FEMALE':'Female',\n",
        "    'Male':'Male',\n",
        "    'MALE':'Male',\n",
        "    'M':'Male',\n",
        "    'male':'Male'\n",
        "}\n",
        "df['gender']=df['gender'].map(gender_conversion)"
      ]
    },
    {
      "cell_type": "code",
      "execution_count": 13,
      "metadata": {
        "id": "mJ0C2D_0KBfu"
      },
      "outputs": [
        {
          "data": {
            "text/plain": [
              "array(['Female', 'Male'], dtype=object)"
            ]
          },
          "execution_count": 13,
          "metadata": {},
          "output_type": "execute_result"
        }
      ],
      "source": [
        "df['gender'].unique()"
      ]
    },
    {
      "cell_type": "code",
      "execution_count": 14,
      "metadata": {
        "id": "IUpAVUaNKC7b"
      },
      "outputs": [
        {
          "data": {
            "text/plain": [
              "np.int64(0)"
            ]
          },
          "execution_count": 14,
          "metadata": {},
          "output_type": "execute_result"
        }
      ],
      "source": [
        "df['gender'].isnull().sum()"
      ]
    },
    {
      "cell_type": "code",
      "execution_count": 15,
      "metadata": {
        "colab": {
          "base_uri": "https://localhost:8080/",
          "height": 144
        },
        "id": "YH56UiFlKnPo",
        "outputId": "04cc4095-6d20-442e-f6c5-42990c85bae5"
      },
      "outputs": [
        {
          "data": {
            "text/plain": [
              "array(['Professional', 'Graduate', 'High School', 'Post Graduate', nan],\n",
              "      dtype=object)"
            ]
          },
          "execution_count": 15,
          "metadata": {},
          "output_type": "execute_result"
        }
      ],
      "source": [
        "df['education'].unique()"
      ]
    },
    {
      "cell_type": "code",
      "execution_count": 16,
      "metadata": {
        "id": "dQPg0S9hLUGv"
      },
      "outputs": [
        {
          "data": {
            "text/plain": [
              "np.int64(2404)"
            ]
          },
          "execution_count": 16,
          "metadata": {},
          "output_type": "execute_result"
        }
      ],
      "source": [
        "df['education'].isnull().sum()"
      ]
    },
    {
      "cell_type": "code",
      "execution_count": 17,
      "metadata": {
        "id": "Fz_AUCjILYiU"
      },
      "outputs": [],
      "source": [
        "df['education'] = df['education'].fillna('Unknown')"
      ]
    },
    {
      "cell_type": "code",
      "execution_count": 18,
      "metadata": {
        "id": "HyjR9D7pOIIH"
      },
      "outputs": [
        {
          "data": {
            "text/plain": [
              "education\n",
              "Graduate         181015\n",
              "Post Graduate    100314\n",
              "High School       60732\n",
              "Professional      60335\n",
              "Unknown            2404\n",
              "Name: count, dtype: int64"
            ]
          },
          "execution_count": 18,
          "metadata": {},
          "output_type": "execute_result"
        }
      ],
      "source": [
        "df['education'].value_counts(dropna=False)"
      ]
    },
    {
      "cell_type": "code",
      "execution_count": 19,
      "metadata": {
        "id": "qkZviHHjQxzL"
      },
      "outputs": [
        {
          "data": {
            "text/plain": [
              "0         82600.0\n",
              "1         21500.0\n",
              "2         86100.0\n",
              "3         66800.0\n",
              "4         57300.0\n",
              "           ...   \n",
              "404795    32400.0\n",
              "404796    49200.0\n",
              "404797    25700.0\n",
              "404798    47200.0\n",
              "404799    34900.0\n",
              "Name: monthly_salary, Length: 404800, dtype: object"
            ]
          },
          "execution_count": 19,
          "metadata": {},
          "output_type": "execute_result"
        }
      ],
      "source": [
        "df['monthly_salary']"
      ]
    },
    {
      "cell_type": "code",
      "execution_count": 20,
      "metadata": {
        "id": "e15c5ed9"
      },
      "outputs": [
        {
          "name": "stdout",
          "output_type": "stream",
          "text": [
            "False\n",
            "False\n"
          ]
        }
      ],
      "source": [
        "# Check for ','\n",
        "print(df['monthly_salary'].astype(str).str.contains(',').any())\n",
        "\n",
        "# Check for '.'\n",
        "# print(df['monthly_salary'].astype(str).str.contains('\\.').any())\n",
        "\n",
        "# Check for 'rs' or '₹'\n",
        "print(df['monthly_salary'].astype(str).str.contains('rs|₹', case=False).any())"
      ]
    },
    {
      "cell_type": "code",
      "execution_count": 21,
      "metadata": {
        "id": "vZS3ib72QUop"
      },
      "outputs": [],
      "source": [
        "df['monthly_salary'] = df['monthly_salary'].astype(str).str.replace(r'\\..*', '', regex=True)"
      ]
    },
    {
      "cell_type": "code",
      "execution_count": 22,
      "metadata": {
        "id": "1VAqLmhsQ-TL"
      },
      "outputs": [],
      "source": [
        "df['monthly_salary']=pd.to_numeric(df['monthly_salary'])"
      ]
    },
    {
      "cell_type": "code",
      "execution_count": 23,
      "metadata": {
        "id": "xeyvXpBdRQgj"
      },
      "outputs": [
        {
          "data": {
            "text/plain": [
              "0         82600\n",
              "1         21500\n",
              "2         86100\n",
              "3         66800\n",
              "4         57300\n",
              "          ...  \n",
              "404795    32400\n",
              "404796    49200\n",
              "404797    25700\n",
              "404798    47200\n",
              "404799    34900\n",
              "Name: monthly_salary, Length: 404800, dtype: int64"
            ]
          },
          "execution_count": 23,
          "metadata": {},
          "output_type": "execute_result"
        }
      ],
      "source": [
        "df['monthly_salary']"
      ]
    },
    {
      "cell_type": "code",
      "execution_count": 24,
      "metadata": {
        "id": "4qxyXrMGRTjf"
      },
      "outputs": [
        {
          "data": {
            "text/plain": [
              "np.int64(0)"
            ]
          },
          "execution_count": 24,
          "metadata": {},
          "output_type": "execute_result"
        }
      ],
      "source": [
        "df['monthly_salary'].isnull().sum()"
      ]
    },
    {
      "cell_type": "code",
      "execution_count": 25,
      "metadata": {
        "id": "Fs8ic8vORXWb"
      },
      "outputs": [
        {
          "data": {
            "text/plain": [
              "array(['Private', 'Government', 'Self-employed'], dtype=object)"
            ]
          },
          "execution_count": 25,
          "metadata": {},
          "output_type": "execute_result"
        }
      ],
      "source": [
        "df['employment_type'].unique()"
      ]
    },
    {
      "cell_type": "code",
      "execution_count": 26,
      "metadata": {
        "id": "SiH-w8laedm9"
      },
      "outputs": [
        {
          "data": {
            "text/plain": [
              "0    0.9\n",
              "1    7.0\n",
              "2    5.8\n",
              "3    2.2\n",
              "4    3.4\n",
              "Name: years_of_employment, dtype: float64"
            ]
          },
          "execution_count": 26,
          "metadata": {},
          "output_type": "execute_result"
        }
      ],
      "source": [
        "df['years_of_employment'].head()"
      ]
    },
    {
      "cell_type": "code",
      "execution_count": 27,
      "metadata": {
        "id": "Zcq9wMfWemrg"
      },
      "outputs": [
        {
          "data": {
            "text/plain": [
              "np.int64(0)"
            ]
          },
          "execution_count": 27,
          "metadata": {},
          "output_type": "execute_result"
        }
      ],
      "source": [
        "df['years_of_employment'].isnull().sum()"
      ]
    },
    {
      "cell_type": "code",
      "execution_count": 28,
      "metadata": {
        "id": "YRYiPRuRe0u-"
      },
      "outputs": [
        {
          "data": {
            "text/plain": [
              "0    Mid-size\n",
              "1         MNC\n",
              "2     Startup\n",
              "3    Mid-size\n",
              "4    Mid-size\n",
              "Name: company_type, dtype: object"
            ]
          },
          "execution_count": 28,
          "metadata": {},
          "output_type": "execute_result"
        }
      ],
      "source": [
        "df['company_type'].head()"
      ]
    },
    {
      "cell_type": "code",
      "execution_count": 29,
      "metadata": {
        "id": "xBnZFpRwe9l6"
      },
      "outputs": [
        {
          "data": {
            "text/plain": [
              "array(['Mid-size', 'MNC', 'Startup', 'Large Indian', 'Small'],\n",
              "      dtype=object)"
            ]
          },
          "execution_count": 29,
          "metadata": {},
          "output_type": "execute_result"
        }
      ],
      "source": [
        "df['company_type'].unique()"
      ]
    },
    {
      "cell_type": "code",
      "execution_count": 30,
      "metadata": {
        "id": "dTbjH8X4fAoZ"
      },
      "outputs": [
        {
          "data": {
            "text/plain": [
              "np.int64(0)"
            ]
          },
          "execution_count": 30,
          "metadata": {},
          "output_type": "execute_result"
        }
      ],
      "source": [
        "df['company_type'].isnull().sum()"
      ]
    },
    {
      "cell_type": "code",
      "execution_count": 31,
      "metadata": {
        "id": "IGHBcrGcfEiA"
      },
      "outputs": [
        {
          "data": {
            "text/plain": [
              "0    Rented\n",
              "1    Family\n",
              "2       Own\n",
              "3       Own\n",
              "4    Family\n",
              "Name: house_type, dtype: object"
            ]
          },
          "execution_count": 31,
          "metadata": {},
          "output_type": "execute_result"
        }
      ],
      "source": [
        "df['house_type'].head()"
      ]
    },
    {
      "cell_type": "code",
      "execution_count": 32,
      "metadata": {
        "id": "Yqp5j8NCfI1l"
      },
      "outputs": [
        {
          "data": {
            "text/plain": [
              "array(['Rented', 'Family', 'Own'], dtype=object)"
            ]
          },
          "execution_count": 32,
          "metadata": {},
          "output_type": "execute_result"
        }
      ],
      "source": [
        "df['house_type'].unique()"
      ]
    },
    {
      "cell_type": "code",
      "execution_count": 33,
      "metadata": {
        "id": "itZnShc6fXlO"
      },
      "outputs": [
        {
          "data": {
            "text/plain": [
              "np.int64(0)"
            ]
          },
          "execution_count": 33,
          "metadata": {},
          "output_type": "execute_result"
        }
      ],
      "source": [
        "df['house_type'].isnull().sum()"
      ]
    },
    {
      "cell_type": "code",
      "execution_count": 34,
      "metadata": {
        "id": "4FBdpzpifamJ"
      },
      "outputs": [
        {
          "data": {
            "text/plain": [
              "0    20000.0\n",
              "1        0.0\n",
              "2        0.0\n",
              "3        0.0\n",
              "4        0.0\n",
              "Name: monthly_rent, dtype: float64"
            ]
          },
          "execution_count": 34,
          "metadata": {},
          "output_type": "execute_result"
        }
      ],
      "source": [
        "df['monthly_rent'].head()"
      ]
    },
    {
      "cell_type": "code",
      "execution_count": 35,
      "metadata": {
        "id": "fVSYGd9hfbxM"
      },
      "outputs": [
        {
          "data": {
            "text/plain": [
              "np.int64(2426)"
            ]
          },
          "execution_count": 35,
          "metadata": {},
          "output_type": "execute_result"
        }
      ],
      "source": [
        "df['monthly_rent'].isnull().sum()"
      ]
    },
    {
      "cell_type": "code",
      "execution_count": 36,
      "metadata": {
        "id": "m1ZkNBZofk5O"
      },
      "outputs": [
        {
          "data": {
            "text/plain": [
              "np.float64(5828.446490081367)"
            ]
          },
          "execution_count": 36,
          "metadata": {},
          "output_type": "execute_result"
        }
      ],
      "source": [
        "df['monthly_rent'].mean()"
      ]
    },
    {
      "cell_type": "code",
      "execution_count": 37,
      "metadata": {
        "id": "FL_bnsU4h5R-"
      },
      "outputs": [
        {
          "data": {
            "text/html": [
              "<div>\n",
              "<style scoped>\n",
              "    .dataframe tbody tr th:only-of-type {\n",
              "        vertical-align: middle;\n",
              "    }\n",
              "\n",
              "    .dataframe tbody tr th {\n",
              "        vertical-align: top;\n",
              "    }\n",
              "\n",
              "    .dataframe thead th {\n",
              "        text-align: right;\n",
              "    }\n",
              "</style>\n",
              "<table border=\"1\" class=\"dataframe\">\n",
              "  <thead>\n",
              "    <tr style=\"text-align: right;\">\n",
              "      <th></th>\n",
              "      <th>house_type</th>\n",
              "      <th>monthly_rent</th>\n",
              "    </tr>\n",
              "  </thead>\n",
              "  <tbody>\n",
              "    <tr>\n",
              "      <th>0</th>\n",
              "      <td>Rented</td>\n",
              "      <td>20000.0</td>\n",
              "    </tr>\n",
              "    <tr>\n",
              "      <th>1</th>\n",
              "      <td>Family</td>\n",
              "      <td>0.0</td>\n",
              "    </tr>\n",
              "    <tr>\n",
              "      <th>2</th>\n",
              "      <td>Own</td>\n",
              "      <td>0.0</td>\n",
              "    </tr>\n",
              "    <tr>\n",
              "      <th>3</th>\n",
              "      <td>Own</td>\n",
              "      <td>0.0</td>\n",
              "    </tr>\n",
              "    <tr>\n",
              "      <th>4</th>\n",
              "      <td>Family</td>\n",
              "      <td>0.0</td>\n",
              "    </tr>\n",
              "    <tr>\n",
              "      <th>...</th>\n",
              "      <td>...</td>\n",
              "      <td>...</td>\n",
              "    </tr>\n",
              "    <tr>\n",
              "      <th>404795</th>\n",
              "      <td>Rented</td>\n",
              "      <td>10400.0</td>\n",
              "    </tr>\n",
              "    <tr>\n",
              "      <th>404796</th>\n",
              "      <td>Own</td>\n",
              "      <td>0.0</td>\n",
              "    </tr>\n",
              "    <tr>\n",
              "      <th>404797</th>\n",
              "      <td>Rented</td>\n",
              "      <td>6300.0</td>\n",
              "    </tr>\n",
              "    <tr>\n",
              "      <th>404798</th>\n",
              "      <td>Own</td>\n",
              "      <td>0.0</td>\n",
              "    </tr>\n",
              "    <tr>\n",
              "      <th>404799</th>\n",
              "      <td>Family</td>\n",
              "      <td>0.0</td>\n",
              "    </tr>\n",
              "  </tbody>\n",
              "</table>\n",
              "<p>404800 rows × 2 columns</p>\n",
              "</div>"
            ],
            "text/plain": [
              "       house_type  monthly_rent\n",
              "0          Rented       20000.0\n",
              "1          Family           0.0\n",
              "2             Own           0.0\n",
              "3             Own           0.0\n",
              "4          Family           0.0\n",
              "...           ...           ...\n",
              "404795     Rented       10400.0\n",
              "404796        Own           0.0\n",
              "404797     Rented        6300.0\n",
              "404798        Own           0.0\n",
              "404799     Family           0.0\n",
              "\n",
              "[404800 rows x 2 columns]"
            ]
          },
          "execution_count": 37,
          "metadata": {},
          "output_type": "execute_result"
        }
      ],
      "source": [
        "df[['house_type','monthly_rent']]"
      ]
    },
    {
      "cell_type": "code",
      "execution_count": 38,
      "metadata": {
        "id": "lHv8miZckXb5"
      },
      "outputs": [
        {
          "data": {
            "text/html": [
              "<div>\n",
              "<style scoped>\n",
              "    .dataframe tbody tr th:only-of-type {\n",
              "        vertical-align: middle;\n",
              "    }\n",
              "\n",
              "    .dataframe tbody tr th {\n",
              "        vertical-align: top;\n",
              "    }\n",
              "\n",
              "    .dataframe thead th {\n",
              "        text-align: right;\n",
              "    }\n",
              "</style>\n",
              "<table border=\"1\" class=\"dataframe\">\n",
              "  <thead>\n",
              "    <tr style=\"text-align: right;\">\n",
              "      <th></th>\n",
              "      <th>house_type</th>\n",
              "      <th>monthly_rent</th>\n",
              "    </tr>\n",
              "  </thead>\n",
              "  <tbody>\n",
              "    <tr>\n",
              "      <th>183</th>\n",
              "      <td>Rented</td>\n",
              "      <td>NaN</td>\n",
              "    </tr>\n",
              "    <tr>\n",
              "      <th>903</th>\n",
              "      <td>Rented</td>\n",
              "      <td>NaN</td>\n",
              "    </tr>\n",
              "    <tr>\n",
              "      <th>1699</th>\n",
              "      <td>Rented</td>\n",
              "      <td>NaN</td>\n",
              "    </tr>\n",
              "    <tr>\n",
              "      <th>2061</th>\n",
              "      <td>Rented</td>\n",
              "      <td>NaN</td>\n",
              "    </tr>\n",
              "    <tr>\n",
              "      <th>3034</th>\n",
              "      <td>Rented</td>\n",
              "      <td>NaN</td>\n",
              "    </tr>\n",
              "    <tr>\n",
              "      <th>...</th>\n",
              "      <td>...</td>\n",
              "      <td>...</td>\n",
              "    </tr>\n",
              "    <tr>\n",
              "      <th>403754</th>\n",
              "      <td>Rented</td>\n",
              "      <td>NaN</td>\n",
              "    </tr>\n",
              "    <tr>\n",
              "      <th>403811</th>\n",
              "      <td>Rented</td>\n",
              "      <td>NaN</td>\n",
              "    </tr>\n",
              "    <tr>\n",
              "      <th>404090</th>\n",
              "      <td>Rented</td>\n",
              "      <td>NaN</td>\n",
              "    </tr>\n",
              "    <tr>\n",
              "      <th>404541</th>\n",
              "      <td>Rented</td>\n",
              "      <td>NaN</td>\n",
              "    </tr>\n",
              "    <tr>\n",
              "      <th>404572</th>\n",
              "      <td>Rented</td>\n",
              "      <td>NaN</td>\n",
              "    </tr>\n",
              "  </tbody>\n",
              "</table>\n",
              "<p>939 rows × 2 columns</p>\n",
              "</div>"
            ],
            "text/plain": [
              "       house_type  monthly_rent\n",
              "183        Rented           NaN\n",
              "903        Rented           NaN\n",
              "1699       Rented           NaN\n",
              "2061       Rented           NaN\n",
              "3034       Rented           NaN\n",
              "...           ...           ...\n",
              "403754     Rented           NaN\n",
              "403811     Rented           NaN\n",
              "404090     Rented           NaN\n",
              "404541     Rented           NaN\n",
              "404572     Rented           NaN\n",
              "\n",
              "[939 rows x 2 columns]"
            ]
          },
          "execution_count": 38,
          "metadata": {},
          "output_type": "execute_result"
        }
      ],
      "source": [
        "df[(df['monthly_rent'].isnull()) & (df['house_type']=='Rented')][['house_type','monthly_rent']]"
      ]
    },
    {
      "cell_type": "code",
      "execution_count": 39,
      "metadata": {
        "id": "94f9492d"
      },
      "outputs": [
        {
          "data": {
            "text/html": [
              "<div>\n",
              "<style scoped>\n",
              "    .dataframe tbody tr th:only-of-type {\n",
              "        vertical-align: middle;\n",
              "    }\n",
              "\n",
              "    .dataframe tbody tr th {\n",
              "        vertical-align: top;\n",
              "    }\n",
              "\n",
              "    .dataframe thead th {\n",
              "        text-align: right;\n",
              "    }\n",
              "</style>\n",
              "<table border=\"1\" class=\"dataframe\">\n",
              "  <thead>\n",
              "    <tr style=\"text-align: right;\">\n",
              "      <th></th>\n",
              "      <th>house_type</th>\n",
              "      <th>monthly_rent</th>\n",
              "    </tr>\n",
              "  </thead>\n",
              "  <tbody>\n",
              "    <tr>\n",
              "      <th>116</th>\n",
              "      <td>Own</td>\n",
              "      <td>NaN</td>\n",
              "    </tr>\n",
              "    <tr>\n",
              "      <th>429</th>\n",
              "      <td>Own</td>\n",
              "      <td>NaN</td>\n",
              "    </tr>\n",
              "    <tr>\n",
              "      <th>638</th>\n",
              "      <td>Own</td>\n",
              "      <td>NaN</td>\n",
              "    </tr>\n",
              "    <tr>\n",
              "      <th>752</th>\n",
              "      <td>Own</td>\n",
              "      <td>NaN</td>\n",
              "    </tr>\n",
              "    <tr>\n",
              "      <th>1448</th>\n",
              "      <td>Own</td>\n",
              "      <td>NaN</td>\n",
              "    </tr>\n",
              "    <tr>\n",
              "      <th>...</th>\n",
              "      <td>...</td>\n",
              "      <td>...</td>\n",
              "    </tr>\n",
              "    <tr>\n",
              "      <th>402017</th>\n",
              "      <td>Own</td>\n",
              "      <td>NaN</td>\n",
              "    </tr>\n",
              "    <tr>\n",
              "      <th>402515</th>\n",
              "      <td>Own</td>\n",
              "      <td>NaN</td>\n",
              "    </tr>\n",
              "    <tr>\n",
              "      <th>402674</th>\n",
              "      <td>Own</td>\n",
              "      <td>NaN</td>\n",
              "    </tr>\n",
              "    <tr>\n",
              "      <th>403315</th>\n",
              "      <td>Own</td>\n",
              "      <td>NaN</td>\n",
              "    </tr>\n",
              "    <tr>\n",
              "      <th>403724</th>\n",
              "      <td>Own</td>\n",
              "      <td>NaN</td>\n",
              "    </tr>\n",
              "  </tbody>\n",
              "</table>\n",
              "<p>891 rows × 2 columns</p>\n",
              "</div>"
            ],
            "text/plain": [
              "       house_type  monthly_rent\n",
              "116           Own           NaN\n",
              "429           Own           NaN\n",
              "638           Own           NaN\n",
              "752           Own           NaN\n",
              "1448          Own           NaN\n",
              "...           ...           ...\n",
              "402017        Own           NaN\n",
              "402515        Own           NaN\n",
              "402674        Own           NaN\n",
              "403315        Own           NaN\n",
              "403724        Own           NaN\n",
              "\n",
              "[891 rows x 2 columns]"
            ]
          },
          "execution_count": 39,
          "metadata": {},
          "output_type": "execute_result"
        }
      ],
      "source": [
        "df[(df['monthly_rent'].isnull()) & (df['house_type']=='Own')][['house_type','monthly_rent']]"
      ]
    },
    {
      "cell_type": "code",
      "execution_count": 40,
      "metadata": {
        "id": "e81fa8d2"
      },
      "outputs": [
        {
          "data": {
            "text/html": [
              "<div>\n",
              "<style scoped>\n",
              "    .dataframe tbody tr th:only-of-type {\n",
              "        vertical-align: middle;\n",
              "    }\n",
              "\n",
              "    .dataframe tbody tr th {\n",
              "        vertical-align: top;\n",
              "    }\n",
              "\n",
              "    .dataframe thead th {\n",
              "        text-align: right;\n",
              "    }\n",
              "</style>\n",
              "<table border=\"1\" class=\"dataframe\">\n",
              "  <thead>\n",
              "    <tr style=\"text-align: right;\">\n",
              "      <th></th>\n",
              "      <th>house_type</th>\n",
              "      <th>monthly_rent</th>\n",
              "    </tr>\n",
              "  </thead>\n",
              "  <tbody>\n",
              "    <tr>\n",
              "      <th>226</th>\n",
              "      <td>Family</td>\n",
              "      <td>NaN</td>\n",
              "    </tr>\n",
              "    <tr>\n",
              "      <th>939</th>\n",
              "      <td>Family</td>\n",
              "      <td>NaN</td>\n",
              "    </tr>\n",
              "    <tr>\n",
              "      <th>1568</th>\n",
              "      <td>Family</td>\n",
              "      <td>NaN</td>\n",
              "    </tr>\n",
              "    <tr>\n",
              "      <th>1605</th>\n",
              "      <td>Family</td>\n",
              "      <td>NaN</td>\n",
              "    </tr>\n",
              "    <tr>\n",
              "      <th>1721</th>\n",
              "      <td>Family</td>\n",
              "      <td>NaN</td>\n",
              "    </tr>\n",
              "    <tr>\n",
              "      <th>...</th>\n",
              "      <td>...</td>\n",
              "      <td>...</td>\n",
              "    </tr>\n",
              "    <tr>\n",
              "      <th>402588</th>\n",
              "      <td>Family</td>\n",
              "      <td>NaN</td>\n",
              "    </tr>\n",
              "    <tr>\n",
              "      <th>402686</th>\n",
              "      <td>Family</td>\n",
              "      <td>NaN</td>\n",
              "    </tr>\n",
              "    <tr>\n",
              "      <th>403511</th>\n",
              "      <td>Family</td>\n",
              "      <td>NaN</td>\n",
              "    </tr>\n",
              "    <tr>\n",
              "      <th>404357</th>\n",
              "      <td>Family</td>\n",
              "      <td>NaN</td>\n",
              "    </tr>\n",
              "    <tr>\n",
              "      <th>404549</th>\n",
              "      <td>Family</td>\n",
              "      <td>NaN</td>\n",
              "    </tr>\n",
              "  </tbody>\n",
              "</table>\n",
              "<p>596 rows × 2 columns</p>\n",
              "</div>"
            ],
            "text/plain": [
              "       house_type  monthly_rent\n",
              "226        Family           NaN\n",
              "939        Family           NaN\n",
              "1568       Family           NaN\n",
              "1605       Family           NaN\n",
              "1721       Family           NaN\n",
              "...           ...           ...\n",
              "402588     Family           NaN\n",
              "402686     Family           NaN\n",
              "403511     Family           NaN\n",
              "404357     Family           NaN\n",
              "404549     Family           NaN\n",
              "\n",
              "[596 rows x 2 columns]"
            ]
          },
          "execution_count": 40,
          "metadata": {},
          "output_type": "execute_result"
        }
      ],
      "source": [
        "df[(df['monthly_rent'].isnull()) & (df['house_type']=='Family')][['house_type','monthly_rent']]"
      ]
    },
    {
      "cell_type": "code",
      "execution_count": 41,
      "metadata": {
        "id": "sjQ2q6HDqVNR"
      },
      "outputs": [],
      "source": [
        "df.loc[df['house_type'].isin(['Own', 'Family']) & df['monthly_rent'].isna(), 'monthly_rent'] = 0"
      ]
    },
    {
      "cell_type": "code",
      "execution_count": 42,
      "metadata": {
        "id": "HkYs8Uaeq71O"
      },
      "outputs": [
        {
          "data": {
            "text/plain": [
              "np.float64(12500.0)"
            ]
          },
          "execution_count": 42,
          "metadata": {},
          "output_type": "execute_result"
        }
      ],
      "source": [
        "median_rent = df[df['house_type'] == 'Rented']['monthly_rent'].median()\n",
        "median_rent"
      ]
    },
    {
      "cell_type": "code",
      "execution_count": 43,
      "metadata": {
        "id": "ZnKXgwZJrNk-"
      },
      "outputs": [],
      "source": [
        "df.loc[(df['house_type'] == 'Rented') & df['monthly_rent'].isna(), 'monthly_rent'] = median_rent"
      ]
    },
    {
      "cell_type": "code",
      "execution_count": 44,
      "metadata": {
        "id": "NYkzlkd2-cgZ"
      },
      "outputs": [
        {
          "data": {
            "text/plain": [
              "np.int64(0)"
            ]
          },
          "execution_count": 44,
          "metadata": {},
          "output_type": "execute_result"
        }
      ],
      "source": [
        "df['monthly_rent'].isnull().sum()"
      ]
    },
    {
      "cell_type": "code",
      "execution_count": 45,
      "metadata": {
        "id": "ujB_pzO7-gzO"
      },
      "outputs": [
        {
          "data": {
            "text/plain": [
              "Index(['age', 'gender', 'marital_status', 'education', 'monthly_salary',\n",
              "       'employment_type', 'years_of_employment', 'company_type', 'house_type',\n",
              "       'monthly_rent', 'family_size', 'dependents', 'school_fees',\n",
              "       'college_fees', 'travel_expenses', 'groceries_utilities',\n",
              "       'other_monthly_expenses', 'existing_loans', 'current_emi_amount',\n",
              "       'credit_score', 'bank_balance', 'emergency_fund', 'emi_scenario',\n",
              "       'requested_amount', 'requested_tenure', 'emi_eligibility',\n",
              "       'max_monthly_emi'],\n",
              "      dtype='object')"
            ]
          },
          "execution_count": 45,
          "metadata": {},
          "output_type": "execute_result"
        }
      ],
      "source": [
        "df.columns"
      ]
    },
    {
      "cell_type": "code",
      "execution_count": 46,
      "metadata": {
        "id": "SDPBo_P0-rFy"
      },
      "outputs": [
        {
          "data": {
            "text/plain": [
              "0    3\n",
              "1    2\n",
              "2    4\n",
              "3    5\n",
              "4    4\n",
              "Name: family_size, dtype: int64"
            ]
          },
          "execution_count": 46,
          "metadata": {},
          "output_type": "execute_result"
        }
      ],
      "source": [
        "df['family_size'].head()"
      ]
    },
    {
      "cell_type": "code",
      "execution_count": 47,
      "metadata": {
        "id": "XJhONtYY_HrY"
      },
      "outputs": [
        {
          "data": {
            "text/plain": [
              "np.int64(0)"
            ]
          },
          "execution_count": 47,
          "metadata": {},
          "output_type": "execute_result"
        }
      ],
      "source": [
        "df['family_size'].isnull().sum()"
      ]
    },
    {
      "cell_type": "code",
      "execution_count": 48,
      "metadata": {
        "id": "o2ECb7WM_KDw"
      },
      "outputs": [
        {
          "data": {
            "text/plain": [
              "0    2\n",
              "1    1\n",
              "2    3\n",
              "3    4\n",
              "4    3\n",
              "Name: dependents, dtype: int64"
            ]
          },
          "execution_count": 48,
          "metadata": {},
          "output_type": "execute_result"
        }
      ],
      "source": [
        "df['dependents'].head()"
      ]
    },
    {
      "cell_type": "code",
      "execution_count": 49,
      "metadata": {
        "id": "uYfENycF_Nls"
      },
      "outputs": [
        {
          "data": {
            "text/plain": [
              "np.int64(0)"
            ]
          },
          "execution_count": 49,
          "metadata": {},
          "output_type": "execute_result"
        }
      ],
      "source": [
        "df['dependents'].isnull().sum()"
      ]
    },
    {
      "cell_type": "code",
      "execution_count": 50,
      "metadata": {
        "id": "v2AenJ4v_QWM"
      },
      "outputs": [
        {
          "data": {
            "text/plain": [
              "0        0.0\n",
              "1     5100.0\n",
              "2        0.0\n",
              "3    11400.0\n",
              "4     9400.0\n",
              "Name: school_fees, dtype: float64"
            ]
          },
          "execution_count": 50,
          "metadata": {},
          "output_type": "execute_result"
        }
      ],
      "source": [
        "df['school_fees'].head()"
      ]
    },
    {
      "cell_type": "code",
      "execution_count": 51,
      "metadata": {
        "id": "M1CAzis9_Tye"
      },
      "outputs": [
        {
          "data": {
            "text/plain": [
              "np.int64(0)"
            ]
          },
          "execution_count": 51,
          "metadata": {},
          "output_type": "execute_result"
        }
      ],
      "source": [
        "df['school_fees'  ].isnull().sum()"
      ]
    },
    {
      "cell_type": "code",
      "execution_count": 52,
      "metadata": {
        "id": "A4hfUmsJ_W4t"
      },
      "outputs": [
        {
          "data": {
            "text/plain": [
              "0        0.0\n",
              "1        0.0\n",
              "2        0.0\n",
              "3        0.0\n",
              "4    21300.0\n",
              "Name: college_fees, dtype: float64"
            ]
          },
          "execution_count": 52,
          "metadata": {},
          "output_type": "execute_result"
        }
      ],
      "source": [
        "df['college_fees'].head()"
      ]
    },
    {
      "cell_type": "code",
      "execution_count": 53,
      "metadata": {
        "colab": {
          "base_uri": "https://localhost:8080/",
          "height": 144
        },
        "id": "5xXnWTqz_bYY",
        "outputId": "3f696456-9015-4a55-baa4-b7ab8f1e66dc"
      },
      "outputs": [
        {
          "data": {
            "text/plain": [
              "np.int64(0)"
            ]
          },
          "execution_count": 53,
          "metadata": {},
          "output_type": "execute_result"
        }
      ],
      "source": [
        "df['college_fees'].isnull().sum()"
      ]
    },
    {
      "cell_type": "code",
      "execution_count": 54,
      "metadata": {
        "id": "4wvTU8Jg_ee7"
      },
      "outputs": [
        {
          "data": {
            "text/plain": [
              "0     7200.0\n",
              "1     1400.0\n",
              "2    10200.0\n",
              "3     6200.0\n",
              "4     3600.0\n",
              "Name: travel_expenses, dtype: float64"
            ]
          },
          "execution_count": 54,
          "metadata": {},
          "output_type": "execute_result"
        }
      ],
      "source": [
        "df['travel_expenses'].head()"
      ]
    },
    {
      "cell_type": "code",
      "execution_count": 55,
      "metadata": {
        "id": "cXaDxJWZ_mrK"
      },
      "outputs": [
        {
          "data": {
            "text/plain": [
              "np.float64(0.0)"
            ]
          },
          "execution_count": 55,
          "metadata": {},
          "output_type": "execute_result"
        }
      ],
      "source": [
        "df['travel_expenses'].isnull().mean()"
      ]
    },
    {
      "cell_type": "code",
      "execution_count": 56,
      "metadata": {
        "id": "1tzy2nnp_pyE"
      },
      "outputs": [
        {
          "data": {
            "text/plain": [
              "0    19500.0\n",
              "1     5400.0\n",
              "2    19400.0\n",
              "3    11900.0\n",
              "4    16200.0\n",
              "Name: groceries_utilities, dtype: float64"
            ]
          },
          "execution_count": 56,
          "metadata": {},
          "output_type": "execute_result"
        }
      ],
      "source": [
        "df['groceries_utilities'].head()"
      ]
    },
    {
      "cell_type": "code",
      "execution_count": 57,
      "metadata": {
        "id": "QCkmxjgE_sWm"
      },
      "outputs": [
        {
          "data": {
            "text/plain": [
              "np.int64(0)"
            ]
          },
          "execution_count": 57,
          "metadata": {},
          "output_type": "execute_result"
        }
      ],
      "source": [
        "df['groceries_utilities'].isnull().sum()"
      ]
    },
    {
      "cell_type": "code",
      "execution_count": 58,
      "metadata": {
        "id": "2mpH_lV9_vQG"
      },
      "outputs": [
        {
          "data": {
            "text/plain": [
              "0    13200.0\n",
              "1     3500.0\n",
              "2     6000.0\n",
              "3     7900.0\n",
              "4     8100.0\n",
              "Name: other_monthly_expenses, dtype: float64"
            ]
          },
          "execution_count": 58,
          "metadata": {},
          "output_type": "execute_result"
        }
      ],
      "source": [
        "df['other_monthly_expenses'].head()"
      ]
    },
    {
      "cell_type": "code",
      "execution_count": 59,
      "metadata": {
        "id": "f2ybeD9v_3j6"
      },
      "outputs": [
        {
          "data": {
            "text/plain": [
              "np.int64(0)"
            ]
          },
          "execution_count": 59,
          "metadata": {},
          "output_type": "execute_result"
        }
      ],
      "source": [
        "df['other_monthly_expenses'].isnull().sum()"
      ]
    },
    {
      "cell_type": "code",
      "execution_count": 60,
      "metadata": {
        "id": "HKng_jb1_63K"
      },
      "outputs": [
        {
          "data": {
            "text/plain": [
              "Index(['age', 'gender', 'marital_status', 'education', 'monthly_salary',\n",
              "       'employment_type', 'years_of_employment', 'company_type', 'house_type',\n",
              "       'monthly_rent', 'family_size', 'dependents', 'school_fees',\n",
              "       'college_fees', 'travel_expenses', 'groceries_utilities',\n",
              "       'other_monthly_expenses', 'existing_loans', 'current_emi_amount',\n",
              "       'credit_score', 'bank_balance', 'emergency_fund', 'emi_scenario',\n",
              "       'requested_amount', 'requested_tenure', 'emi_eligibility',\n",
              "       'max_monthly_emi'],\n",
              "      dtype='object')"
            ]
          },
          "execution_count": 60,
          "metadata": {},
          "output_type": "execute_result"
        }
      ],
      "source": [
        "df.columns"
      ]
    },
    {
      "cell_type": "code",
      "execution_count": 61,
      "metadata": {
        "id": "sI9wttjYJEKG"
      },
      "outputs": [
        {
          "data": {
            "text/plain": [
              "0    Yes\n",
              "1    Yes\n",
              "2     No\n",
              "3     No\n",
              "4     No\n",
              "Name: existing_loans, dtype: object"
            ]
          },
          "execution_count": 61,
          "metadata": {},
          "output_type": "execute_result"
        }
      ],
      "source": [
        "df['existing_loans'].head()"
      ]
    },
    {
      "cell_type": "code",
      "execution_count": 62,
      "metadata": {
        "id": "WuJBO7wcJIpo"
      },
      "outputs": [
        {
          "data": {
            "text/plain": [
              "np.int64(0)"
            ]
          },
          "execution_count": 62,
          "metadata": {},
          "output_type": "execute_result"
        }
      ],
      "source": [
        "df['existing_loans'].isnull().sum()"
      ]
    },
    {
      "cell_type": "code",
      "execution_count": 63,
      "metadata": {
        "id": "Trukx7y3UFcF"
      },
      "outputs": [
        {
          "data": {
            "text/plain": [
              "Index(['age', 'gender', 'marital_status', 'education', 'monthly_salary',\n",
              "       'employment_type', 'years_of_employment', 'company_type', 'house_type',\n",
              "       'monthly_rent', 'family_size', 'dependents', 'school_fees',\n",
              "       'college_fees', 'travel_expenses', 'groceries_utilities',\n",
              "       'other_monthly_expenses', 'existing_loans', 'current_emi_amount',\n",
              "       'credit_score', 'bank_balance', 'emergency_fund', 'emi_scenario',\n",
              "       'requested_amount', 'requested_tenure', 'emi_eligibility',\n",
              "       'max_monthly_emi'],\n",
              "      dtype='object')"
            ]
          },
          "execution_count": 63,
          "metadata": {},
          "output_type": "execute_result"
        }
      ],
      "source": [
        "df.columns"
      ]
    },
    {
      "cell_type": "code",
      "execution_count": 64,
      "metadata": {
        "id": "ZnznNY1SURVd"
      },
      "outputs": [
        {
          "data": {
            "text/plain": [
              "0    23700.0\n",
              "1     4100.0\n",
              "2        0.0\n",
              "3        0.0\n",
              "4        0.0\n",
              "5        0.0\n",
              "6        0.0\n",
              "7     9900.0\n",
              "8        0.0\n",
              "9    33100.0\n",
              "Name: current_emi_amount, dtype: float64"
            ]
          },
          "execution_count": 64,
          "metadata": {},
          "output_type": "execute_result"
        }
      ],
      "source": [
        "df['current_emi_amount'].head(10)"
      ]
    },
    {
      "cell_type": "code",
      "execution_count": 65,
      "metadata": {
        "id": "RlsSFuoCUbBW"
      },
      "outputs": [
        {
          "data": {
            "text/plain": [
              "np.int64(0)"
            ]
          },
          "execution_count": 65,
          "metadata": {},
          "output_type": "execute_result"
        }
      ],
      "source": [
        "df['current_emi_amount'].isnull().sum()"
      ]
    },
    {
      "cell_type": "code",
      "execution_count": 66,
      "metadata": {
        "id": "t7HIGdEpUeMZ"
      },
      "outputs": [
        {
          "data": {
            "text/plain": [
              "0    660.0\n",
              "1    714.0\n",
              "2    650.0\n",
              "3    685.0\n",
              "4    770.0\n",
              "5    792.0\n",
              "6    741.0\n",
              "7    623.0\n",
              "8    712.0\n",
              "9    681.0\n",
              "Name: credit_score, dtype: float64"
            ]
          },
          "execution_count": 66,
          "metadata": {},
          "output_type": "execute_result"
        }
      ],
      "source": [
        "df['credit_score'].head(10)"
      ]
    },
    {
      "cell_type": "code",
      "execution_count": 67,
      "metadata": {
        "id": "bI7bH2ELUiCu"
      },
      "outputs": [
        {
          "data": {
            "text/plain": [
              "np.int64(2420)"
            ]
          },
          "execution_count": 67,
          "metadata": {},
          "output_type": "execute_result"
        }
      ],
      "source": [
        "df['credit_score'].isnull().sum()"
      ]
    },
    {
      "cell_type": "code",
      "execution_count": 68,
      "metadata": {
        "id": "44uhJMJpUkDp"
      },
      "outputs": [
        {
          "name": "stdout",
          "output_type": "stream",
          "text": [
            "700.8562229733088\n",
            "701.0\n",
            "0    850.0\n",
            "Name: credit_score, dtype: float64\n"
          ]
        }
      ],
      "source": [
        "print(df['credit_score'].mean())\n",
        "print(df['credit_score'].median())\n",
        "print(df['credit_score'].mode())"
      ]
    },
    {
      "cell_type": "code",
      "execution_count": 69,
      "metadata": {
        "id": "bK72x-fUUrN5"
      },
      "outputs": [],
      "source": [
        "df['credit_score']=df['credit_score'].fillna(df['credit_score'].mean())"
      ]
    },
    {
      "cell_type": "code",
      "execution_count": 70,
      "metadata": {
        "id": "10KblrUhWXcp"
      },
      "outputs": [
        {
          "data": {
            "text/plain": [
              "np.int64(0)"
            ]
          },
          "execution_count": 70,
          "metadata": {},
          "output_type": "execute_result"
        }
      ],
      "source": [
        "df['credit_score'].isnull().sum()"
      ]
    },
    {
      "cell_type": "code",
      "execution_count": 71,
      "metadata": {
        "id": "d3ZPKuJVWcyU"
      },
      "outputs": [
        {
          "data": {
            "text/plain": [
              "0    303200.0\n",
              "1     92500.0\n",
              "2    672100.0\n",
              "3    440900.0\n",
              "4     97300.0\n",
              "5    260800.0\n",
              "6     68000.0\n",
              "7    184600.0\n",
              "8    235600.0\n",
              "9    963200.0\n",
              "Name: bank_balance, dtype: object"
            ]
          },
          "execution_count": 71,
          "metadata": {},
          "output_type": "execute_result"
        }
      ],
      "source": [
        "df['bank_balance'].head(10)"
      ]
    },
    {
      "cell_type": "code",
      "execution_count": 72,
      "metadata": {
        "id": "aUzJmz-_XK95"
      },
      "outputs": [],
      "source": [
        "df['bank_balance'] = df['bank_balance'].astype(str).str.replace(r'\\..*', '', regex=True)\n",
        "df['bank_balance'] = pd.to_numeric(df['bank_balance'], errors='coerce')\n",
        "# df['bank_balance'] = df['bank_balance'].fillna(df['bank_balance'].mean())"
      ]
    },
    {
      "cell_type": "code",
      "execution_count": 73,
      "metadata": {
        "id": "afBwLISkWzx_"
      },
      "outputs": [
        {
          "data": {
            "text/plain": [
              "np.int64(2440)"
            ]
          },
          "execution_count": 73,
          "metadata": {},
          "output_type": "execute_result"
        }
      ],
      "source": [
        "df['bank_balance'].isnull().sum()"
      ]
    },
    {
      "cell_type": "code",
      "execution_count": 74,
      "metadata": {
        "id": "eQ-IzuROW2EX"
      },
      "outputs": [
        {
          "name": "stdout",
          "output_type": "stream",
          "text": [
            "241688.96808827916\n",
            "196000.0\n",
            "0    115800.0\n",
            "Name: bank_balance, dtype: float64\n"
          ]
        }
      ],
      "source": [
        "print(df['bank_balance'].mean())\n",
        "print(df['bank_balance'].median())\n",
        "print(df['bank_balance'].mode())"
      ]
    },
    {
      "cell_type": "code",
      "execution_count": null,
      "metadata": {
        "id": "XqpFuyVfXBg9"
      },
      "outputs": [],
      "source": []
    },
    {
      "cell_type": "code",
      "execution_count": 75,
      "metadata": {
        "id": "2o05k7dhqkRe"
      },
      "outputs": [
        {
          "data": {
            "image/png": "[encoded data removed]",
            "text/plain": [
              "<Figure size 640x480 with 1 Axes>"
            ]
          },
          "metadata": {},
          "output_type": "display_data"
        }
      ],
      "source": [
        "from matplotlib import pyplot as plt\n",
        "plt.scatter(df['monthly_salary'],df['bank_balance'])\n",
        "\n",
        "plt.xlabel('monthly_salary')\n",
        "plt.ylabel('bank_balance')\n",
        "plt.show()"
      ]
    },
    {
      "cell_type": "code",
      "execution_count": 76,
      "metadata": {
        "id": "XN53oFPzq2rg"
      },
      "outputs": [],
      "source": [
        "df['bank_balance']=df['bank_balance'].fillna(df['bank_balance'].median())"
      ]
    },
    {
      "cell_type": "code",
      "execution_count": 77,
      "metadata": {
        "id": "PYHOlJBvrax3"
      },
      "outputs": [
        {
          "data": {
            "text/plain": [
              "np.int64(0)"
            ]
          },
          "execution_count": 77,
          "metadata": {},
          "output_type": "execute_result"
        }
      ],
      "source": [
        "df['bank_balance'].isnull().sum()"
      ]
    },
    {
      "cell_type": "code",
      "execution_count": 78,
      "metadata": {
        "id": "LkAsz0r6rdyw"
      },
      "outputs": [
        {
          "data": {
            "text/plain": [
              "0          70200.0\n",
              "1          26900.0\n",
              "2         324200.0\n",
              "3         178100.0\n",
              "4          28200.0\n",
              "            ...   \n",
              "404795     32600.0\n",
              "404796     38100.0\n",
              "404797     39700.0\n",
              "404798     45600.0\n",
              "404799     99400.0\n",
              "Name: emergency_fund, Length: 404800, dtype: float64"
            ]
          },
          "execution_count": 78,
          "metadata": {},
          "output_type": "execute_result"
        }
      ],
      "source": [
        "df['emergency_fund']"
      ]
    },
    {
      "cell_type": "code",
      "execution_count": 79,
      "metadata": {
        "id": "G3coR-i_sJ3x"
      },
      "outputs": [
        {
          "data": {
            "text/plain": [
              "np.int64(2351)"
            ]
          },
          "execution_count": 79,
          "metadata": {},
          "output_type": "execute_result"
        }
      ],
      "source": [
        "df['emergency_fund'].isnull().sum()"
      ]
    },
    {
      "cell_type": "code",
      "execution_count": 80,
      "metadata": {
        "id": "qnAI7ij9sOfp"
      },
      "outputs": [
        {
          "data": {
            "image/png": "[encoded data removed]",
            "text/plain": [
              "<Figure size 640x480 with 1 Axes>"
            ]
          },
          "metadata": {},
          "output_type": "display_data"
        }
      ],
      "source": [
        "plt.scatter(df['monthly_salary'],df['emergency_fund'])\n",
        "\n",
        "plt.xlabel('monthly_salary')\n",
        "plt.ylabel('emergency_fund')\n",
        "plt.show()"
      ]
    },
    {
      "cell_type": "code",
      "execution_count": 81,
      "metadata": {
        "id": "82OJlejDsTL0"
      },
      "outputs": [
        {
          "name": "stdout",
          "output_type": "stream",
          "text": [
            "96769.05173077832\n",
            "74000.0\n",
            "0    29100.0\n",
            "Name: emergency_fund, dtype: float64\n"
          ]
        }
      ],
      "source": [
        "print(df['emergency_fund'].mean())\n",
        "print(df['emergency_fund'].median())\n",
        "print(df['emergency_fund'].mode())"
      ]
    },
    {
      "cell_type": "code",
      "execution_count": 82,
      "metadata": {
        "id": "Qvhqsz6UsZec"
      },
      "outputs": [
        {
          "data": {
            "text/plain": [
              "<Axes: xlabel='emergency_fund', ylabel='Count'>"
            ]
          },
          "execution_count": 82,
          "metadata": {},
          "output_type": "execute_result"
        },
        {
          "data": {
            "image/png": "[encoded data removed]",
            "text/plain": [
              "<Figure size 640x480 with 1 Axes>"
            ]
          },
          "metadata": {},
          "output_type": "display_data"
        }
      ],
      "source": [
        "import seaborn as sns\n",
        "sns.histplot(df['emergency_fund'],kde=True)"
      ]
    },
    {
      "cell_type": "code",
      "execution_count": 83,
      "metadata": {
        "id": "YY6aZ9jVL6VG"
      },
      "outputs": [
        {
          "data": {
            "text/plain": [
              "count    402449.000000\n",
              "mean      96769.051731\n",
              "std       81373.053976\n",
              "min        1400.000000\n",
              "25%       38400.000000\n",
              "50%       74000.000000\n",
              "75%      130600.000000\n",
              "max      891500.000000\n",
              "Name: emergency_fund, dtype: float64"
            ]
          },
          "execution_count": 83,
          "metadata": {},
          "output_type": "execute_result"
        }
      ],
      "source": [
        "df['emergency_fund'].describe()"
      ]
    },
    {
      "cell_type": "code",
      "execution_count": 84,
      "metadata": {
        "id": "VRX7O7lRMOeO"
      },
      "outputs": [],
      "source": [
        "df['emergency_fund']=df['emergency_fund'].fillna(df['emergency_fund'].median())"
      ]
    },
    {
      "cell_type": "code",
      "execution_count": 85,
      "metadata": {
        "id": "Pe0SbVSDMjVa"
      },
      "outputs": [
        {
          "data": {
            "text/plain": [
              "np.int64(0)"
            ]
          },
          "execution_count": 85,
          "metadata": {},
          "output_type": "execute_result"
        }
      ],
      "source": [
        "df['emergency_fund'].isnull().sum()"
      ]
    },
    {
      "cell_type": "code",
      "execution_count": 86,
      "metadata": {
        "id": "1zt_1ecFMlb-"
      },
      "outputs": [
        {
          "data": {
            "text/html": [
              "<div>\n",
              "<style scoped>\n",
              "    .dataframe tbody tr th:only-of-type {\n",
              "        vertical-align: middle;\n",
              "    }\n",
              "\n",
              "    .dataframe tbody tr th {\n",
              "        vertical-align: top;\n",
              "    }\n",
              "\n",
              "    .dataframe thead th {\n",
              "        text-align: right;\n",
              "    }\n",
              "</style>\n",
              "<table border=\"1\" class=\"dataframe\">\n",
              "  <thead>\n",
              "    <tr style=\"text-align: right;\">\n",
              "      <th></th>\n",
              "      <th>age</th>\n",
              "      <th>gender</th>\n",
              "      <th>marital_status</th>\n",
              "      <th>education</th>\n",
              "      <th>monthly_salary</th>\n",
              "      <th>employment_type</th>\n",
              "      <th>years_of_employment</th>\n",
              "      <th>company_type</th>\n",
              "      <th>house_type</th>\n",
              "      <th>monthly_rent</th>\n",
              "      <th>family_size</th>\n",
              "      <th>dependents</th>\n",
              "      <th>school_fees</th>\n",
              "      <th>college_fees</th>\n",
              "      <th>travel_expenses</th>\n",
              "      <th>groceries_utilities</th>\n",
              "      <th>other_monthly_expenses</th>\n",
              "      <th>existing_loans</th>\n",
              "      <th>current_emi_amount</th>\n",
              "      <th>credit_score</th>\n",
              "      <th>bank_balance</th>\n",
              "      <th>emergency_fund</th>\n",
              "      <th>emi_scenario</th>\n",
              "      <th>requested_amount</th>\n",
              "      <th>requested_tenure</th>\n",
              "      <th>emi_eligibility</th>\n",
              "      <th>max_monthly_emi</th>\n",
              "    </tr>\n",
              "  </thead>\n",
              "  <tbody>\n",
              "    <tr>\n",
              "      <th>0</th>\n",
              "      <td>38.0</td>\n",
              "      <td>Female</td>\n",
              "      <td>Married</td>\n",
              "      <td>Professional</td>\n",
              "      <td>82600</td>\n",
              "      <td>Private</td>\n",
              "      <td>0.9</td>\n",
              "      <td>Mid-size</td>\n",
              "      <td>Rented</td>\n",
              "      <td>20000.0</td>\n",
              "      <td>3</td>\n",
              "      <td>2</td>\n",
              "      <td>0.0</td>\n",
              "      <td>0.0</td>\n",
              "      <td>7200.0</td>\n",
              "      <td>19500.0</td>\n",
              "      <td>13200.0</td>\n",
              "      <td>Yes</td>\n",
              "      <td>23700.0</td>\n",
              "      <td>660.0</td>\n",
              "      <td>303200.0</td>\n",
              "      <td>70200.0</td>\n",
              "      <td>Personal Loan EMI</td>\n",
              "      <td>850000.0</td>\n",
              "      <td>15</td>\n",
              "      <td>Not_Eligible</td>\n",
              "      <td>500.0</td>\n",
              "    </tr>\n",
              "    <tr>\n",
              "      <th>1</th>\n",
              "      <td>38.0</td>\n",
              "      <td>Female</td>\n",
              "      <td>Married</td>\n",
              "      <td>Graduate</td>\n",
              "      <td>21500</td>\n",
              "      <td>Private</td>\n",
              "      <td>7.0</td>\n",
              "      <td>MNC</td>\n",
              "      <td>Family</td>\n",
              "      <td>0.0</td>\n",
              "      <td>2</td>\n",
              "      <td>1</td>\n",
              "      <td>5100.0</td>\n",
              "      <td>0.0</td>\n",
              "      <td>1400.0</td>\n",
              "      <td>5400.0</td>\n",
              "      <td>3500.0</td>\n",
              "      <td>Yes</td>\n",
              "      <td>4100.0</td>\n",
              "      <td>714.0</td>\n",
              "      <td>92500.0</td>\n",
              "      <td>26900.0</td>\n",
              "      <td>E-commerce Shopping EMI</td>\n",
              "      <td>128000.0</td>\n",
              "      <td>19</td>\n",
              "      <td>Not_Eligible</td>\n",
              "      <td>700.0</td>\n",
              "    </tr>\n",
              "    <tr>\n",
              "      <th>2</th>\n",
              "      <td>38.0</td>\n",
              "      <td>Male</td>\n",
              "      <td>Married</td>\n",
              "      <td>Professional</td>\n",
              "      <td>86100</td>\n",
              "      <td>Private</td>\n",
              "      <td>5.8</td>\n",
              "      <td>Startup</td>\n",
              "      <td>Own</td>\n",
              "      <td>0.0</td>\n",
              "      <td>4</td>\n",
              "      <td>3</td>\n",
              "      <td>0.0</td>\n",
              "      <td>0.0</td>\n",
              "      <td>10200.0</td>\n",
              "      <td>19400.0</td>\n",
              "      <td>6000.0</td>\n",
              "      <td>No</td>\n",
              "      <td>0.0</td>\n",
              "      <td>650.0</td>\n",
              "      <td>672100.0</td>\n",
              "      <td>324200.0</td>\n",
              "      <td>Education EMI</td>\n",
              "      <td>306000.0</td>\n",
              "      <td>16</td>\n",
              "      <td>Eligible</td>\n",
              "      <td>27775.0</td>\n",
              "    </tr>\n",
              "    <tr>\n",
              "      <th>3</th>\n",
              "      <td>58.0</td>\n",
              "      <td>Female</td>\n",
              "      <td>Married</td>\n",
              "      <td>High School</td>\n",
              "      <td>66800</td>\n",
              "      <td>Private</td>\n",
              "      <td>2.2</td>\n",
              "      <td>Mid-size</td>\n",
              "      <td>Own</td>\n",
              "      <td>0.0</td>\n",
              "      <td>5</td>\n",
              "      <td>4</td>\n",
              "      <td>11400.0</td>\n",
              "      <td>0.0</td>\n",
              "      <td>6200.0</td>\n",
              "      <td>11900.0</td>\n",
              "      <td>7900.0</td>\n",
              "      <td>No</td>\n",
              "      <td>0.0</td>\n",
              "      <td>685.0</td>\n",
              "      <td>440900.0</td>\n",
              "      <td>178100.0</td>\n",
              "      <td>Vehicle EMI</td>\n",
              "      <td>304000.0</td>\n",
              "      <td>83</td>\n",
              "      <td>Eligible</td>\n",
              "      <td>16170.0</td>\n",
              "    </tr>\n",
              "    <tr>\n",
              "      <th>4</th>\n",
              "      <td>48.0</td>\n",
              "      <td>Female</td>\n",
              "      <td>Married</td>\n",
              "      <td>Professional</td>\n",
              "      <td>57300</td>\n",
              "      <td>Private</td>\n",
              "      <td>3.4</td>\n",
              "      <td>Mid-size</td>\n",
              "      <td>Family</td>\n",
              "      <td>0.0</td>\n",
              "      <td>4</td>\n",
              "      <td>3</td>\n",
              "      <td>9400.0</td>\n",
              "      <td>21300.0</td>\n",
              "      <td>3600.0</td>\n",
              "      <td>16200.0</td>\n",
              "      <td>8100.0</td>\n",
              "      <td>No</td>\n",
              "      <td>0.0</td>\n",
              "      <td>770.0</td>\n",
              "      <td>97300.0</td>\n",
              "      <td>28200.0</td>\n",
              "      <td>Home Appliances EMI</td>\n",
              "      <td>252000.0</td>\n",
              "      <td>7</td>\n",
              "      <td>Not_Eligible</td>\n",
              "      <td>500.0</td>\n",
              "    </tr>\n",
              "    <tr>\n",
              "      <th>...</th>\n",
              "      <td>...</td>\n",
              "      <td>...</td>\n",
              "      <td>...</td>\n",
              "      <td>...</td>\n",
              "      <td>...</td>\n",
              "      <td>...</td>\n",
              "      <td>...</td>\n",
              "      <td>...</td>\n",
              "      <td>...</td>\n",
              "      <td>...</td>\n",
              "      <td>...</td>\n",
              "      <td>...</td>\n",
              "      <td>...</td>\n",
              "      <td>...</td>\n",
              "      <td>...</td>\n",
              "      <td>...</td>\n",
              "      <td>...</td>\n",
              "      <td>...</td>\n",
              "      <td>...</td>\n",
              "      <td>...</td>\n",
              "      <td>...</td>\n",
              "      <td>...</td>\n",
              "      <td>...</td>\n",
              "      <td>...</td>\n",
              "      <td>...</td>\n",
              "      <td>...</td>\n",
              "      <td>...</td>\n",
              "    </tr>\n",
              "    <tr>\n",
              "      <th>404795</th>\n",
              "      <td>27.0</td>\n",
              "      <td>Male</td>\n",
              "      <td>Married</td>\n",
              "      <td>Graduate</td>\n",
              "      <td>32400</td>\n",
              "      <td>Private</td>\n",
              "      <td>5.0</td>\n",
              "      <td>Large Indian</td>\n",
              "      <td>Rented</td>\n",
              "      <td>10400.0</td>\n",
              "      <td>4</td>\n",
              "      <td>3</td>\n",
              "      <td>2800.0</td>\n",
              "      <td>7000.0</td>\n",
              "      <td>2200.0</td>\n",
              "      <td>4900.0</td>\n",
              "      <td>6100.0</td>\n",
              "      <td>No</td>\n",
              "      <td>0.0</td>\n",
              "      <td>649.0</td>\n",
              "      <td>62000.0</td>\n",
              "      <td>32600.0</td>\n",
              "      <td>Personal Loan EMI</td>\n",
              "      <td>506000.0</td>\n",
              "      <td>47</td>\n",
              "      <td>Not_Eligible</td>\n",
              "      <td>500.0</td>\n",
              "    </tr>\n",
              "    <tr>\n",
              "      <th>404796</th>\n",
              "      <td>38.0</td>\n",
              "      <td>Male</td>\n",
              "      <td>Married</td>\n",
              "      <td>Post Graduate</td>\n",
              "      <td>49200</td>\n",
              "      <td>Private</td>\n",
              "      <td>1.9</td>\n",
              "      <td>MNC</td>\n",
              "      <td>Own</td>\n",
              "      <td>0.0</td>\n",
              "      <td>5</td>\n",
              "      <td>4</td>\n",
              "      <td>14000.0</td>\n",
              "      <td>0.0</td>\n",
              "      <td>2600.0</td>\n",
              "      <td>13600.0</td>\n",
              "      <td>8600.0</td>\n",
              "      <td>No</td>\n",
              "      <td>0.0</td>\n",
              "      <td>712.0</td>\n",
              "      <td>142200.0</td>\n",
              "      <td>38100.0</td>\n",
              "      <td>Personal Loan EMI</td>\n",
              "      <td>708000.0</td>\n",
              "      <td>33</td>\n",
              "      <td>Not_Eligible</td>\n",
              "      <td>5200.0</td>\n",
              "    </tr>\n",
              "    <tr>\n",
              "      <th>404797</th>\n",
              "      <td>32.0</td>\n",
              "      <td>Male</td>\n",
              "      <td>Single</td>\n",
              "      <td>Graduate</td>\n",
              "      <td>25700</td>\n",
              "      <td>Private</td>\n",
              "      <td>3.2</td>\n",
              "      <td>MNC</td>\n",
              "      <td>Rented</td>\n",
              "      <td>6300.0</td>\n",
              "      <td>1</td>\n",
              "      <td>0</td>\n",
              "      <td>0.0</td>\n",
              "      <td>0.0</td>\n",
              "      <td>2000.0</td>\n",
              "      <td>4600.0</td>\n",
              "      <td>2500.0</td>\n",
              "      <td>No</td>\n",
              "      <td>0.0</td>\n",
              "      <td>676.0</td>\n",
              "      <td>191600.0</td>\n",
              "      <td>39700.0</td>\n",
              "      <td>Home Appliances EMI</td>\n",
              "      <td>93000.0</td>\n",
              "      <td>21</td>\n",
              "      <td>High_Risk</td>\n",
              "      <td>5665.0</td>\n",
              "    </tr>\n",
              "    <tr>\n",
              "      <th>404798</th>\n",
              "      <td>48.0</td>\n",
              "      <td>Male</td>\n",
              "      <td>Married</td>\n",
              "      <td>Graduate</td>\n",
              "      <td>47200</td>\n",
              "      <td>Private</td>\n",
              "      <td>3.0</td>\n",
              "      <td>MNC</td>\n",
              "      <td>Own</td>\n",
              "      <td>0.0</td>\n",
              "      <td>4</td>\n",
              "      <td>3</td>\n",
              "      <td>0.0</td>\n",
              "      <td>0.0</td>\n",
              "      <td>7000.0</td>\n",
              "      <td>8900.0</td>\n",
              "      <td>7200.0</td>\n",
              "      <td>No</td>\n",
              "      <td>0.0</td>\n",
              "      <td>784.0</td>\n",
              "      <td>170400.0</td>\n",
              "      <td>45600.0</td>\n",
              "      <td>Home Appliances EMI</td>\n",
              "      <td>144000.0</td>\n",
              "      <td>36</td>\n",
              "      <td>Eligible</td>\n",
              "      <td>14460.0</td>\n",
              "    </tr>\n",
              "    <tr>\n",
              "      <th>404799</th>\n",
              "      <td>38.0</td>\n",
              "      <td>Female</td>\n",
              "      <td>Married</td>\n",
              "      <td>Graduate</td>\n",
              "      <td>34900</td>\n",
              "      <td>Private</td>\n",
              "      <td>1.2</td>\n",
              "      <td>MNC</td>\n",
              "      <td>Family</td>\n",
              "      <td>0.0</td>\n",
              "      <td>2</td>\n",
              "      <td>1</td>\n",
              "      <td>0.0</td>\n",
              "      <td>0.0</td>\n",
              "      <td>4800.0</td>\n",
              "      <td>8100.0</td>\n",
              "      <td>2100.0</td>\n",
              "      <td>No</td>\n",
              "      <td>0.0</td>\n",
              "      <td>641.0</td>\n",
              "      <td>214400.0</td>\n",
              "      <td>99400.0</td>\n",
              "      <td>Home Appliances EMI</td>\n",
              "      <td>77000.0</td>\n",
              "      <td>35</td>\n",
              "      <td>Eligible</td>\n",
              "      <td>8756.0</td>\n",
              "    </tr>\n",
              "  </tbody>\n",
              "</table>\n",
              "<p>404800 rows × 27 columns</p>\n",
              "</div>"
            ],
            "text/plain": [
              "         age  gender marital_status      education  monthly_salary  \\\n",
              "0       38.0  Female        Married   Professional           82600   \n",
              "1       38.0  Female        Married       Graduate           21500   \n",
              "2       38.0    Male        Married   Professional           86100   \n",
              "3       58.0  Female        Married    High School           66800   \n",
              "4       48.0  Female        Married   Professional           57300   \n",
              "...      ...     ...            ...            ...             ...   \n",
              "404795  27.0    Male        Married       Graduate           32400   \n",
              "404796  38.0    Male        Married  Post Graduate           49200   \n",
              "404797  32.0    Male         Single       Graduate           25700   \n",
              "404798  48.0    Male        Married       Graduate           47200   \n",
              "404799  38.0  Female        Married       Graduate           34900   \n",
              "\n",
              "       employment_type  years_of_employment  company_type house_type  \\\n",
              "0              Private                  0.9      Mid-size     Rented   \n",
              "1              Private                  7.0           MNC     Family   \n",
              "2              Private                  5.8       Startup        Own   \n",
              "3              Private                  2.2      Mid-size        Own   \n",
              "4              Private                  3.4      Mid-size     Family   \n",
              "...                ...                  ...           ...        ...   \n",
              "404795         Private                  5.0  Large Indian     Rented   \n",
              "404796         Private                  1.9           MNC        Own   \n",
              "404797         Private                  3.2           MNC     Rented   \n",
              "404798         Private                  3.0           MNC        Own   \n",
              "404799         Private                  1.2           MNC     Family   \n",
              "\n",
              "        monthly_rent  family_size  dependents  school_fees  college_fees  \\\n",
              "0            20000.0            3           2          0.0           0.0   \n",
              "1                0.0            2           1       5100.0           0.0   \n",
              "2                0.0            4           3          0.0           0.0   \n",
              "3                0.0            5           4      11400.0           0.0   \n",
              "4                0.0            4           3       9400.0       21300.0   \n",
              "...              ...          ...         ...          ...           ...   \n",
              "404795       10400.0            4           3       2800.0        7000.0   \n",
              "404796           0.0            5           4      14000.0           0.0   \n",
              "404797        6300.0            1           0          0.0           0.0   \n",
              "404798           0.0            4           3          0.0           0.0   \n",
              "404799           0.0            2           1          0.0           0.0   \n",
              "\n",
              "        travel_expenses  groceries_utilities  other_monthly_expenses  \\\n",
              "0                7200.0              19500.0                 13200.0   \n",
              "1                1400.0               5400.0                  3500.0   \n",
              "2               10200.0              19400.0                  6000.0   \n",
              "3                6200.0              11900.0                  7900.0   \n",
              "4                3600.0              16200.0                  8100.0   \n",
              "...                 ...                  ...                     ...   \n",
              "404795           2200.0               4900.0                  6100.0   \n",
              "404796           2600.0              13600.0                  8600.0   \n",
              "404797           2000.0               4600.0                  2500.0   \n",
              "404798           7000.0               8900.0                  7200.0   \n",
              "404799           4800.0               8100.0                  2100.0   \n",
              "\n",
              "       existing_loans  current_emi_amount  credit_score  bank_balance  \\\n",
              "0                 Yes             23700.0         660.0      303200.0   \n",
              "1                 Yes              4100.0         714.0       92500.0   \n",
              "2                  No                 0.0         650.0      672100.0   \n",
              "3                  No                 0.0         685.0      440900.0   \n",
              "4                  No                 0.0         770.0       97300.0   \n",
              "...               ...                 ...           ...           ...   \n",
              "404795             No                 0.0         649.0       62000.0   \n",
              "404796             No                 0.0         712.0      142200.0   \n",
              "404797             No                 0.0         676.0      191600.0   \n",
              "404798             No                 0.0         784.0      170400.0   \n",
              "404799             No                 0.0         641.0      214400.0   \n",
              "\n",
              "        emergency_fund             emi_scenario  requested_amount  \\\n",
              "0              70200.0        Personal Loan EMI          850000.0   \n",
              "1              26900.0  E-commerce Shopping EMI          128000.0   \n",
              "2             324200.0            Education EMI          306000.0   \n",
              "3             178100.0              Vehicle EMI          304000.0   \n",
              "4              28200.0      Home Appliances EMI          252000.0   \n",
              "...                ...                      ...               ...   \n",
              "404795         32600.0        Personal Loan EMI          506000.0   \n",
              "404796         38100.0        Personal Loan EMI          708000.0   \n",
              "404797         39700.0      Home Appliances EMI           93000.0   \n",
              "404798         45600.0      Home Appliances EMI          144000.0   \n",
              "404799         99400.0      Home Appliances EMI           77000.0   \n",
              "\n",
              "        requested_tenure emi_eligibility  max_monthly_emi  \n",
              "0                     15    Not_Eligible            500.0  \n",
              "1                     19    Not_Eligible            700.0  \n",
              "2                     16        Eligible          27775.0  \n",
              "3                     83        Eligible          16170.0  \n",
              "4                      7    Not_Eligible            500.0  \n",
              "...                  ...             ...              ...  \n",
              "404795                47    Not_Eligible            500.0  \n",
              "404796                33    Not_Eligible           5200.0  \n",
              "404797                21       High_Risk           5665.0  \n",
              "404798                36        Eligible          14460.0  \n",
              "404799                35        Eligible           8756.0  \n",
              "\n",
              "[404800 rows x 27 columns]"
            ]
          },
          "execution_count": 86,
          "metadata": {},
          "output_type": "execute_result"
        }
      ],
      "source": [
        "df"
      ]
    },
    {
      "cell_type": "code",
      "execution_count": 87,
      "metadata": {
        "id": "lA5gGh4pMmNn"
      },
      "outputs": [
        {
          "data": {
            "text/plain": [
              "0          Personal Loan EMI\n",
              "1    E-commerce Shopping EMI\n",
              "2              Education EMI\n",
              "3                Vehicle EMI\n",
              "4        Home Appliances EMI\n",
              "Name: emi_scenario, dtype: object"
            ]
          },
          "execution_count": 87,
          "metadata": {},
          "output_type": "execute_result"
        }
      ],
      "source": [
        "df['emi_scenario'].head()"
      ]
    },
    {
      "cell_type": "code",
      "execution_count": 88,
      "metadata": {
        "id": "WcDh6ZYBMrUf"
      },
      "outputs": [
        {
          "data": {
            "text/plain": [
              "np.int64(0)"
            ]
          },
          "execution_count": 88,
          "metadata": {},
          "output_type": "execute_result"
        }
      ],
      "source": [
        "df['emi_scenario'].isnull().sum()"
      ]
    },
    {
      "cell_type": "code",
      "execution_count": 89,
      "metadata": {
        "id": "CEcyFC5NMt6T"
      },
      "outputs": [],
      "source": [
        "df['emi_scenario']=df['emi_scenario'].dropna()"
      ]
    },
    {
      "cell_type": "code",
      "execution_count": 90,
      "metadata": {
        "id": "lYcUopA0My2o"
      },
      "outputs": [
        {
          "data": {
            "text/plain": [
              "np.int64(0)"
            ]
          },
          "execution_count": 90,
          "metadata": {},
          "output_type": "execute_result"
        }
      ],
      "source": [
        "df['emi_scenario'].isnull().sum()"
      ]
    },
    {
      "cell_type": "code",
      "execution_count": 91,
      "metadata": {
        "id": "W5A-9UbbM1Sa"
      },
      "outputs": [
        {
          "data": {
            "text/plain": [
              "array(['Personal Loan EMI', 'E-commerce Shopping EMI', 'Education EMI',\n",
              "       'Vehicle EMI', 'Home Appliances EMI'], dtype=object)"
            ]
          },
          "execution_count": 91,
          "metadata": {},
          "output_type": "execute_result"
        }
      ],
      "source": [
        "df['emi_scenario'].unique()"
      ]
    },
    {
      "cell_type": "code",
      "execution_count": 92,
      "metadata": {
        "id": "b7qOivRcM4rO"
      },
      "outputs": [
        {
          "data": {
            "text/plain": [
              "0         850000.0\n",
              "1         128000.0\n",
              "2         306000.0\n",
              "3         304000.0\n",
              "4         252000.0\n",
              "            ...   \n",
              "404795    506000.0\n",
              "404796    708000.0\n",
              "404797     93000.0\n",
              "404798    144000.0\n",
              "404799     77000.0\n",
              "Name: requested_amount, Length: 404800, dtype: float64"
            ]
          },
          "execution_count": 92,
          "metadata": {},
          "output_type": "execute_result"
        }
      ],
      "source": [
        "df['requested_amount']"
      ]
    },
    {
      "cell_type": "code",
      "execution_count": 93,
      "metadata": {},
      "outputs": [
        {
          "data": {
            "text/plain": [
              "np.int64(0)"
            ]
          },
          "execution_count": 93,
          "metadata": {},
          "output_type": "execute_result"
        }
      ],
      "source": [
        "df['requested_amount'].isnull().sum()"
      ]
    },
    {
      "cell_type": "code",
      "execution_count": 94,
      "metadata": {},
      "outputs": [
        {
          "data": {
            "text/plain": [
              "0         15\n",
              "1         19\n",
              "2         16\n",
              "3         83\n",
              "4          7\n",
              "          ..\n",
              "404795    47\n",
              "404796    33\n",
              "404797    21\n",
              "404798    36\n",
              "404799    35\n",
              "Name: requested_tenure, Length: 404800, dtype: int64"
            ]
          },
          "execution_count": 94,
          "metadata": {},
          "output_type": "execute_result"
        }
      ],
      "source": [
        "df['requested_tenure']"
      ]
    },
    {
      "cell_type": "code",
      "execution_count": 95,
      "metadata": {},
      "outputs": [
        {
          "data": {
            "text/plain": [
              "np.int64(0)"
            ]
          },
          "execution_count": 95,
          "metadata": {},
          "output_type": "execute_result"
        }
      ],
      "source": [
        "df['requested_tenure'].isnull().sum()"
      ]
    },
    {
      "cell_type": "code",
      "execution_count": 96,
      "metadata": {},
      "outputs": [
        {
          "data": {
            "text/plain": [
              "0         Not_Eligible\n",
              "1         Not_Eligible\n",
              "2             Eligible\n",
              "3             Eligible\n",
              "4         Not_Eligible\n",
              "              ...     \n",
              "404795    Not_Eligible\n",
              "404796    Not_Eligible\n",
              "404797       High_Risk\n",
              "404798        Eligible\n",
              "404799        Eligible\n",
              "Name: emi_eligibility, Length: 404800, dtype: object"
            ]
          },
          "execution_count": 96,
          "metadata": {},
          "output_type": "execute_result"
        }
      ],
      "source": [
        "df['emi_eligibility']"
      ]
    },
    {
      "cell_type": "code",
      "execution_count": 97,
      "metadata": {},
      "outputs": [
        {
          "data": {
            "text/plain": [
              "np.int64(0)"
            ]
          },
          "execution_count": 97,
          "metadata": {},
          "output_type": "execute_result"
        }
      ],
      "source": [
        "df['emi_eligibility'].isnull().sum()"
      ]
    },
    {
      "cell_type": "code",
      "execution_count": 98,
      "metadata": {},
      "outputs": [
        {
          "data": {
            "text/plain": [
              "0           500.0\n",
              "1           700.0\n",
              "2         27775.0\n",
              "3         16170.0\n",
              "4           500.0\n",
              "           ...   \n",
              "404795      500.0\n",
              "404796     5200.0\n",
              "404797     5665.0\n",
              "404798    14460.0\n",
              "404799     8756.0\n",
              "Name: max_monthly_emi, Length: 404800, dtype: float64"
            ]
          },
          "execution_count": 98,
          "metadata": {},
          "output_type": "execute_result"
        }
      ],
      "source": [
        "df['max_monthly_emi']"
      ]
    },
    {
      "cell_type": "code",
      "execution_count": 99,
      "metadata": {},
      "outputs": [
        {
          "data": {
            "text/plain": [
              "np.int64(0)"
            ]
          },
          "execution_count": 99,
          "metadata": {},
          "output_type": "execute_result"
        }
      ],
      "source": [
        "df['max_monthly_emi'].isnull().sum()"
      ]
    },
    {
      "cell_type": "code",
      "execution_count": 100,
      "metadata": {},
      "outputs": [
        {
          "data": {
            "text/html": [
              "<div>\n",
              "<style scoped>\n",
              "    .dataframe tbody tr th:only-of-type {\n",
              "        vertical-align: middle;\n",
              "    }\n",
              "\n",
              "    .dataframe tbody tr th {\n",
              "        vertical-align: top;\n",
              "    }\n",
              "\n",
              "    .dataframe thead th {\n",
              "        text-align: right;\n",
              "    }\n",
              "</style>\n",
              "<table border=\"1\" class=\"dataframe\">\n",
              "  <thead>\n",
              "    <tr style=\"text-align: right;\">\n",
              "      <th></th>\n",
              "      <th>age</th>\n",
              "      <th>gender</th>\n",
              "      <th>marital_status</th>\n",
              "      <th>education</th>\n",
              "      <th>monthly_salary</th>\n",
              "      <th>employment_type</th>\n",
              "      <th>years_of_employment</th>\n",
              "      <th>company_type</th>\n",
              "      <th>house_type</th>\n",
              "      <th>monthly_rent</th>\n",
              "      <th>family_size</th>\n",
              "      <th>dependents</th>\n",
              "      <th>school_fees</th>\n",
              "      <th>college_fees</th>\n",
              "      <th>travel_expenses</th>\n",
              "      <th>groceries_utilities</th>\n",
              "      <th>other_monthly_expenses</th>\n",
              "      <th>existing_loans</th>\n",
              "      <th>current_emi_amount</th>\n",
              "      <th>credit_score</th>\n",
              "      <th>bank_balance</th>\n",
              "      <th>emergency_fund</th>\n",
              "      <th>emi_scenario</th>\n",
              "      <th>requested_amount</th>\n",
              "      <th>requested_tenure</th>\n",
              "      <th>emi_eligibility</th>\n",
              "      <th>max_monthly_emi</th>\n",
              "    </tr>\n",
              "  </thead>\n",
              "  <tbody>\n",
              "    <tr>\n",
              "      <th>0</th>\n",
              "      <td>38.0</td>\n",
              "      <td>Female</td>\n",
              "      <td>Married</td>\n",
              "      <td>Professional</td>\n",
              "      <td>82600</td>\n",
              "      <td>Private</td>\n",
              "      <td>0.9</td>\n",
              "      <td>Mid-size</td>\n",
              "      <td>Rented</td>\n",
              "      <td>20000.0</td>\n",
              "      <td>3</td>\n",
              "      <td>2</td>\n",
              "      <td>0.0</td>\n",
              "      <td>0.0</td>\n",
              "      <td>7200.0</td>\n",
              "      <td>19500.0</td>\n",
              "      <td>13200.0</td>\n",
              "      <td>Yes</td>\n",
              "      <td>23700.0</td>\n",
              "      <td>660.0</td>\n",
              "      <td>303200.0</td>\n",
              "      <td>70200.0</td>\n",
              "      <td>Personal Loan EMI</td>\n",
              "      <td>850000.0</td>\n",
              "      <td>15</td>\n",
              "      <td>Not_Eligible</td>\n",
              "      <td>500.0</td>\n",
              "    </tr>\n",
              "    <tr>\n",
              "      <th>1</th>\n",
              "      <td>38.0</td>\n",
              "      <td>Female</td>\n",
              "      <td>Married</td>\n",
              "      <td>Graduate</td>\n",
              "      <td>21500</td>\n",
              "      <td>Private</td>\n",
              "      <td>7.0</td>\n",
              "      <td>MNC</td>\n",
              "      <td>Family</td>\n",
              "      <td>0.0</td>\n",
              "      <td>2</td>\n",
              "      <td>1</td>\n",
              "      <td>5100.0</td>\n",
              "      <td>0.0</td>\n",
              "      <td>1400.0</td>\n",
              "      <td>5400.0</td>\n",
              "      <td>3500.0</td>\n",
              "      <td>Yes</td>\n",
              "      <td>4100.0</td>\n",
              "      <td>714.0</td>\n",
              "      <td>92500.0</td>\n",
              "      <td>26900.0</td>\n",
              "      <td>E-commerce Shopping EMI</td>\n",
              "      <td>128000.0</td>\n",
              "      <td>19</td>\n",
              "      <td>Not_Eligible</td>\n",
              "      <td>700.0</td>\n",
              "    </tr>\n",
              "    <tr>\n",
              "      <th>2</th>\n",
              "      <td>38.0</td>\n",
              "      <td>Male</td>\n",
              "      <td>Married</td>\n",
              "      <td>Professional</td>\n",
              "      <td>86100</td>\n",
              "      <td>Private</td>\n",
              "      <td>5.8</td>\n",
              "      <td>Startup</td>\n",
              "      <td>Own</td>\n",
              "      <td>0.0</td>\n",
              "      <td>4</td>\n",
              "      <td>3</td>\n",
              "      <td>0.0</td>\n",
              "      <td>0.0</td>\n",
              "      <td>10200.0</td>\n",
              "      <td>19400.0</td>\n",
              "      <td>6000.0</td>\n",
              "      <td>No</td>\n",
              "      <td>0.0</td>\n",
              "      <td>650.0</td>\n",
              "      <td>672100.0</td>\n",
              "      <td>324200.0</td>\n",
              "      <td>Education EMI</td>\n",
              "      <td>306000.0</td>\n",
              "      <td>16</td>\n",
              "      <td>Eligible</td>\n",
              "      <td>27775.0</td>\n",
              "    </tr>\n",
              "    <tr>\n",
              "      <th>3</th>\n",
              "      <td>58.0</td>\n",
              "      <td>Female</td>\n",
              "      <td>Married</td>\n",
              "      <td>High School</td>\n",
              "      <td>66800</td>\n",
              "      <td>Private</td>\n",
              "      <td>2.2</td>\n",
              "      <td>Mid-size</td>\n",
              "      <td>Own</td>\n",
              "      <td>0.0</td>\n",
              "      <td>5</td>\n",
              "      <td>4</td>\n",
              "      <td>11400.0</td>\n",
              "      <td>0.0</td>\n",
              "      <td>6200.0</td>\n",
              "      <td>11900.0</td>\n",
              "      <td>7900.0</td>\n",
              "      <td>No</td>\n",
              "      <td>0.0</td>\n",
              "      <td>685.0</td>\n",
              "      <td>440900.0</td>\n",
              "      <td>178100.0</td>\n",
              "      <td>Vehicle EMI</td>\n",
              "      <td>304000.0</td>\n",
              "      <td>83</td>\n",
              "      <td>Eligible</td>\n",
              "      <td>16170.0</td>\n",
              "    </tr>\n",
              "    <tr>\n",
              "      <th>4</th>\n",
              "      <td>48.0</td>\n",
              "      <td>Female</td>\n",
              "      <td>Married</td>\n",
              "      <td>Professional</td>\n",
              "      <td>57300</td>\n",
              "      <td>Private</td>\n",
              "      <td>3.4</td>\n",
              "      <td>Mid-size</td>\n",
              "      <td>Family</td>\n",
              "      <td>0.0</td>\n",
              "      <td>4</td>\n",
              "      <td>3</td>\n",
              "      <td>9400.0</td>\n",
              "      <td>21300.0</td>\n",
              "      <td>3600.0</td>\n",
              "      <td>16200.0</td>\n",
              "      <td>8100.0</td>\n",
              "      <td>No</td>\n",
              "      <td>0.0</td>\n",
              "      <td>770.0</td>\n",
              "      <td>97300.0</td>\n",
              "      <td>28200.0</td>\n",
              "      <td>Home Appliances EMI</td>\n",
              "      <td>252000.0</td>\n",
              "      <td>7</td>\n",
              "      <td>Not_Eligible</td>\n",
              "      <td>500.0</td>\n",
              "    </tr>\n",
              "  </tbody>\n",
              "</table>\n",
              "</div>"
            ],
            "text/plain": [
              "    age  gender marital_status     education  monthly_salary employment_type  \\\n",
              "0  38.0  Female        Married  Professional           82600         Private   \n",
              "1  38.0  Female        Married      Graduate           21500         Private   \n",
              "2  38.0    Male        Married  Professional           86100         Private   \n",
              "3  58.0  Female        Married   High School           66800         Private   \n",
              "4  48.0  Female        Married  Professional           57300         Private   \n",
              "\n",
              "   years_of_employment company_type house_type  monthly_rent  family_size  \\\n",
              "0                  0.9     Mid-size     Rented       20000.0            3   \n",
              "1                  7.0          MNC     Family           0.0            2   \n",
              "2                  5.8      Startup        Own           0.0            4   \n",
              "3                  2.2     Mid-size        Own           0.0            5   \n",
              "4                  3.4     Mid-size     Family           0.0            4   \n",
              "\n",
              "   dependents  school_fees  college_fees  travel_expenses  \\\n",
              "0           2          0.0           0.0           7200.0   \n",
              "1           1       5100.0           0.0           1400.0   \n",
              "2           3          0.0           0.0          10200.0   \n",
              "3           4      11400.0           0.0           6200.0   \n",
              "4           3       9400.0       21300.0           3600.0   \n",
              "\n",
              "   groceries_utilities  other_monthly_expenses existing_loans  \\\n",
              "0              19500.0                 13200.0            Yes   \n",
              "1               5400.0                  3500.0            Yes   \n",
              "2              19400.0                  6000.0             No   \n",
              "3              11900.0                  7900.0             No   \n",
              "4              16200.0                  8100.0             No   \n",
              "\n",
              "   current_emi_amount  credit_score  bank_balance  emergency_fund  \\\n",
              "0             23700.0         660.0      303200.0         70200.0   \n",
              "1              4100.0         714.0       92500.0         26900.0   \n",
              "2                 0.0         650.0      672100.0        324200.0   \n",
              "3                 0.0         685.0      440900.0        178100.0   \n",
              "4                 0.0         770.0       97300.0         28200.0   \n",
              "\n",
              "              emi_scenario  requested_amount  requested_tenure  \\\n",
              "0        Personal Loan EMI          850000.0                15   \n",
              "1  E-commerce Shopping EMI          128000.0                19   \n",
              "2            Education EMI          306000.0                16   \n",
              "3              Vehicle EMI          304000.0                83   \n",
              "4      Home Appliances EMI          252000.0                 7   \n",
              "\n",
              "  emi_eligibility  max_monthly_emi  \n",
              "0    Not_Eligible            500.0  \n",
              "1    Not_Eligible            700.0  \n",
              "2        Eligible          27775.0  \n",
              "3        Eligible          16170.0  \n",
              "4    Not_Eligible            500.0  "
            ]
          },
          "execution_count": 100,
          "metadata": {},
          "output_type": "execute_result"
        }
      ],
      "source": [
        "df.head()"
      ]
    },
    {
      "cell_type": "code",
      "execution_count": 101,
      "metadata": {},
      "outputs": [
        {
          "name": "stdout",
          "output_type": "stream",
          "text": [
            "['Female' 'Male']\n",
            "['Married' 'Single']\n",
            "['Professional' 'Graduate' 'High School' 'Post Graduate' 'Unknown']\n",
            "['Private' 'Government' 'Self-employed']\n",
            "['Mid-size' 'MNC' 'Startup' 'Large Indian' 'Small']\n",
            "['Rented' 'Family' 'Own']\n",
            "['Personal Loan EMI' 'E-commerce Shopping EMI' 'Education EMI'\n",
            " 'Vehicle EMI' 'Home Appliances EMI']\n",
            "['Not_Eligible' 'Eligible' 'High_Risk']\n"
          ]
        }
      ],
      "source": [
        "print(df['gender'].unique())\n",
        "print(df['marital_status'].unique())\n",
        "print(df['education'].unique())\n",
        "print(df['employment_type'].unique())\n",
        "print(df['company_type'].unique())\n",
        "print(df['house_type'].unique())\n",
        "print(df['emi_scenario'].unique())\n",
        "print(df['emi_eligibility'].unique())"
      ]
    },
    {
      "cell_type": "code",
      "execution_count": 102,
      "metadata": {},
      "outputs": [],
      "source": [
        "cat_cols=['gender', 'marital_status', 'education', 'employment_type','company_type', 'house_type', \n",
        "          'emi_scenario', 'emi_eligibility'] \n"
      ]
    },
    {
      "cell_type": "code",
      "execution_count": 103,
      "metadata": {},
      "outputs": [
        {
          "name": "stdout",
          "output_type": "stream",
          "text": [
            "<class 'pandas.core.frame.DataFrame'>\n",
            "RangeIndex: 404800 entries, 0 to 404799\n",
            "Data columns (total 27 columns):\n",
            " #   Column                  Non-Null Count   Dtype  \n",
            "---  ------                  --------------   -----  \n",
            " 0   age                     404800 non-null  object \n",
            " 1   gender                  404800 non-null  object \n",
            " 2   marital_status          404800 non-null  object \n",
            " 3   education               404800 non-null  object \n",
            " 4   monthly_salary          404800 non-null  int64  \n",
            " 5   employment_type         404800 non-null  object \n",
            " 6   years_of_employment     404800 non-null  float64\n",
            " 7   company_type            404800 non-null  object \n",
            " 8   house_type              404800 non-null  object \n",
            " 9   monthly_rent            404800 non-null  float64\n",
            " 10  family_size             404800 non-null  int64  \n",
            " 11  dependents              404800 non-null  int64  \n",
            " 12  school_fees             404800 non-null  float64\n",
            " 13  college_fees            404800 non-null  float64\n",
            " 14  travel_expenses         404800 non-null  float64\n",
            " 15  groceries_utilities     404800 non-null  float64\n",
            " 16  other_monthly_expenses  404800 non-null  float64\n",
            " 17  existing_loans          404800 non-null  object \n",
            " 18  current_emi_amount      404800 non-null  float64\n",
            " 19  credit_score            404800 non-null  float64\n",
            " 20  bank_balance            404800 non-null  float64\n",
            " 21  emergency_fund          404800 non-null  float64\n",
            " 22  emi_scenario            404800 non-null  object \n",
            " 23  requested_amount        404800 non-null  float64\n",
            " 24  requested_tenure        404800 non-null  int64  \n",
            " 25  emi_eligibility         404800 non-null  object \n",
            " 26  max_monthly_emi         404800 non-null  float64\n",
            "dtypes: float64(13), int64(4), object(10)\n",
            "memory usage: 83.4+ MB\n"
          ]
        }
      ],
      "source": [
        "df.info()"
      ]
    },
    {
      "cell_type": "code",
      "execution_count": 104,
      "metadata": {},
      "outputs": [
        {
          "data": {
            "text/plain": [
              "age                       0\n",
              "gender                    0\n",
              "marital_status            0\n",
              "education                 0\n",
              "monthly_salary            0\n",
              "employment_type           0\n",
              "years_of_employment       0\n",
              "company_type              0\n",
              "house_type                0\n",
              "monthly_rent              0\n",
              "family_size               0\n",
              "dependents                0\n",
              "school_fees               0\n",
              "college_fees              0\n",
              "travel_expenses           0\n",
              "groceries_utilities       0\n",
              "other_monthly_expenses    0\n",
              "existing_loans            0\n",
              "current_emi_amount        0\n",
              "credit_score              0\n",
              "bank_balance              0\n",
              "emergency_fund            0\n",
              "emi_scenario              0\n",
              "requested_amount          0\n",
              "requested_tenure          0\n",
              "emi_eligibility           0\n",
              "max_monthly_emi           0\n",
              "dtype: int64"
            ]
          },
          "execution_count": 104,
          "metadata": {},
          "output_type": "execute_result"
        }
      ],
      "source": [
        "df.isnull().sum()"
      ]
    },
    {
      "cell_type": "code",
      "execution_count": 105,
      "metadata": {},
      "outputs": [
        {
          "name": "stdout",
          "output_type": "stream",
          "text": [
            "<class 'pandas.core.frame.DataFrame'>\n",
            "RangeIndex: 404800 entries, 0 to 404799\n",
            "Data columns (total 27 columns):\n",
            " #   Column                  Non-Null Count   Dtype   \n",
            "---  ------                  --------------   -----   \n",
            " 0   age                     404800 non-null  object  \n",
            " 1   gender                  404800 non-null  category\n",
            " 2   marital_status          404800 non-null  category\n",
            " 3   education               404800 non-null  category\n",
            " 4   monthly_salary          404800 non-null  int64   \n",
            " 5   employment_type         404800 non-null  category\n",
            " 6   years_of_employment     404800 non-null  float64 \n",
            " 7   company_type            404800 non-null  category\n",
            " 8   house_type              404800 non-null  category\n",
            " 9   monthly_rent            404800 non-null  float64 \n",
            " 10  family_size             404800 non-null  int64   \n",
            " 11  dependents              404800 non-null  int64   \n",
            " 12  school_fees             404800 non-null  float64 \n",
            " 13  college_fees            404800 non-null  float64 \n",
            " 14  travel_expenses         404800 non-null  float64 \n",
            " 15  groceries_utilities     404800 non-null  float64 \n",
            " 16  other_monthly_expenses  404800 non-null  float64 \n",
            " 17  existing_loans          404800 non-null  object  \n",
            " 18  current_emi_amount      404800 non-null  float64 \n",
            " 19  credit_score            404800 non-null  float64 \n",
            " 20  bank_balance            404800 non-null  float64 \n",
            " 21  emergency_fund          404800 non-null  float64 \n",
            " 22  emi_scenario            404800 non-null  category\n",
            " 23  requested_amount        404800 non-null  float64 \n",
            " 24  requested_tenure        404800 non-null  int64   \n",
            " 25  emi_eligibility         404800 non-null  category\n",
            " 26  max_monthly_emi         404800 non-null  float64 \n",
            "dtypes: category(8), float64(13), int64(4), object(2)\n",
            "memory usage: 61.8+ MB\n"
          ]
        }
      ],
      "source": [
        "for col in cat_cols:\n",
        "    df[col]=df[col].astype('category')\n",
        "df.info()"
      ]
    },
    {
      "cell_type": "code",
      "execution_count": 106,
      "metadata": {},
      "outputs": [
        {
          "data": {
            "text/plain": [
              "0    38.0\n",
              "1    38.0\n",
              "2    38.0\n",
              "3    58.0\n",
              "4    48.0\n",
              "Name: age, dtype: object"
            ]
          },
          "execution_count": 106,
          "metadata": {},
          "output_type": "execute_result"
        }
      ],
      "source": [
        "df['age'].head()"
      ]
    },
    {
      "cell_type": "code",
      "execution_count": 107,
      "metadata": {},
      "outputs": [
        {
          "data": {
            "text/plain": [
              "np.int64(0)"
            ]
          },
          "execution_count": 107,
          "metadata": {},
          "output_type": "execute_result"
        }
      ],
      "source": [
        "df['age'].isnull().sum()"
      ]
    },
    {
      "cell_type": "code",
      "execution_count": 108,
      "metadata": {},
      "outputs": [],
      "source": [
        "# df['age']=df['age'].str.replace('\\..*','.0',regex=True)\n",
        "df['age'] = df['age'].astype(str).str.replace(r'\\..*', '', regex=True)"
      ]
    },
    {
      "cell_type": "code",
      "execution_count": 109,
      "metadata": {},
      "outputs": [],
      "source": [
        "df['age']=pd.to_numeric(df['age'])"
      ]
    },
    {
      "cell_type": "code",
      "execution_count": 110,
      "metadata": {},
      "outputs": [
        {
          "data": {
            "text/plain": [
              "0         38\n",
              "1         38\n",
              "2         38\n",
              "3         58\n",
              "4         48\n",
              "          ..\n",
              "404795    27\n",
              "404796    38\n",
              "404797    32\n",
              "404798    48\n",
              "404799    38\n",
              "Name: age, Length: 404800, dtype: int64"
            ]
          },
          "execution_count": 110,
          "metadata": {},
          "output_type": "execute_result"
        }
      ],
      "source": [
        "df['age']"
      ]
    },
    {
      "cell_type": "code",
      "execution_count": 111,
      "metadata": {},
      "outputs": [
        {
          "data": {
            "text/plain": [
              "np.int64(0)"
            ]
          },
          "execution_count": 111,
          "metadata": {},
          "output_type": "execute_result"
        }
      ],
      "source": [
        "df['age'].isnull().sum()"
      ]
    },
    {
      "cell_type": "code",
      "execution_count": 112,
      "metadata": {},
      "outputs": [
        {
          "data": {
            "text/plain": [
              "0         Yes\n",
              "1         Yes\n",
              "2          No\n",
              "3          No\n",
              "4          No\n",
              "         ... \n",
              "404795     No\n",
              "404796     No\n",
              "404797     No\n",
              "404798     No\n",
              "404799     No\n",
              "Name: existing_loans, Length: 404800, dtype: object"
            ]
          },
          "execution_count": 112,
          "metadata": {},
          "output_type": "execute_result"
        }
      ],
      "source": [
        "df['existing_loans']"
      ]
    },
    {
      "cell_type": "code",
      "execution_count": 113,
      "metadata": {},
      "outputs": [
        {
          "data": {
            "text/plain": [
              "array(['Yes', 'No'], dtype=object)"
            ]
          },
          "execution_count": 113,
          "metadata": {},
          "output_type": "execute_result"
        }
      ],
      "source": [
        "df['existing_loans'].unique()"
      ]
    },
    {
      "cell_type": "code",
      "execution_count": 114,
      "metadata": {},
      "outputs": [],
      "source": [
        "df['existing_loans']=df['existing_loans'].astype('category')"
      ]
    },
    {
      "cell_type": "code",
      "execution_count": 115,
      "metadata": {},
      "outputs": [
        {
          "name": "stdout",
          "output_type": "stream",
          "text": [
            "<class 'pandas.core.frame.DataFrame'>\n",
            "RangeIndex: 404800 entries, 0 to 404799\n",
            "Data columns (total 27 columns):\n",
            " #   Column                  Non-Null Count   Dtype   \n",
            "---  ------                  --------------   -----   \n",
            " 0   age                     404800 non-null  int64   \n",
            " 1   gender                  404800 non-null  category\n",
            " 2   marital_status          404800 non-null  category\n",
            " 3   education               404800 non-null  category\n",
            " 4   monthly_salary          404800 non-null  int64   \n",
            " 5   employment_type         404800 non-null  category\n",
            " 6   years_of_employment     404800 non-null  float64 \n",
            " 7   company_type            404800 non-null  category\n",
            " 8   house_type              404800 non-null  category\n",
            " 9   monthly_rent            404800 non-null  float64 \n",
            " 10  family_size             404800 non-null  int64   \n",
            " 11  dependents              404800 non-null  int64   \n",
            " 12  school_fees             404800 non-null  float64 \n",
            " 13  college_fees            404800 non-null  float64 \n",
            " 14  travel_expenses         404800 non-null  float64 \n",
            " 15  groceries_utilities     404800 non-null  float64 \n",
            " 16  other_monthly_expenses  404800 non-null  float64 \n",
            " 17  existing_loans          404800 non-null  category\n",
            " 18  current_emi_amount      404800 non-null  float64 \n",
            " 19  credit_score            404800 non-null  float64 \n",
            " 20  bank_balance            404800 non-null  float64 \n",
            " 21  emergency_fund          404800 non-null  float64 \n",
            " 22  emi_scenario            404800 non-null  category\n",
            " 23  requested_amount        404800 non-null  float64 \n",
            " 24  requested_tenure        404800 non-null  int64   \n",
            " 25  emi_eligibility         404800 non-null  category\n",
            " 26  max_monthly_emi         404800 non-null  float64 \n",
            "dtypes: category(9), float64(13), int64(5)\n",
            "memory usage: 59.1 MB\n"
          ]
        }
      ],
      "source": [
        "df.info()"
      ]
    },
    {
      "cell_type": "code",
      "execution_count": 116,
      "metadata": {},
      "outputs": [
        {
          "data": {
            "text/html": [
              "<div>\n",
              "<style scoped>\n",
              "    .dataframe tbody tr th:only-of-type {\n",
              "        vertical-align: middle;\n",
              "    }\n",
              "\n",
              "    .dataframe tbody tr th {\n",
              "        vertical-align: top;\n",
              "    }\n",
              "\n",
              "    .dataframe thead th {\n",
              "        text-align: right;\n",
              "    }\n",
              "</style>\n",
              "<table border=\"1\" class=\"dataframe\">\n",
              "  <thead>\n",
              "    <tr style=\"text-align: right;\">\n",
              "      <th></th>\n",
              "      <th>age</th>\n",
              "      <th>gender</th>\n",
              "      <th>marital_status</th>\n",
              "      <th>education</th>\n",
              "      <th>monthly_salary</th>\n",
              "      <th>employment_type</th>\n",
              "      <th>years_of_employment</th>\n",
              "      <th>company_type</th>\n",
              "      <th>house_type</th>\n",
              "      <th>monthly_rent</th>\n",
              "      <th>family_size</th>\n",
              "      <th>dependents</th>\n",
              "      <th>school_fees</th>\n",
              "      <th>college_fees</th>\n",
              "      <th>travel_expenses</th>\n",
              "      <th>groceries_utilities</th>\n",
              "      <th>other_monthly_expenses</th>\n",
              "      <th>existing_loans</th>\n",
              "      <th>current_emi_amount</th>\n",
              "      <th>credit_score</th>\n",
              "      <th>bank_balance</th>\n",
              "      <th>emergency_fund</th>\n",
              "      <th>emi_scenario</th>\n",
              "      <th>requested_amount</th>\n",
              "      <th>requested_tenure</th>\n",
              "      <th>emi_eligibility</th>\n",
              "      <th>max_monthly_emi</th>\n",
              "    </tr>\n",
              "  </thead>\n",
              "  <tbody>\n",
              "    <tr>\n",
              "      <th>0</th>\n",
              "      <td>38</td>\n",
              "      <td>Female</td>\n",
              "      <td>Married</td>\n",
              "      <td>Professional</td>\n",
              "      <td>82600</td>\n",
              "      <td>Private</td>\n",
              "      <td>0.9</td>\n",
              "      <td>Mid-size</td>\n",
              "      <td>Rented</td>\n",
              "      <td>20000.0</td>\n",
              "      <td>3</td>\n",
              "      <td>2</td>\n",
              "      <td>0.0</td>\n",
              "      <td>0.0</td>\n",
              "      <td>7200.0</td>\n",
              "      <td>19500.0</td>\n",
              "      <td>13200.0</td>\n",
              "      <td>Yes</td>\n",
              "      <td>23700.0</td>\n",
              "      <td>660.0</td>\n",
              "      <td>303200.0</td>\n",
              "      <td>70200.0</td>\n",
              "      <td>Personal Loan EMI</td>\n",
              "      <td>850000.0</td>\n",
              "      <td>15</td>\n",
              "      <td>Not_Eligible</td>\n",
              "      <td>500.0</td>\n",
              "    </tr>\n",
              "    <tr>\n",
              "      <th>1</th>\n",
              "      <td>38</td>\n",
              "      <td>Female</td>\n",
              "      <td>Married</td>\n",
              "      <td>Graduate</td>\n",
              "      <td>21500</td>\n",
              "      <td>Private</td>\n",
              "      <td>7.0</td>\n",
              "      <td>MNC</td>\n",
              "      <td>Family</td>\n",
              "      <td>0.0</td>\n",
              "      <td>2</td>\n",
              "      <td>1</td>\n",
              "      <td>5100.0</td>\n",
              "      <td>0.0</td>\n",
              "      <td>1400.0</td>\n",
              "      <td>5400.0</td>\n",
              "      <td>3500.0</td>\n",
              "      <td>Yes</td>\n",
              "      <td>4100.0</td>\n",
              "      <td>714.0</td>\n",
              "      <td>92500.0</td>\n",
              "      <td>26900.0</td>\n",
              "      <td>E-commerce Shopping EMI</td>\n",
              "      <td>128000.0</td>\n",
              "      <td>19</td>\n",
              "      <td>Not_Eligible</td>\n",
              "      <td>700.0</td>\n",
              "    </tr>\n",
              "    <tr>\n",
              "      <th>2</th>\n",
              "      <td>38</td>\n",
              "      <td>Male</td>\n",
              "      <td>Married</td>\n",
              "      <td>Professional</td>\n",
              "      <td>86100</td>\n",
              "      <td>Private</td>\n",
              "      <td>5.8</td>\n",
              "      <td>Startup</td>\n",
              "      <td>Own</td>\n",
              "      <td>0.0</td>\n",
              "      <td>4</td>\n",
              "      <td>3</td>\n",
              "      <td>0.0</td>\n",
              "      <td>0.0</td>\n",
              "      <td>10200.0</td>\n",
              "      <td>19400.0</td>\n",
              "      <td>6000.0</td>\n",
              "      <td>No</td>\n",
              "      <td>0.0</td>\n",
              "      <td>650.0</td>\n",
              "      <td>672100.0</td>\n",
              "      <td>324200.0</td>\n",
              "      <td>Education EMI</td>\n",
              "      <td>306000.0</td>\n",
              "      <td>16</td>\n",
              "      <td>Eligible</td>\n",
              "      <td>27775.0</td>\n",
              "    </tr>\n",
              "    <tr>\n",
              "      <th>3</th>\n",
              "      <td>58</td>\n",
              "      <td>Female</td>\n",
              "      <td>Married</td>\n",
              "      <td>High School</td>\n",
              "      <td>66800</td>\n",
              "      <td>Private</td>\n",
              "      <td>2.2</td>\n",
              "      <td>Mid-size</td>\n",
              "      <td>Own</td>\n",
              "      <td>0.0</td>\n",
              "      <td>5</td>\n",
              "      <td>4</td>\n",
              "      <td>11400.0</td>\n",
              "      <td>0.0</td>\n",
              "      <td>6200.0</td>\n",
              "      <td>11900.0</td>\n",
              "      <td>7900.0</td>\n",
              "      <td>No</td>\n",
              "      <td>0.0</td>\n",
              "      <td>685.0</td>\n",
              "      <td>440900.0</td>\n",
              "      <td>178100.0</td>\n",
              "      <td>Vehicle EMI</td>\n",
              "      <td>304000.0</td>\n",
              "      <td>83</td>\n",
              "      <td>Eligible</td>\n",
              "      <td>16170.0</td>\n",
              "    </tr>\n",
              "    <tr>\n",
              "      <th>4</th>\n",
              "      <td>48</td>\n",
              "      <td>Female</td>\n",
              "      <td>Married</td>\n",
              "      <td>Professional</td>\n",
              "      <td>57300</td>\n",
              "      <td>Private</td>\n",
              "      <td>3.4</td>\n",
              "      <td>Mid-size</td>\n",
              "      <td>Family</td>\n",
              "      <td>0.0</td>\n",
              "      <td>4</td>\n",
              "      <td>3</td>\n",
              "      <td>9400.0</td>\n",
              "      <td>21300.0</td>\n",
              "      <td>3600.0</td>\n",
              "      <td>16200.0</td>\n",
              "      <td>8100.0</td>\n",
              "      <td>No</td>\n",
              "      <td>0.0</td>\n",
              "      <td>770.0</td>\n",
              "      <td>97300.0</td>\n",
              "      <td>28200.0</td>\n",
              "      <td>Home Appliances EMI</td>\n",
              "      <td>252000.0</td>\n",
              "      <td>7</td>\n",
              "      <td>Not_Eligible</td>\n",
              "      <td>500.0</td>\n",
              "    </tr>\n",
              "    <tr>\n",
              "      <th>5</th>\n",
              "      <td>38</td>\n",
              "      <td>Male</td>\n",
              "      <td>Married</td>\n",
              "      <td>High School</td>\n",
              "      <td>38800</td>\n",
              "      <td>Government</td>\n",
              "      <td>5.0</td>\n",
              "      <td>Large Indian</td>\n",
              "      <td>Rented</td>\n",
              "      <td>13500.0</td>\n",
              "      <td>4</td>\n",
              "      <td>3</td>\n",
              "      <td>0.0</td>\n",
              "      <td>24100.0</td>\n",
              "      <td>3400.0</td>\n",
              "      <td>8200.0</td>\n",
              "      <td>6700.0</td>\n",
              "      <td>No</td>\n",
              "      <td>0.0</td>\n",
              "      <td>792.0</td>\n",
              "      <td>260800.0</td>\n",
              "      <td>55600.0</td>\n",
              "      <td>Vehicle EMI</td>\n",
              "      <td>1257000.0</td>\n",
              "      <td>53</td>\n",
              "      <td>Not_Eligible</td>\n",
              "      <td>500.0</td>\n",
              "    </tr>\n",
              "    <tr>\n",
              "      <th>6</th>\n",
              "      <td>58</td>\n",
              "      <td>Male</td>\n",
              "      <td>Single</td>\n",
              "      <td>High School</td>\n",
              "      <td>27100</td>\n",
              "      <td>Private</td>\n",
              "      <td>36.0</td>\n",
              "      <td>Large Indian</td>\n",
              "      <td>Own</td>\n",
              "      <td>0.0</td>\n",
              "      <td>3</td>\n",
              "      <td>2</td>\n",
              "      <td>10200.0</td>\n",
              "      <td>0.0</td>\n",
              "      <td>1600.0</td>\n",
              "      <td>7300.0</td>\n",
              "      <td>4100.0</td>\n",
              "      <td>No</td>\n",
              "      <td>0.0</td>\n",
              "      <td>741.0</td>\n",
              "      <td>68000.0</td>\n",
              "      <td>36200.0</td>\n",
              "      <td>Home Appliances EMI</td>\n",
              "      <td>280000.0</td>\n",
              "      <td>11</td>\n",
              "      <td>Not_Eligible</td>\n",
              "      <td>1950.0</td>\n",
              "    </tr>\n",
              "    <tr>\n",
              "      <th>7</th>\n",
              "      <td>58</td>\n",
              "      <td>Female</td>\n",
              "      <td>Married</td>\n",
              "      <td>Post Graduate</td>\n",
              "      <td>392044</td>\n",
              "      <td>Private</td>\n",
              "      <td>12.9</td>\n",
              "      <td>MNC</td>\n",
              "      <td>Family</td>\n",
              "      <td>0.0</td>\n",
              "      <td>4</td>\n",
              "      <td>3</td>\n",
              "      <td>0.0</td>\n",
              "      <td>0.0</td>\n",
              "      <td>5600.0</td>\n",
              "      <td>12300.0</td>\n",
              "      <td>3000.0</td>\n",
              "      <td>Yes</td>\n",
              "      <td>9900.0</td>\n",
              "      <td>623.0</td>\n",
              "      <td>184600.0</td>\n",
              "      <td>61700.0</td>\n",
              "      <td>E-commerce Shopping EMI</td>\n",
              "      <td>153000.0</td>\n",
              "      <td>12</td>\n",
              "      <td>Not_Eligible</td>\n",
              "      <td>8260.0</td>\n",
              "    </tr>\n",
              "    <tr>\n",
              "      <th>8</th>\n",
              "      <td>58</td>\n",
              "      <td>Female</td>\n",
              "      <td>Married</td>\n",
              "      <td>Professional</td>\n",
              "      <td>47700</td>\n",
              "      <td>Private</td>\n",
              "      <td>36.0</td>\n",
              "      <td>Large Indian</td>\n",
              "      <td>Family</td>\n",
              "      <td>0.0</td>\n",
              "      <td>3</td>\n",
              "      <td>2</td>\n",
              "      <td>15000.0</td>\n",
              "      <td>0.0</td>\n",
              "      <td>6100.0</td>\n",
              "      <td>7300.0</td>\n",
              "      <td>8300.0</td>\n",
              "      <td>No</td>\n",
              "      <td>0.0</td>\n",
              "      <td>712.0</td>\n",
              "      <td>235600.0</td>\n",
              "      <td>81800.0</td>\n",
              "      <td>E-commerce Shopping EMI</td>\n",
              "      <td>106000.0</td>\n",
              "      <td>14</td>\n",
              "      <td>Not_Eligible</td>\n",
              "      <td>5500.0</td>\n",
              "    </tr>\n",
              "    <tr>\n",
              "      <th>9</th>\n",
              "      <td>32</td>\n",
              "      <td>Female</td>\n",
              "      <td>Single</td>\n",
              "      <td>Post Graduate</td>\n",
              "      <td>129200</td>\n",
              "      <td>Private</td>\n",
              "      <td>1.9</td>\n",
              "      <td>MNC</td>\n",
              "      <td>Family</td>\n",
              "      <td>0.0</td>\n",
              "      <td>2</td>\n",
              "      <td>1</td>\n",
              "      <td>8100.0</td>\n",
              "      <td>11300.0</td>\n",
              "      <td>11800.0</td>\n",
              "      <td>24100.0</td>\n",
              "      <td>16500.0</td>\n",
              "      <td>Yes</td>\n",
              "      <td>33100.0</td>\n",
              "      <td>681.0</td>\n",
              "      <td>963200.0</td>\n",
              "      <td>519100.0</td>\n",
              "      <td>E-commerce Shopping EMI</td>\n",
              "      <td>81000.0</td>\n",
              "      <td>3</td>\n",
              "      <td>Not_Eligible</td>\n",
              "      <td>9355.5</td>\n",
              "    </tr>\n",
              "  </tbody>\n",
              "</table>\n",
              "</div>"
            ],
            "text/plain": [
              "   age  gender marital_status      education  monthly_salary employment_type  \\\n",
              "0   38  Female        Married   Professional           82600         Private   \n",
              "1   38  Female        Married       Graduate           21500         Private   \n",
              "2   38    Male        Married   Professional           86100         Private   \n",
              "3   58  Female        Married    High School           66800         Private   \n",
              "4   48  Female        Married   Professional           57300         Private   \n",
              "5   38    Male        Married    High School           38800      Government   \n",
              "6   58    Male         Single    High School           27100         Private   \n",
              "7   58  Female        Married  Post Graduate          392044         Private   \n",
              "8   58  Female        Married   Professional           47700         Private   \n",
              "9   32  Female         Single  Post Graduate          129200         Private   \n",
              "\n",
              "   years_of_employment  company_type house_type  monthly_rent  family_size  \\\n",
              "0                  0.9      Mid-size     Rented       20000.0            3   \n",
              "1                  7.0           MNC     Family           0.0            2   \n",
              "2                  5.8       Startup        Own           0.0            4   \n",
              "3                  2.2      Mid-size        Own           0.0            5   \n",
              "4                  3.4      Mid-size     Family           0.0            4   \n",
              "5                  5.0  Large Indian     Rented       13500.0            4   \n",
              "6                 36.0  Large Indian        Own           0.0            3   \n",
              "7                 12.9           MNC     Family           0.0            4   \n",
              "8                 36.0  Large Indian     Family           0.0            3   \n",
              "9                  1.9           MNC     Family           0.0            2   \n",
              "\n",
              "   dependents  school_fees  college_fees  travel_expenses  \\\n",
              "0           2          0.0           0.0           7200.0   \n",
              "1           1       5100.0           0.0           1400.0   \n",
              "2           3          0.0           0.0          10200.0   \n",
              "3           4      11400.0           0.0           6200.0   \n",
              "4           3       9400.0       21300.0           3600.0   \n",
              "5           3          0.0       24100.0           3400.0   \n",
              "6           2      10200.0           0.0           1600.0   \n",
              "7           3          0.0           0.0           5600.0   \n",
              "8           2      15000.0           0.0           6100.0   \n",
              "9           1       8100.0       11300.0          11800.0   \n",
              "\n",
              "   groceries_utilities  other_monthly_expenses existing_loans  \\\n",
              "0              19500.0                 13200.0            Yes   \n",
              "1               5400.0                  3500.0            Yes   \n",
              "2              19400.0                  6000.0             No   \n",
              "3              11900.0                  7900.0             No   \n",
              "4              16200.0                  8100.0             No   \n",
              "5               8200.0                  6700.0             No   \n",
              "6               7300.0                  4100.0             No   \n",
              "7              12300.0                  3000.0            Yes   \n",
              "8               7300.0                  8300.0             No   \n",
              "9              24100.0                 16500.0            Yes   \n",
              "\n",
              "   current_emi_amount  credit_score  bank_balance  emergency_fund  \\\n",
              "0             23700.0         660.0      303200.0         70200.0   \n",
              "1              4100.0         714.0       92500.0         26900.0   \n",
              "2                 0.0         650.0      672100.0        324200.0   \n",
              "3                 0.0         685.0      440900.0        178100.0   \n",
              "4                 0.0         770.0       97300.0         28200.0   \n",
              "5                 0.0         792.0      260800.0         55600.0   \n",
              "6                 0.0         741.0       68000.0         36200.0   \n",
              "7              9900.0         623.0      184600.0         61700.0   \n",
              "8                 0.0         712.0      235600.0         81800.0   \n",
              "9             33100.0         681.0      963200.0        519100.0   \n",
              "\n",
              "              emi_scenario  requested_amount  requested_tenure  \\\n",
              "0        Personal Loan EMI          850000.0                15   \n",
              "1  E-commerce Shopping EMI          128000.0                19   \n",
              "2            Education EMI          306000.0                16   \n",
              "3              Vehicle EMI          304000.0                83   \n",
              "4      Home Appliances EMI          252000.0                 7   \n",
              "5              Vehicle EMI         1257000.0                53   \n",
              "6      Home Appliances EMI          280000.0                11   \n",
              "7  E-commerce Shopping EMI          153000.0                12   \n",
              "8  E-commerce Shopping EMI          106000.0                14   \n",
              "9  E-commerce Shopping EMI           81000.0                 3   \n",
              "\n",
              "  emi_eligibility  max_monthly_emi  \n",
              "0    Not_Eligible            500.0  \n",
              "1    Not_Eligible            700.0  \n",
              "2        Eligible          27775.0  \n",
              "3        Eligible          16170.0  \n",
              "4    Not_Eligible            500.0  \n",
              "5    Not_Eligible            500.0  \n",
              "6    Not_Eligible           1950.0  \n",
              "7    Not_Eligible           8260.0  \n",
              "8    Not_Eligible           5500.0  \n",
              "9    Not_Eligible           9355.5  "
            ]
          },
          "execution_count": 116,
          "metadata": {},
          "output_type": "execute_result"
        }
      ],
      "source": [
        "df.head(10)"
      ]
    },
    {
      "cell_type": "code",
      "execution_count": null,
      "metadata": {},
      "outputs": [],
      "source": [
        "# df.to_csv('cleaned_emi_data.csv')"
      ]
    },
    {
      "cell_type": "code",
      "execution_count": null,
      "metadata": {},
      "outputs": [],
      "source": [
        "cleaned_data=pd.read_csv('cleaned_emi_data.csv')"
      ]
    },
    {
      "cell_type": "code",
      "execution_count": 119,
      "metadata": {},
      "outputs": [
        {
          "data": {
            "text/html": [
              "<div>\n",
              "<style scoped>\n",
              "    .dataframe tbody tr th:only-of-type {\n",
              "        vertical-align: middle;\n",
              "    }\n",
              "\n",
              "    .dataframe tbody tr th {\n",
              "        vertical-align: top;\n",
              "    }\n",
              "\n",
              "    .dataframe thead th {\n",
              "        text-align: right;\n",
              "    }\n",
              "</style>\n",
              "<table border=\"1\" class=\"dataframe\">\n",
              "  <thead>\n",
              "    <tr style=\"text-align: right;\">\n",
              "      <th></th>\n",
              "      <th>Unnamed: 0</th>\n",
              "      <th>age</th>\n",
              "      <th>gender</th>\n",
              "      <th>marital_status</th>\n",
              "      <th>education</th>\n",
              "      <th>monthly_salary</th>\n",
              "      <th>employment_type</th>\n",
              "      <th>years_of_employment</th>\n",
              "      <th>company_type</th>\n",
              "      <th>house_type</th>\n",
              "      <th>monthly_rent</th>\n",
              "      <th>family_size</th>\n",
              "      <th>dependents</th>\n",
              "      <th>school_fees</th>\n",
              "      <th>college_fees</th>\n",
              "      <th>travel_expenses</th>\n",
              "      <th>groceries_utilities</th>\n",
              "      <th>other_monthly_expenses</th>\n",
              "      <th>existing_loans</th>\n",
              "      <th>current_emi_amount</th>\n",
              "      <th>credit_score</th>\n",
              "      <th>bank_balance</th>\n",
              "      <th>emergency_fund</th>\n",
              "      <th>emi_scenario</th>\n",
              "      <th>requested_amount</th>\n",
              "      <th>requested_tenure</th>\n",
              "      <th>emi_eligibility</th>\n",
              "      <th>max_monthly_emi</th>\n",
              "    </tr>\n",
              "  </thead>\n",
              "  <tbody>\n",
              "    <tr>\n",
              "      <th>0</th>\n",
              "      <td>0</td>\n",
              "      <td>38</td>\n",
              "      <td>Female</td>\n",
              "      <td>Married</td>\n",
              "      <td>Professional</td>\n",
              "      <td>82600</td>\n",
              "      <td>Private</td>\n",
              "      <td>0.9</td>\n",
              "      <td>Mid-size</td>\n",
              "      <td>Rented</td>\n",
              "      <td>20000.0</td>\n",
              "      <td>3</td>\n",
              "      <td>2</td>\n",
              "      <td>0.0</td>\n",
              "      <td>0.0</td>\n",
              "      <td>7200.0</td>\n",
              "      <td>19500.0</td>\n",
              "      <td>13200.0</td>\n",
              "      <td>Yes</td>\n",
              "      <td>23700.0</td>\n",
              "      <td>660.0</td>\n",
              "      <td>303200.0</td>\n",
              "      <td>70200.0</td>\n",
              "      <td>Personal Loan EMI</td>\n",
              "      <td>850000.0</td>\n",
              "      <td>15</td>\n",
              "      <td>Not_Eligible</td>\n",
              "      <td>500.0</td>\n",
              "    </tr>\n",
              "    <tr>\n",
              "      <th>1</th>\n",
              "      <td>1</td>\n",
              "      <td>38</td>\n",
              "      <td>Female</td>\n",
              "      <td>Married</td>\n",
              "      <td>Graduate</td>\n",
              "      <td>21500</td>\n",
              "      <td>Private</td>\n",
              "      <td>7.0</td>\n",
              "      <td>MNC</td>\n",
              "      <td>Family</td>\n",
              "      <td>0.0</td>\n",
              "      <td>2</td>\n",
              "      <td>1</td>\n",
              "      <td>5100.0</td>\n",
              "      <td>0.0</td>\n",
              "      <td>1400.0</td>\n",
              "      <td>5400.0</td>\n",
              "      <td>3500.0</td>\n",
              "      <td>Yes</td>\n",
              "      <td>4100.0</td>\n",
              "      <td>714.0</td>\n",
              "      <td>92500.0</td>\n",
              "      <td>26900.0</td>\n",
              "      <td>E-commerce Shopping EMI</td>\n",
              "      <td>128000.0</td>\n",
              "      <td>19</td>\n",
              "      <td>Not_Eligible</td>\n",
              "      <td>700.0</td>\n",
              "    </tr>\n",
              "    <tr>\n",
              "      <th>2</th>\n",
              "      <td>2</td>\n",
              "      <td>38</td>\n",
              "      <td>Male</td>\n",
              "      <td>Married</td>\n",
              "      <td>Professional</td>\n",
              "      <td>86100</td>\n",
              "      <td>Private</td>\n",
              "      <td>5.8</td>\n",
              "      <td>Startup</td>\n",
              "      <td>Own</td>\n",
              "      <td>0.0</td>\n",
              "      <td>4</td>\n",
              "      <td>3</td>\n",
              "      <td>0.0</td>\n",
              "      <td>0.0</td>\n",
              "      <td>10200.0</td>\n",
              "      <td>19400.0</td>\n",
              "      <td>6000.0</td>\n",
              "      <td>No</td>\n",
              "      <td>0.0</td>\n",
              "      <td>650.0</td>\n",
              "      <td>672100.0</td>\n",
              "      <td>324200.0</td>\n",
              "      <td>Education EMI</td>\n",
              "      <td>306000.0</td>\n",
              "      <td>16</td>\n",
              "      <td>Eligible</td>\n",
              "      <td>27775.0</td>\n",
              "    </tr>\n",
              "    <tr>\n",
              "      <th>3</th>\n",
              "      <td>3</td>\n",
              "      <td>58</td>\n",
              "      <td>Female</td>\n",
              "      <td>Married</td>\n",
              "      <td>High School</td>\n",
              "      <td>66800</td>\n",
              "      <td>Private</td>\n",
              "      <td>2.2</td>\n",
              "      <td>Mid-size</td>\n",
              "      <td>Own</td>\n",
              "      <td>0.0</td>\n",
              "      <td>5</td>\n",
              "      <td>4</td>\n",
              "      <td>11400.0</td>\n",
              "      <td>0.0</td>\n",
              "      <td>6200.0</td>\n",
              "      <td>11900.0</td>\n",
              "      <td>7900.0</td>\n",
              "      <td>No</td>\n",
              "      <td>0.0</td>\n",
              "      <td>685.0</td>\n",
              "      <td>440900.0</td>\n",
              "      <td>178100.0</td>\n",
              "      <td>Vehicle EMI</td>\n",
              "      <td>304000.0</td>\n",
              "      <td>83</td>\n",
              "      <td>Eligible</td>\n",
              "      <td>16170.0</td>\n",
              "    </tr>\n",
              "    <tr>\n",
              "      <th>4</th>\n",
              "      <td>4</td>\n",
              "      <td>48</td>\n",
              "      <td>Female</td>\n",
              "      <td>Married</td>\n",
              "      <td>Professional</td>\n",
              "      <td>57300</td>\n",
              "      <td>Private</td>\n",
              "      <td>3.4</td>\n",
              "      <td>Mid-size</td>\n",
              "      <td>Family</td>\n",
              "      <td>0.0</td>\n",
              "      <td>4</td>\n",
              "      <td>3</td>\n",
              "      <td>9400.0</td>\n",
              "      <td>21300.0</td>\n",
              "      <td>3600.0</td>\n",
              "      <td>16200.0</td>\n",
              "      <td>8100.0</td>\n",
              "      <td>No</td>\n",
              "      <td>0.0</td>\n",
              "      <td>770.0</td>\n",
              "      <td>97300.0</td>\n",
              "      <td>28200.0</td>\n",
              "      <td>Home Appliances EMI</td>\n",
              "      <td>252000.0</td>\n",
              "      <td>7</td>\n",
              "      <td>Not_Eligible</td>\n",
              "      <td>500.0</td>\n",
              "    </tr>\n",
              "    <tr>\n",
              "      <th>...</th>\n",
              "      <td>...</td>\n",
              "      <td>...</td>\n",
              "      <td>...</td>\n",
              "      <td>...</td>\n",
              "      <td>...</td>\n",
              "      <td>...</td>\n",
              "      <td>...</td>\n",
              "      <td>...</td>\n",
              "      <td>...</td>\n",
              "      <td>...</td>\n",
              "      <td>...</td>\n",
              "      <td>...</td>\n",
              "      <td>...</td>\n",
              "      <td>...</td>\n",
              "      <td>...</td>\n",
              "      <td>...</td>\n",
              "      <td>...</td>\n",
              "      <td>...</td>\n",
              "      <td>...</td>\n",
              "      <td>...</td>\n",
              "      <td>...</td>\n",
              "      <td>...</td>\n",
              "      <td>...</td>\n",
              "      <td>...</td>\n",
              "      <td>...</td>\n",
              "      <td>...</td>\n",
              "      <td>...</td>\n",
              "      <td>...</td>\n",
              "    </tr>\n",
              "    <tr>\n",
              "      <th>404795</th>\n",
              "      <td>404795</td>\n",
              "      <td>27</td>\n",
              "      <td>Male</td>\n",
              "      <td>Married</td>\n",
              "      <td>Graduate</td>\n",
              "      <td>32400</td>\n",
              "      <td>Private</td>\n",
              "      <td>5.0</td>\n",
              "      <td>Large Indian</td>\n",
              "      <td>Rented</td>\n",
              "      <td>10400.0</td>\n",
              "      <td>4</td>\n",
              "      <td>3</td>\n",
              "      <td>2800.0</td>\n",
              "      <td>7000.0</td>\n",
              "      <td>2200.0</td>\n",
              "      <td>4900.0</td>\n",
              "      <td>6100.0</td>\n",
              "      <td>No</td>\n",
              "      <td>0.0</td>\n",
              "      <td>649.0</td>\n",
              "      <td>62000.0</td>\n",
              "      <td>32600.0</td>\n",
              "      <td>Personal Loan EMI</td>\n",
              "      <td>506000.0</td>\n",
              "      <td>47</td>\n",
              "      <td>Not_Eligible</td>\n",
              "      <td>500.0</td>\n",
              "    </tr>\n",
              "    <tr>\n",
              "      <th>404796</th>\n",
              "      <td>404796</td>\n",
              "      <td>38</td>\n",
              "      <td>Male</td>\n",
              "      <td>Married</td>\n",
              "      <td>Post Graduate</td>\n",
              "      <td>49200</td>\n",
              "      <td>Private</td>\n",
              "      <td>1.9</td>\n",
              "      <td>MNC</td>\n",
              "      <td>Own</td>\n",
              "      <td>0.0</td>\n",
              "      <td>5</td>\n",
              "      <td>4</td>\n",
              "      <td>14000.0</td>\n",
              "      <td>0.0</td>\n",
              "      <td>2600.0</td>\n",
              "      <td>13600.0</td>\n",
              "      <td>8600.0</td>\n",
              "      <td>No</td>\n",
              "      <td>0.0</td>\n",
              "      <td>712.0</td>\n",
              "      <td>142200.0</td>\n",
              "      <td>38100.0</td>\n",
              "      <td>Personal Loan EMI</td>\n",
              "      <td>708000.0</td>\n",
              "      <td>33</td>\n",
              "      <td>Not_Eligible</td>\n",
              "      <td>5200.0</td>\n",
              "    </tr>\n",
              "    <tr>\n",
              "      <th>404797</th>\n",
              "      <td>404797</td>\n",
              "      <td>32</td>\n",
              "      <td>Male</td>\n",
              "      <td>Single</td>\n",
              "      <td>Graduate</td>\n",
              "      <td>25700</td>\n",
              "      <td>Private</td>\n",
              "      <td>3.2</td>\n",
              "      <td>MNC</td>\n",
              "      <td>Rented</td>\n",
              "      <td>6300.0</td>\n",
              "      <td>1</td>\n",
              "      <td>0</td>\n",
              "      <td>0.0</td>\n",
              "      <td>0.0</td>\n",
              "      <td>2000.0</td>\n",
              "      <td>4600.0</td>\n",
              "      <td>2500.0</td>\n",
              "      <td>No</td>\n",
              "      <td>0.0</td>\n",
              "      <td>676.0</td>\n",
              "      <td>191600.0</td>\n",
              "      <td>39700.0</td>\n",
              "      <td>Home Appliances EMI</td>\n",
              "      <td>93000.0</td>\n",
              "      <td>21</td>\n",
              "      <td>High_Risk</td>\n",
              "      <td>5665.0</td>\n",
              "    </tr>\n",
              "    <tr>\n",
              "      <th>404798</th>\n",
              "      <td>404798</td>\n",
              "      <td>48</td>\n",
              "      <td>Male</td>\n",
              "      <td>Married</td>\n",
              "      <td>Graduate</td>\n",
              "      <td>47200</td>\n",
              "      <td>Private</td>\n",
              "      <td>3.0</td>\n",
              "      <td>MNC</td>\n",
              "      <td>Own</td>\n",
              "      <td>0.0</td>\n",
              "      <td>4</td>\n",
              "      <td>3</td>\n",
              "      <td>0.0</td>\n",
              "      <td>0.0</td>\n",
              "      <td>7000.0</td>\n",
              "      <td>8900.0</td>\n",
              "      <td>7200.0</td>\n",
              "      <td>No</td>\n",
              "      <td>0.0</td>\n",
              "      <td>784.0</td>\n",
              "      <td>170400.0</td>\n",
              "      <td>45600.0</td>\n",
              "      <td>Home Appliances EMI</td>\n",
              "      <td>144000.0</td>\n",
              "      <td>36</td>\n",
              "      <td>Eligible</td>\n",
              "      <td>14460.0</td>\n",
              "    </tr>\n",
              "    <tr>\n",
              "      <th>404799</th>\n",
              "      <td>404799</td>\n",
              "      <td>38</td>\n",
              "      <td>Female</td>\n",
              "      <td>Married</td>\n",
              "      <td>Graduate</td>\n",
              "      <td>34900</td>\n",
              "      <td>Private</td>\n",
              "      <td>1.2</td>\n",
              "      <td>MNC</td>\n",
              "      <td>Family</td>\n",
              "      <td>0.0</td>\n",
              "      <td>2</td>\n",
              "      <td>1</td>\n",
              "      <td>0.0</td>\n",
              "      <td>0.0</td>\n",
              "      <td>4800.0</td>\n",
              "      <td>8100.0</td>\n",
              "      <td>2100.0</td>\n",
              "      <td>No</td>\n",
              "      <td>0.0</td>\n",
              "      <td>641.0</td>\n",
              "      <td>214400.0</td>\n",
              "      <td>99400.0</td>\n",
              "      <td>Home Appliances EMI</td>\n",
              "      <td>77000.0</td>\n",
              "      <td>35</td>\n",
              "      <td>Eligible</td>\n",
              "      <td>8756.0</td>\n",
              "    </tr>\n",
              "  </tbody>\n",
              "</table>\n",
              "<p>404800 rows × 28 columns</p>\n",
              "</div>"
            ],
            "text/plain": [
              "        Unnamed: 0  age  gender marital_status      education  monthly_salary  \\\n",
              "0                0   38  Female        Married   Professional           82600   \n",
              "1                1   38  Female        Married       Graduate           21500   \n",
              "2                2   38    Male        Married   Professional           86100   \n",
              "3                3   58  Female        Married    High School           66800   \n",
              "4                4   48  Female        Married   Professional           57300   \n",
              "...            ...  ...     ...            ...            ...             ...   \n",
              "404795      404795   27    Male        Married       Graduate           32400   \n",
              "404796      404796   38    Male        Married  Post Graduate           49200   \n",
              "404797      404797   32    Male         Single       Graduate           25700   \n",
              "404798      404798   48    Male        Married       Graduate           47200   \n",
              "404799      404799   38  Female        Married       Graduate           34900   \n",
              "\n",
              "       employment_type  years_of_employment  company_type house_type  \\\n",
              "0              Private                  0.9      Mid-size     Rented   \n",
              "1              Private                  7.0           MNC     Family   \n",
              "2              Private                  5.8       Startup        Own   \n",
              "3              Private                  2.2      Mid-size        Own   \n",
              "4              Private                  3.4      Mid-size     Family   \n",
              "...                ...                  ...           ...        ...   \n",
              "404795         Private                  5.0  Large Indian     Rented   \n",
              "404796         Private                  1.9           MNC        Own   \n",
              "404797         Private                  3.2           MNC     Rented   \n",
              "404798         Private                  3.0           MNC        Own   \n",
              "404799         Private                  1.2           MNC     Family   \n",
              "\n",
              "        monthly_rent  family_size  dependents  school_fees  college_fees  \\\n",
              "0            20000.0            3           2          0.0           0.0   \n",
              "1                0.0            2           1       5100.0           0.0   \n",
              "2                0.0            4           3          0.0           0.0   \n",
              "3                0.0            5           4      11400.0           0.0   \n",
              "4                0.0            4           3       9400.0       21300.0   \n",
              "...              ...          ...         ...          ...           ...   \n",
              "404795       10400.0            4           3       2800.0        7000.0   \n",
              "404796           0.0            5           4      14000.0           0.0   \n",
              "404797        6300.0            1           0          0.0           0.0   \n",
              "404798           0.0            4           3          0.0           0.0   \n",
              "404799           0.0            2           1          0.0           0.0   \n",
              "\n",
              "        travel_expenses  groceries_utilities  other_monthly_expenses  \\\n",
              "0                7200.0              19500.0                 13200.0   \n",
              "1                1400.0               5400.0                  3500.0   \n",
              "2               10200.0              19400.0                  6000.0   \n",
              "3                6200.0              11900.0                  7900.0   \n",
              "4                3600.0              16200.0                  8100.0   \n",
              "...                 ...                  ...                     ...   \n",
              "404795           2200.0               4900.0                  6100.0   \n",
              "404796           2600.0              13600.0                  8600.0   \n",
              "404797           2000.0               4600.0                  2500.0   \n",
              "404798           7000.0               8900.0                  7200.0   \n",
              "404799           4800.0               8100.0                  2100.0   \n",
              "\n",
              "       existing_loans  current_emi_amount  credit_score  bank_balance  \\\n",
              "0                 Yes             23700.0         660.0      303200.0   \n",
              "1                 Yes              4100.0         714.0       92500.0   \n",
              "2                  No                 0.0         650.0      672100.0   \n",
              "3                  No                 0.0         685.0      440900.0   \n",
              "4                  No                 0.0         770.0       97300.0   \n",
              "...               ...                 ...           ...           ...   \n",
              "404795             No                 0.0         649.0       62000.0   \n",
              "404796             No                 0.0         712.0      142200.0   \n",
              "404797             No                 0.0         676.0      191600.0   \n",
              "404798             No                 0.0         784.0      170400.0   \n",
              "404799             No                 0.0         641.0      214400.0   \n",
              "\n",
              "        emergency_fund             emi_scenario  requested_amount  \\\n",
              "0              70200.0        Personal Loan EMI          850000.0   \n",
              "1              26900.0  E-commerce Shopping EMI          128000.0   \n",
              "2             324200.0            Education EMI          306000.0   \n",
              "3             178100.0              Vehicle EMI          304000.0   \n",
              "4              28200.0      Home Appliances EMI          252000.0   \n",
              "...                ...                      ...               ...   \n",
              "404795         32600.0        Personal Loan EMI          506000.0   \n",
              "404796         38100.0        Personal Loan EMI          708000.0   \n",
              "404797         39700.0      Home Appliances EMI           93000.0   \n",
              "404798         45600.0      Home Appliances EMI          144000.0   \n",
              "404799         99400.0      Home Appliances EMI           77000.0   \n",
              "\n",
              "        requested_tenure emi_eligibility  max_monthly_emi  \n",
              "0                     15    Not_Eligible            500.0  \n",
              "1                     19    Not_Eligible            700.0  \n",
              "2                     16        Eligible          27775.0  \n",
              "3                     83        Eligible          16170.0  \n",
              "4                      7    Not_Eligible            500.0  \n",
              "...                  ...             ...              ...  \n",
              "404795                47    Not_Eligible            500.0  \n",
              "404796                33    Not_Eligible           5200.0  \n",
              "404797                21       High_Risk           5665.0  \n",
              "404798                36        Eligible          14460.0  \n",
              "404799                35        Eligible           8756.0  \n",
              "\n",
              "[404800 rows x 28 columns]"
            ]
          },
          "execution_count": 119,
          "metadata": {},
          "output_type": "execute_result"
        }
      ],
      "source": [
        "cleaned_data"
      ]
    },
    {
      "cell_type": "code",
      "execution_count": 120,
      "metadata": {},
      "outputs": [
        {
          "data": {
            "text/html": [
              "<div>\n",
              "<style scoped>\n",
              "    .dataframe tbody tr th:only-of-type {\n",
              "        vertical-align: middle;\n",
              "    }\n",
              "\n",
              "    .dataframe tbody tr th {\n",
              "        vertical-align: top;\n",
              "    }\n",
              "\n",
              "    .dataframe thead th {\n",
              "        text-align: right;\n",
              "    }\n",
              "</style>\n",
              "<table border=\"1\" class=\"dataframe\">\n",
              "  <thead>\n",
              "    <tr style=\"text-align: right;\">\n",
              "      <th></th>\n",
              "      <th>age</th>\n",
              "      <th>gender</th>\n",
              "      <th>marital_status</th>\n",
              "      <th>education</th>\n",
              "      <th>monthly_salary</th>\n",
              "      <th>employment_type</th>\n",
              "      <th>years_of_employment</th>\n",
              "      <th>company_type</th>\n",
              "      <th>house_type</th>\n",
              "      <th>monthly_rent</th>\n",
              "      <th>family_size</th>\n",
              "      <th>dependents</th>\n",
              "      <th>school_fees</th>\n",
              "      <th>college_fees</th>\n",
              "      <th>travel_expenses</th>\n",
              "      <th>groceries_utilities</th>\n",
              "      <th>other_monthly_expenses</th>\n",
              "      <th>existing_loans</th>\n",
              "      <th>current_emi_amount</th>\n",
              "      <th>credit_score</th>\n",
              "      <th>bank_balance</th>\n",
              "      <th>emergency_fund</th>\n",
              "      <th>emi_scenario</th>\n",
              "      <th>requested_amount</th>\n",
              "      <th>requested_tenure</th>\n",
              "      <th>emi_eligibility</th>\n",
              "      <th>max_monthly_emi</th>\n",
              "    </tr>\n",
              "  </thead>\n",
              "  <tbody>\n",
              "    <tr>\n",
              "      <th>0</th>\n",
              "      <td>38</td>\n",
              "      <td>Female</td>\n",
              "      <td>Married</td>\n",
              "      <td>Professional</td>\n",
              "      <td>82600</td>\n",
              "      <td>Private</td>\n",
              "      <td>0.9</td>\n",
              "      <td>Mid-size</td>\n",
              "      <td>Rented</td>\n",
              "      <td>20000.0</td>\n",
              "      <td>3</td>\n",
              "      <td>2</td>\n",
              "      <td>0.0</td>\n",
              "      <td>0.0</td>\n",
              "      <td>7200.0</td>\n",
              "      <td>19500.0</td>\n",
              "      <td>13200.0</td>\n",
              "      <td>Yes</td>\n",
              "      <td>23700.0</td>\n",
              "      <td>660.0</td>\n",
              "      <td>303200.0</td>\n",
              "      <td>70200.0</td>\n",
              "      <td>Personal Loan EMI</td>\n",
              "      <td>850000.0</td>\n",
              "      <td>15</td>\n",
              "      <td>Not_Eligible</td>\n",
              "      <td>500.0</td>\n",
              "    </tr>\n",
              "    <tr>\n",
              "      <th>1</th>\n",
              "      <td>38</td>\n",
              "      <td>Female</td>\n",
              "      <td>Married</td>\n",
              "      <td>Graduate</td>\n",
              "      <td>21500</td>\n",
              "      <td>Private</td>\n",
              "      <td>7.0</td>\n",
              "      <td>MNC</td>\n",
              "      <td>Family</td>\n",
              "      <td>0.0</td>\n",
              "      <td>2</td>\n",
              "      <td>1</td>\n",
              "      <td>5100.0</td>\n",
              "      <td>0.0</td>\n",
              "      <td>1400.0</td>\n",
              "      <td>5400.0</td>\n",
              "      <td>3500.0</td>\n",
              "      <td>Yes</td>\n",
              "      <td>4100.0</td>\n",
              "      <td>714.0</td>\n",
              "      <td>92500.0</td>\n",
              "      <td>26900.0</td>\n",
              "      <td>E-commerce Shopping EMI</td>\n",
              "      <td>128000.0</td>\n",
              "      <td>19</td>\n",
              "      <td>Not_Eligible</td>\n",
              "      <td>700.0</td>\n",
              "    </tr>\n",
              "    <tr>\n",
              "      <th>2</th>\n",
              "      <td>38</td>\n",
              "      <td>Male</td>\n",
              "      <td>Married</td>\n",
              "      <td>Professional</td>\n",
              "      <td>86100</td>\n",
              "      <td>Private</td>\n",
              "      <td>5.8</td>\n",
              "      <td>Startup</td>\n",
              "      <td>Own</td>\n",
              "      <td>0.0</td>\n",
              "      <td>4</td>\n",
              "      <td>3</td>\n",
              "      <td>0.0</td>\n",
              "      <td>0.0</td>\n",
              "      <td>10200.0</td>\n",
              "      <td>19400.0</td>\n",
              "      <td>6000.0</td>\n",
              "      <td>No</td>\n",
              "      <td>0.0</td>\n",
              "      <td>650.0</td>\n",
              "      <td>672100.0</td>\n",
              "      <td>324200.0</td>\n",
              "      <td>Education EMI</td>\n",
              "      <td>306000.0</td>\n",
              "      <td>16</td>\n",
              "      <td>Eligible</td>\n",
              "      <td>27775.0</td>\n",
              "    </tr>\n",
              "    <tr>\n",
              "      <th>3</th>\n",
              "      <td>58</td>\n",
              "      <td>Female</td>\n",
              "      <td>Married</td>\n",
              "      <td>High School</td>\n",
              "      <td>66800</td>\n",
              "      <td>Private</td>\n",
              "      <td>2.2</td>\n",
              "      <td>Mid-size</td>\n",
              "      <td>Own</td>\n",
              "      <td>0.0</td>\n",
              "      <td>5</td>\n",
              "      <td>4</td>\n",
              "      <td>11400.0</td>\n",
              "      <td>0.0</td>\n",
              "      <td>6200.0</td>\n",
              "      <td>11900.0</td>\n",
              "      <td>7900.0</td>\n",
              "      <td>No</td>\n",
              "      <td>0.0</td>\n",
              "      <td>685.0</td>\n",
              "      <td>440900.0</td>\n",
              "      <td>178100.0</td>\n",
              "      <td>Vehicle EMI</td>\n",
              "      <td>304000.0</td>\n",
              "      <td>83</td>\n",
              "      <td>Eligible</td>\n",
              "      <td>16170.0</td>\n",
              "    </tr>\n",
              "    <tr>\n",
              "      <th>4</th>\n",
              "      <td>48</td>\n",
              "      <td>Female</td>\n",
              "      <td>Married</td>\n",
              "      <td>Professional</td>\n",
              "      <td>57300</td>\n",
              "      <td>Private</td>\n",
              "      <td>3.4</td>\n",
              "      <td>Mid-size</td>\n",
              "      <td>Family</td>\n",
              "      <td>0.0</td>\n",
              "      <td>4</td>\n",
              "      <td>3</td>\n",
              "      <td>9400.0</td>\n",
              "      <td>21300.0</td>\n",
              "      <td>3600.0</td>\n",
              "      <td>16200.0</td>\n",
              "      <td>8100.0</td>\n",
              "      <td>No</td>\n",
              "      <td>0.0</td>\n",
              "      <td>770.0</td>\n",
              "      <td>97300.0</td>\n",
              "      <td>28200.0</td>\n",
              "      <td>Home Appliances EMI</td>\n",
              "      <td>252000.0</td>\n",
              "      <td>7</td>\n",
              "      <td>Not_Eligible</td>\n",
              "      <td>500.0</td>\n",
              "    </tr>\n",
              "    <tr>\n",
              "      <th>...</th>\n",
              "      <td>...</td>\n",
              "      <td>...</td>\n",
              "      <td>...</td>\n",
              "      <td>...</td>\n",
              "      <td>...</td>\n",
              "      <td>...</td>\n",
              "      <td>...</td>\n",
              "      <td>...</td>\n",
              "      <td>...</td>\n",
              "      <td>...</td>\n",
              "      <td>...</td>\n",
              "      <td>...</td>\n",
              "      <td>...</td>\n",
              "      <td>...</td>\n",
              "      <td>...</td>\n",
              "      <td>...</td>\n",
              "      <td>...</td>\n",
              "      <td>...</td>\n",
              "      <td>...</td>\n",
              "      <td>...</td>\n",
              "      <td>...</td>\n",
              "      <td>...</td>\n",
              "      <td>...</td>\n",
              "      <td>...</td>\n",
              "      <td>...</td>\n",
              "      <td>...</td>\n",
              "      <td>...</td>\n",
              "    </tr>\n",
              "    <tr>\n",
              "      <th>404795</th>\n",
              "      <td>27</td>\n",
              "      <td>Male</td>\n",
              "      <td>Married</td>\n",
              "      <td>Graduate</td>\n",
              "      <td>32400</td>\n",
              "      <td>Private</td>\n",
              "      <td>5.0</td>\n",
              "      <td>Large Indian</td>\n",
              "      <td>Rented</td>\n",
              "      <td>10400.0</td>\n",
              "      <td>4</td>\n",
              "      <td>3</td>\n",
              "      <td>2800.0</td>\n",
              "      <td>7000.0</td>\n",
              "      <td>2200.0</td>\n",
              "      <td>4900.0</td>\n",
              "      <td>6100.0</td>\n",
              "      <td>No</td>\n",
              "      <td>0.0</td>\n",
              "      <td>649.0</td>\n",
              "      <td>62000.0</td>\n",
              "      <td>32600.0</td>\n",
              "      <td>Personal Loan EMI</td>\n",
              "      <td>506000.0</td>\n",
              "      <td>47</td>\n",
              "      <td>Not_Eligible</td>\n",
              "      <td>500.0</td>\n",
              "    </tr>\n",
              "    <tr>\n",
              "      <th>404796</th>\n",
              "      <td>38</td>\n",
              "      <td>Male</td>\n",
              "      <td>Married</td>\n",
              "      <td>Post Graduate</td>\n",
              "      <td>49200</td>\n",
              "      <td>Private</td>\n",
              "      <td>1.9</td>\n",
              "      <td>MNC</td>\n",
              "      <td>Own</td>\n",
              "      <td>0.0</td>\n",
              "      <td>5</td>\n",
              "      <td>4</td>\n",
              "      <td>14000.0</td>\n",
              "      <td>0.0</td>\n",
              "      <td>2600.0</td>\n",
              "      <td>13600.0</td>\n",
              "      <td>8600.0</td>\n",
              "      <td>No</td>\n",
              "      <td>0.0</td>\n",
              "      <td>712.0</td>\n",
              "      <td>142200.0</td>\n",
              "      <td>38100.0</td>\n",
              "      <td>Personal Loan EMI</td>\n",
              "      <td>708000.0</td>\n",
              "      <td>33</td>\n",
              "      <td>Not_Eligible</td>\n",
              "      <td>5200.0</td>\n",
              "    </tr>\n",
              "    <tr>\n",
              "      <th>404797</th>\n",
              "      <td>32</td>\n",
              "      <td>Male</td>\n",
              "      <td>Single</td>\n",
              "      <td>Graduate</td>\n",
              "      <td>25700</td>\n",
              "      <td>Private</td>\n",
              "      <td>3.2</td>\n",
              "      <td>MNC</td>\n",
              "      <td>Rented</td>\n",
              "      <td>6300.0</td>\n",
              "      <td>1</td>\n",
              "      <td>0</td>\n",
              "      <td>0.0</td>\n",
              "      <td>0.0</td>\n",
              "      <td>2000.0</td>\n",
              "      <td>4600.0</td>\n",
              "      <td>2500.0</td>\n",
              "      <td>No</td>\n",
              "      <td>0.0</td>\n",
              "      <td>676.0</td>\n",
              "      <td>191600.0</td>\n",
              "      <td>39700.0</td>\n",
              "      <td>Home Appliances EMI</td>\n",
              "      <td>93000.0</td>\n",
              "      <td>21</td>\n",
              "      <td>High_Risk</td>\n",
              "      <td>5665.0</td>\n",
              "    </tr>\n",
              "    <tr>\n",
              "      <th>404798</th>\n",
              "      <td>48</td>\n",
              "      <td>Male</td>\n",
              "      <td>Married</td>\n",
              "      <td>Graduate</td>\n",
              "      <td>47200</td>\n",
              "      <td>Private</td>\n",
              "      <td>3.0</td>\n",
              "      <td>MNC</td>\n",
              "      <td>Own</td>\n",
              "      <td>0.0</td>\n",
              "      <td>4</td>\n",
              "      <td>3</td>\n",
              "      <td>0.0</td>\n",
              "      <td>0.0</td>\n",
              "      <td>7000.0</td>\n",
              "      <td>8900.0</td>\n",
              "      <td>7200.0</td>\n",
              "      <td>No</td>\n",
              "      <td>0.0</td>\n",
              "      <td>784.0</td>\n",
              "      <td>170400.0</td>\n",
              "      <td>45600.0</td>\n",
              "      <td>Home Appliances EMI</td>\n",
              "      <td>144000.0</td>\n",
              "      <td>36</td>\n",
              "      <td>Eligible</td>\n",
              "      <td>14460.0</td>\n",
              "    </tr>\n",
              "    <tr>\n",
              "      <th>404799</th>\n",
              "      <td>38</td>\n",
              "      <td>Female</td>\n",
              "      <td>Married</td>\n",
              "      <td>Graduate</td>\n",
              "      <td>34900</td>\n",
              "      <td>Private</td>\n",
              "      <td>1.2</td>\n",
              "      <td>MNC</td>\n",
              "      <td>Family</td>\n",
              "      <td>0.0</td>\n",
              "      <td>2</td>\n",
              "      <td>1</td>\n",
              "      <td>0.0</td>\n",
              "      <td>0.0</td>\n",
              "      <td>4800.0</td>\n",
              "      <td>8100.0</td>\n",
              "      <td>2100.0</td>\n",
              "      <td>No</td>\n",
              "      <td>0.0</td>\n",
              "      <td>641.0</td>\n",
              "      <td>214400.0</td>\n",
              "      <td>99400.0</td>\n",
              "      <td>Home Appliances EMI</td>\n",
              "      <td>77000.0</td>\n",
              "      <td>35</td>\n",
              "      <td>Eligible</td>\n",
              "      <td>8756.0</td>\n",
              "    </tr>\n",
              "  </tbody>\n",
              "</table>\n",
              "<p>404800 rows × 27 columns</p>\n",
              "</div>"
            ],
            "text/plain": [
              "        age  gender marital_status      education  monthly_salary  \\\n",
              "0        38  Female        Married   Professional           82600   \n",
              "1        38  Female        Married       Graduate           21500   \n",
              "2        38    Male        Married   Professional           86100   \n",
              "3        58  Female        Married    High School           66800   \n",
              "4        48  Female        Married   Professional           57300   \n",
              "...     ...     ...            ...            ...             ...   \n",
              "404795   27    Male        Married       Graduate           32400   \n",
              "404796   38    Male        Married  Post Graduate           49200   \n",
              "404797   32    Male         Single       Graduate           25700   \n",
              "404798   48    Male        Married       Graduate           47200   \n",
              "404799   38  Female        Married       Graduate           34900   \n",
              "\n",
              "       employment_type  years_of_employment  company_type house_type  \\\n",
              "0              Private                  0.9      Mid-size     Rented   \n",
              "1              Private                  7.0           MNC     Family   \n",
              "2              Private                  5.8       Startup        Own   \n",
              "3              Private                  2.2      Mid-size        Own   \n",
              "4              Private                  3.4      Mid-size     Family   \n",
              "...                ...                  ...           ...        ...   \n",
              "404795         Private                  5.0  Large Indian     Rented   \n",
              "404796         Private                  1.9           MNC        Own   \n",
              "404797         Private                  3.2           MNC     Rented   \n",
              "404798         Private                  3.0           MNC        Own   \n",
              "404799         Private                  1.2           MNC     Family   \n",
              "\n",
              "        monthly_rent  family_size  dependents  school_fees  college_fees  \\\n",
              "0            20000.0            3           2          0.0           0.0   \n",
              "1                0.0            2           1       5100.0           0.0   \n",
              "2                0.0            4           3          0.0           0.0   \n",
              "3                0.0            5           4      11400.0           0.0   \n",
              "4                0.0            4           3       9400.0       21300.0   \n",
              "...              ...          ...         ...          ...           ...   \n",
              "404795       10400.0            4           3       2800.0        7000.0   \n",
              "404796           0.0            5           4      14000.0           0.0   \n",
              "404797        6300.0            1           0          0.0           0.0   \n",
              "404798           0.0            4           3          0.0           0.0   \n",
              "404799           0.0            2           1          0.0           0.0   \n",
              "\n",
              "        travel_expenses  groceries_utilities  other_monthly_expenses  \\\n",
              "0                7200.0              19500.0                 13200.0   \n",
              "1                1400.0               5400.0                  3500.0   \n",
              "2               10200.0              19400.0                  6000.0   \n",
              "3                6200.0              11900.0                  7900.0   \n",
              "4                3600.0              16200.0                  8100.0   \n",
              "...                 ...                  ...                     ...   \n",
              "404795           2200.0               4900.0                  6100.0   \n",
              "404796           2600.0              13600.0                  8600.0   \n",
              "404797           2000.0               4600.0                  2500.0   \n",
              "404798           7000.0               8900.0                  7200.0   \n",
              "404799           4800.0               8100.0                  2100.0   \n",
              "\n",
              "       existing_loans  current_emi_amount  credit_score  bank_balance  \\\n",
              "0                 Yes             23700.0         660.0      303200.0   \n",
              "1                 Yes              4100.0         714.0       92500.0   \n",
              "2                  No                 0.0         650.0      672100.0   \n",
              "3                  No                 0.0         685.0      440900.0   \n",
              "4                  No                 0.0         770.0       97300.0   \n",
              "...               ...                 ...           ...           ...   \n",
              "404795             No                 0.0         649.0       62000.0   \n",
              "404796             No                 0.0         712.0      142200.0   \n",
              "404797             No                 0.0         676.0      191600.0   \n",
              "404798             No                 0.0         784.0      170400.0   \n",
              "404799             No                 0.0         641.0      214400.0   \n",
              "\n",
              "        emergency_fund             emi_scenario  requested_amount  \\\n",
              "0              70200.0        Personal Loan EMI          850000.0   \n",
              "1              26900.0  E-commerce Shopping EMI          128000.0   \n",
              "2             324200.0            Education EMI          306000.0   \n",
              "3             178100.0              Vehicle EMI          304000.0   \n",
              "4              28200.0      Home Appliances EMI          252000.0   \n",
              "...                ...                      ...               ...   \n",
              "404795         32600.0        Personal Loan EMI          506000.0   \n",
              "404796         38100.0        Personal Loan EMI          708000.0   \n",
              "404797         39700.0      Home Appliances EMI           93000.0   \n",
              "404798         45600.0      Home Appliances EMI          144000.0   \n",
              "404799         99400.0      Home Appliances EMI           77000.0   \n",
              "\n",
              "        requested_tenure emi_eligibility  max_monthly_emi  \n",
              "0                     15    Not_Eligible            500.0  \n",
              "1                     19    Not_Eligible            700.0  \n",
              "2                     16        Eligible          27775.0  \n",
              "3                     83        Eligible          16170.0  \n",
              "4                      7    Not_Eligible            500.0  \n",
              "...                  ...             ...              ...  \n",
              "404795                47    Not_Eligible            500.0  \n",
              "404796                33    Not_Eligible           5200.0  \n",
              "404797                21       High_Risk           5665.0  \n",
              "404798                36        Eligible          14460.0  \n",
              "404799                35        Eligible           8756.0  \n",
              "\n",
              "[404800 rows x 27 columns]"
            ]
          },
          "execution_count": 120,
          "metadata": {},
          "output_type": "execute_result"
        }
      ],
      "source": [
        "df"
      ]
    },
    {
      "cell_type": "code",
      "execution_count": null,
      "metadata": {},
      "outputs": [],
      "source": []
    }
  ],
  "metadata": {
    "colab": {
      "provenance": []
    },
    "kernelspec": {
      "display_name": "Python 3",
      "name": "python3"
    },
    "language_info": {
      "codemirror_mode": {
        "name": "ipython",
        "version": 3
      },
      "file_extension": ".py",
      "mimetype": "text/x-python",
      "name": "python",
      "nbconvert_exporter": "python",
      "pygments_lexer": "ipython3",
      "version": "3.13.7"
    }
  },
  "nbformat": 4,
  "nbformat_minor": 0
}
